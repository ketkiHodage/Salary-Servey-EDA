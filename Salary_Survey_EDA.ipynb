{
  "cells": [
    {
      "cell_type": "markdown",
      "id": "76806ef5",
      "metadata": {
        "id": "76806ef5"
      },
      "source": [
        "### Import libraries "
      ]
    },
    {
      "cell_type": "code",
      "execution_count": null,
      "id": "fa6aa755",
      "metadata": {
        "id": "fa6aa755"
      },
      "outputs": [],
      "source": [
        "import numpy as np\n",
        "import pandas as pd\n",
        "import matplotlib.pyplot as plt\n",
        "import seaborn as sns"
      ]
    },
    {
      "cell_type": "markdown",
      "id": "2d9538d9",
      "metadata": {
        "id": "2d9538d9"
      },
      "source": [
        "### Load and view the data"
      ]
    },
    {
      "cell_type": "code",
      "execution_count": null,
      "id": "5db1f6e7",
      "metadata": {
        "id": "5db1f6e7"
      },
      "outputs": [],
      "source": [
        "df = pd.read_csv('salary_survey.csv')"
      ]
    },
    {
      "cell_type": "code",
      "execution_count": null,
      "id": "1bcc17bb",
      "metadata": {
        "id": "1bcc17bb",
        "outputId": "f9a29001-31a1-4a2a-cfb2-8920e44a7a07"
      },
      "outputs": [
        {
          "data": {
            "text/html": [
              "<div>\n",
              "<style scoped>\n",
              "    .dataframe tbody tr th:only-of-type {\n",
              "        vertical-align: middle;\n",
              "    }\n",
              "\n",
              "    .dataframe tbody tr th {\n",
              "        vertical-align: top;\n",
              "    }\n",
              "\n",
              "    .dataframe thead th {\n",
              "        text-align: right;\n",
              "    }\n",
              "</style>\n",
              "<table border=\"1\" class=\"dataframe\">\n",
              "  <thead>\n",
              "    <tr style=\"text-align: right;\">\n",
              "      <th></th>\n",
              "      <th>Timestamp</th>\n",
              "      <th>Age</th>\n",
              "      <th>Gender</th>\n",
              "      <th>City</th>\n",
              "      <th>Position</th>\n",
              "      <th>Total experience</th>\n",
              "      <th>Experience in Germany</th>\n",
              "      <th>Seniority level</th>\n",
              "      <th>Main technology</th>\n",
              "      <th>Annual Salary in EUR</th>\n",
              "      <th>Bonus in EUR</th>\n",
              "      <th>Number of vacation days</th>\n",
              "      <th>Employment status</th>\n",
              "      <th>Contract duration</th>\n",
              "      <th>Main language at work</th>\n",
              "      <th>Company type</th>\n",
              "    </tr>\n",
              "  </thead>\n",
              "  <tbody>\n",
              "    <tr>\n",
              "      <th>0</th>\n",
              "      <td>24-11-2020 11:14</td>\n",
              "      <td>26.0</td>\n",
              "      <td>Male</td>\n",
              "      <td>Munich</td>\n",
              "      <td>Software Engineer</td>\n",
              "      <td>5</td>\n",
              "      <td>3</td>\n",
              "      <td>Senior</td>\n",
              "      <td>TypeScript</td>\n",
              "      <td>80000.0</td>\n",
              "      <td>5000</td>\n",
              "      <td>30</td>\n",
              "      <td>Full-time employee</td>\n",
              "      <td>Unlimited contract</td>\n",
              "      <td>English</td>\n",
              "      <td>Product</td>\n",
              "    </tr>\n",
              "    <tr>\n",
              "      <th>1</th>\n",
              "      <td>24-11-2020 11:14</td>\n",
              "      <td>26.0</td>\n",
              "      <td>Male</td>\n",
              "      <td>Berlin</td>\n",
              "      <td>Backend Developer</td>\n",
              "      <td>7</td>\n",
              "      <td>4</td>\n",
              "      <td>Senior</td>\n",
              "      <td>Ruby</td>\n",
              "      <td>80000.0</td>\n",
              "      <td>NaN</td>\n",
              "      <td>28</td>\n",
              "      <td>Full-time employee</td>\n",
              "      <td>Unlimited contract</td>\n",
              "      <td>English</td>\n",
              "      <td>Product</td>\n",
              "    </tr>\n",
              "    <tr>\n",
              "      <th>2</th>\n",
              "      <td>24-11-2020 11:14</td>\n",
              "      <td>29.0</td>\n",
              "      <td>Male</td>\n",
              "      <td>Berlin</td>\n",
              "      <td>Software Engineer</td>\n",
              "      <td>12</td>\n",
              "      <td>6</td>\n",
              "      <td>Lead</td>\n",
              "      <td>Javascript / Typescript</td>\n",
              "      <td>120000.0</td>\n",
              "      <td>120000</td>\n",
              "      <td>30</td>\n",
              "      <td>Self-employed (freelancer)</td>\n",
              "      <td>Temporary contract</td>\n",
              "      <td>English</td>\n",
              "      <td>Product</td>\n",
              "    </tr>\n",
              "    <tr>\n",
              "      <th>3</th>\n",
              "      <td>24-11-2020 11:15</td>\n",
              "      <td>28.0</td>\n",
              "      <td>Male</td>\n",
              "      <td>Berlin</td>\n",
              "      <td>Frontend Developer</td>\n",
              "      <td>4</td>\n",
              "      <td>1</td>\n",
              "      <td>Junior</td>\n",
              "      <td>Javascript</td>\n",
              "      <td>54000.0</td>\n",
              "      <td>NaN</td>\n",
              "      <td>24</td>\n",
              "      <td>Full-time employee</td>\n",
              "      <td>Unlimited contract</td>\n",
              "      <td>English</td>\n",
              "      <td>Startup</td>\n",
              "    </tr>\n",
              "    <tr>\n",
              "      <th>4</th>\n",
              "      <td>24-11-2020 11:15</td>\n",
              "      <td>37.0</td>\n",
              "      <td>Male</td>\n",
              "      <td>Berlin</td>\n",
              "      <td>Backend Developer</td>\n",
              "      <td>17</td>\n",
              "      <td>6</td>\n",
              "      <td>Senior</td>\n",
              "      <td>C# .NET</td>\n",
              "      <td>62000.0</td>\n",
              "      <td>NaN</td>\n",
              "      <td>29</td>\n",
              "      <td>Full-time employee</td>\n",
              "      <td>Unlimited contract</td>\n",
              "      <td>English</td>\n",
              "      <td>Product</td>\n",
              "    </tr>\n",
              "  </tbody>\n",
              "</table>\n",
              "</div>"
            ],
            "text/plain": [
              "          Timestamp   Age Gender    City           Position  Total experience  \\\n",
              "0  24-11-2020 11:14  26.0   Male  Munich   Software Engineer                5   \n",
              "1  24-11-2020 11:14  26.0   Male  Berlin   Backend Developer                7   \n",
              "2  24-11-2020 11:14  29.0   Male  Berlin   Software Engineer               12   \n",
              "3  24-11-2020 11:15  28.0   Male  Berlin  Frontend Developer                4   \n",
              "4  24-11-2020 11:15  37.0   Male  Berlin   Backend Developer               17   \n",
              "\n",
              "  Experience in Germany Seniority level          Main technology  \\\n",
              "0                     3          Senior               TypeScript   \n",
              "1                     4          Senior                     Ruby   \n",
              "2                     6            Lead  Javascript / Typescript   \n",
              "3                     1          Junior               Javascript   \n",
              "4                     6          Senior                  C# .NET   \n",
              "\n",
              "   Annual Salary in EUR Bonus in EUR Number of vacation days  \\\n",
              "0               80000.0         5000                      30   \n",
              "1               80000.0          NaN                      28   \n",
              "2              120000.0       120000                      30   \n",
              "3               54000.0          NaN                      24   \n",
              "4               62000.0          NaN                      29   \n",
              "\n",
              "            Employment status   Contract duration Main language at work  \\\n",
              "0          Full-time employee  Unlimited contract               English   \n",
              "1          Full-time employee  Unlimited contract               English   \n",
              "2  Self-employed (freelancer)  Temporary contract               English   \n",
              "3          Full-time employee  Unlimited contract               English   \n",
              "4          Full-time employee  Unlimited contract               English   \n",
              "\n",
              "  Company type  \n",
              "0      Product  \n",
              "1      Product  \n",
              "2      Product  \n",
              "3      Startup  \n",
              "4      Product  "
            ]
          },
          "execution_count": 3,
          "metadata": {},
          "output_type": "execute_result"
        }
      ],
      "source": [
        "df.head()"
      ]
    },
    {
      "cell_type": "code",
      "execution_count": null,
      "id": "b9788641",
      "metadata": {
        "id": "b9788641",
        "outputId": "e03e065c-e314-4ea9-b9f2-bc661e002261"
      },
      "outputs": [
        {
          "data": {
            "text/html": [
              "<div>\n",
              "<style scoped>\n",
              "    .dataframe tbody tr th:only-of-type {\n",
              "        vertical-align: middle;\n",
              "    }\n",
              "\n",
              "    .dataframe tbody tr th {\n",
              "        vertical-align: top;\n",
              "    }\n",
              "\n",
              "    .dataframe thead th {\n",
              "        text-align: right;\n",
              "    }\n",
              "</style>\n",
              "<table border=\"1\" class=\"dataframe\">\n",
              "  <thead>\n",
              "    <tr style=\"text-align: right;\">\n",
              "      <th></th>\n",
              "      <th>Timestamp</th>\n",
              "      <th>Age</th>\n",
              "      <th>Gender</th>\n",
              "      <th>City</th>\n",
              "      <th>Position</th>\n",
              "      <th>Total experience</th>\n",
              "      <th>Experience in Germany</th>\n",
              "      <th>Seniority level</th>\n",
              "      <th>Main technology</th>\n",
              "      <th>Annual Salary in EUR</th>\n",
              "      <th>Bonus in EUR</th>\n",
              "      <th>Number of vacation days</th>\n",
              "      <th>Employment status</th>\n",
              "      <th>Contract duration</th>\n",
              "      <th>Main language at work</th>\n",
              "      <th>Company type</th>\n",
              "    </tr>\n",
              "  </thead>\n",
              "  <tbody>\n",
              "    <tr>\n",
              "      <th>1248</th>\n",
              "      <td>18-01-2021 15:05</td>\n",
              "      <td>31.0</td>\n",
              "      <td>Male</td>\n",
              "      <td>Berlin</td>\n",
              "      <td>Backend Developer</td>\n",
              "      <td>9</td>\n",
              "      <td>5</td>\n",
              "      <td>Senior</td>\n",
              "      <td>Java</td>\n",
              "      <td>70000.0</td>\n",
              "      <td>72000</td>\n",
              "      <td>26</td>\n",
              "      <td>Full-time employee</td>\n",
              "      <td>Unlimited contract</td>\n",
              "      <td>English</td>\n",
              "      <td>Product</td>\n",
              "    </tr>\n",
              "    <tr>\n",
              "      <th>1249</th>\n",
              "      <td>18-01-2021 17:46</td>\n",
              "      <td>33.0</td>\n",
              "      <td>Male</td>\n",
              "      <td>Berlin</td>\n",
              "      <td>Researcher/ Consumer Insights Analyst</td>\n",
              "      <td>10</td>\n",
              "      <td>1.5</td>\n",
              "      <td>Senior</td>\n",
              "      <td>consumer analysis</td>\n",
              "      <td>60000.0</td>\n",
              "      <td>3000</td>\n",
              "      <td>unlimited</td>\n",
              "      <td>Full-time employee</td>\n",
              "      <td>Unlimited contract</td>\n",
              "      <td>English</td>\n",
              "      <td>Product</td>\n",
              "    </tr>\n",
              "    <tr>\n",
              "      <th>1250</th>\n",
              "      <td>18-01-2021 23:20</td>\n",
              "      <td>39.0</td>\n",
              "      <td>Male</td>\n",
              "      <td>Munich</td>\n",
              "      <td>IT Operations Manager</td>\n",
              "      <td>15</td>\n",
              "      <td>2</td>\n",
              "      <td>Lead</td>\n",
              "      <td>PHP</td>\n",
              "      <td>110000.0</td>\n",
              "      <td>0</td>\n",
              "      <td>28</td>\n",
              "      <td>Full-time employee</td>\n",
              "      <td>Unlimited contract</td>\n",
              "      <td>English</td>\n",
              "      <td>eCommerce</td>\n",
              "    </tr>\n",
              "    <tr>\n",
              "      <th>1251</th>\n",
              "      <td>19-01-2021 10:17</td>\n",
              "      <td>26.0</td>\n",
              "      <td>Male</td>\n",
              "      <td>Saarbrücken</td>\n",
              "      <td>Frontend Developer</td>\n",
              "      <td>7</td>\n",
              "      <td>7</td>\n",
              "      <td>Middle</td>\n",
              "      <td>JavaScript</td>\n",
              "      <td>38350.0</td>\n",
              "      <td>40950</td>\n",
              "      <td>27</td>\n",
              "      <td>Full-time employee</td>\n",
              "      <td>Unlimited contract</td>\n",
              "      <td>German</td>\n",
              "      <td>Product</td>\n",
              "    </tr>\n",
              "    <tr>\n",
              "      <th>1252</th>\n",
              "      <td>19-01-2021 12:01</td>\n",
              "      <td>26.0</td>\n",
              "      <td>Male</td>\n",
              "      <td>Berlin</td>\n",
              "      <td>DevOps</td>\n",
              "      <td>2</td>\n",
              "      <td>2</td>\n",
              "      <td>Middle</td>\n",
              "      <td>yaml</td>\n",
              "      <td>65000.0</td>\n",
              "      <td>6500</td>\n",
              "      <td>30</td>\n",
              "      <td>Full-time employee</td>\n",
              "      <td>Unlimited contract</td>\n",
              "      <td>English</td>\n",
              "      <td>Startup</td>\n",
              "    </tr>\n",
              "  </tbody>\n",
              "</table>\n",
              "</div>"
            ],
            "text/plain": [
              "             Timestamp   Age Gender         City  \\\n",
              "1248  18-01-2021 15:05  31.0   Male       Berlin   \n",
              "1249  18-01-2021 17:46  33.0   Male       Berlin   \n",
              "1250  18-01-2021 23:20  39.0   Male       Munich   \n",
              "1251  19-01-2021 10:17  26.0   Male  Saarbrücken   \n",
              "1252  19-01-2021 12:01  26.0   Male       Berlin   \n",
              "\n",
              "                                   Position  Total experience  \\\n",
              "1248                       Backend Developer                9   \n",
              "1249  Researcher/ Consumer Insights Analyst                10   \n",
              "1250                   IT Operations Manager               15   \n",
              "1251                      Frontend Developer                7   \n",
              "1252                                  DevOps                2   \n",
              "\n",
              "     Experience in Germany Seniority level    Main technology  \\\n",
              "1248                     5          Senior               Java   \n",
              "1249                   1.5          Senior  consumer analysis   \n",
              "1250                     2            Lead                PHP   \n",
              "1251                     7          Middle         JavaScript   \n",
              "1252                     2          Middle               yaml   \n",
              "\n",
              "      Annual Salary in EUR Bonus in EUR Number of vacation days  \\\n",
              "1248               70000.0        72000                      26   \n",
              "1249               60000.0         3000              unlimited    \n",
              "1250              110000.0            0                      28   \n",
              "1251               38350.0        40950                      27   \n",
              "1252               65000.0         6500                      30   \n",
              "\n",
              "       Employment status   Contract duration Main language at work  \\\n",
              "1248  Full-time employee  Unlimited contract               English   \n",
              "1249  Full-time employee  Unlimited contract               English   \n",
              "1250  Full-time employee  Unlimited contract               English   \n",
              "1251  Full-time employee  Unlimited contract                German   \n",
              "1252  Full-time employee  Unlimited contract               English   \n",
              "\n",
              "     Company type  \n",
              "1248      Product  \n",
              "1249      Product  \n",
              "1250    eCommerce  \n",
              "1251      Product  \n",
              "1252      Startup  "
            ]
          },
          "execution_count": 4,
          "metadata": {},
          "output_type": "execute_result"
        }
      ],
      "source": [
        "df.tail()"
      ]
    },
    {
      "cell_type": "code",
      "execution_count": null,
      "id": "e51a1760",
      "metadata": {
        "id": "e51a1760",
        "outputId": "ae0056db-1797-47ed-c93b-d47a7a87db0d"
      },
      "outputs": [
        {
          "name": "stdout",
          "output_type": "stream",
          "text": [
            "<class 'pandas.core.frame.DataFrame'>\n",
            "RangeIndex: 1253 entries, 0 to 1252\n",
            "Data columns (total 16 columns):\n",
            " #   Column                   Non-Null Count  Dtype  \n",
            "---  ------                   --------------  -----  \n",
            " 0   Timestamp                1253 non-null   object \n",
            " 1   Age                      1226 non-null   float64\n",
            " 2   Gender                   1243 non-null   object \n",
            " 3   City                     1253 non-null   object \n",
            " 4   Position                 1247 non-null   object \n",
            " 5   Total experience         1237 non-null   object \n",
            " 6   Experience in Germany    1221 non-null   object \n",
            " 7   Seniority level          1241 non-null   object \n",
            " 8   Main technology          1126 non-null   object \n",
            " 9   Annual Salary in EUR     1253 non-null   float64\n",
            " 10  Bonus in EUR             829 non-null    object \n",
            " 11  Number of vacation days  1185 non-null   object \n",
            " 12  Employment status        1236 non-null   object \n",
            " 13  Contract duration        1224 non-null   object \n",
            " 14  Main language at work    1237 non-null   object \n",
            " 15  Company type             1228 non-null   object \n",
            "dtypes: float64(2), object(14)\n",
            "memory usage: 156.8+ KB\n"
          ]
        }
      ],
      "source": [
        "df.info()"
      ]
    },
    {
      "cell_type": "code",
      "execution_count": null,
      "id": "24cd1c33",
      "metadata": {
        "id": "24cd1c33",
        "outputId": "bca90c35-8822-4a26-88bb-0619d51cc58f"
      },
      "outputs": [
        {
          "data": {
            "text/html": [
              "<div>\n",
              "<style scoped>\n",
              "    .dataframe tbody tr th:only-of-type {\n",
              "        vertical-align: middle;\n",
              "    }\n",
              "\n",
              "    .dataframe tbody tr th {\n",
              "        vertical-align: top;\n",
              "    }\n",
              "\n",
              "    .dataframe thead th {\n",
              "        text-align: right;\n",
              "    }\n",
              "</style>\n",
              "<table border=\"1\" class=\"dataframe\">\n",
              "  <thead>\n",
              "    <tr style=\"text-align: right;\">\n",
              "      <th></th>\n",
              "      <th>count</th>\n",
              "      <th>unique</th>\n",
              "      <th>top</th>\n",
              "      <th>freq</th>\n",
              "      <th>mean</th>\n",
              "      <th>std</th>\n",
              "      <th>min</th>\n",
              "      <th>25%</th>\n",
              "      <th>50%</th>\n",
              "      <th>75%</th>\n",
              "      <th>max</th>\n",
              "    </tr>\n",
              "  </thead>\n",
              "  <tbody>\n",
              "    <tr>\n",
              "      <th>Timestamp</th>\n",
              "      <td>1253</td>\n",
              "      <td>1026</td>\n",
              "      <td>24-11-2020 11:44</td>\n",
              "      <td>7</td>\n",
              "      <td>NaN</td>\n",
              "      <td>NaN</td>\n",
              "      <td>NaN</td>\n",
              "      <td>NaN</td>\n",
              "      <td>NaN</td>\n",
              "      <td>NaN</td>\n",
              "      <td>NaN</td>\n",
              "    </tr>\n",
              "    <tr>\n",
              "      <th>Age</th>\n",
              "      <td>1226.0</td>\n",
              "      <td>NaN</td>\n",
              "      <td>NaN</td>\n",
              "      <td>NaN</td>\n",
              "      <td>32.509788</td>\n",
              "      <td>5.663804</td>\n",
              "      <td>20.0</td>\n",
              "      <td>29.0</td>\n",
              "      <td>32.0</td>\n",
              "      <td>35.0</td>\n",
              "      <td>69.0</td>\n",
              "    </tr>\n",
              "    <tr>\n",
              "      <th>Gender</th>\n",
              "      <td>1243</td>\n",
              "      <td>3</td>\n",
              "      <td>Male</td>\n",
              "      <td>1049</td>\n",
              "      <td>NaN</td>\n",
              "      <td>NaN</td>\n",
              "      <td>NaN</td>\n",
              "      <td>NaN</td>\n",
              "      <td>NaN</td>\n",
              "      <td>NaN</td>\n",
              "      <td>NaN</td>\n",
              "    </tr>\n",
              "    <tr>\n",
              "      <th>City</th>\n",
              "      <td>1253</td>\n",
              "      <td>119</td>\n",
              "      <td>Berlin</td>\n",
              "      <td>681</td>\n",
              "      <td>NaN</td>\n",
              "      <td>NaN</td>\n",
              "      <td>NaN</td>\n",
              "      <td>NaN</td>\n",
              "      <td>NaN</td>\n",
              "      <td>NaN</td>\n",
              "      <td>NaN</td>\n",
              "    </tr>\n",
              "    <tr>\n",
              "      <th>Position</th>\n",
              "      <td>1247</td>\n",
              "      <td>148</td>\n",
              "      <td>Software Engineer</td>\n",
              "      <td>387</td>\n",
              "      <td>NaN</td>\n",
              "      <td>NaN</td>\n",
              "      <td>NaN</td>\n",
              "      <td>NaN</td>\n",
              "      <td>NaN</td>\n",
              "      <td>NaN</td>\n",
              "      <td>NaN</td>\n",
              "    </tr>\n",
              "    <tr>\n",
              "      <th>Total experience</th>\n",
              "      <td>1237</td>\n",
              "      <td>48</td>\n",
              "      <td>10</td>\n",
              "      <td>138</td>\n",
              "      <td>NaN</td>\n",
              "      <td>NaN</td>\n",
              "      <td>NaN</td>\n",
              "      <td>NaN</td>\n",
              "      <td>NaN</td>\n",
              "      <td>NaN</td>\n",
              "      <td>NaN</td>\n",
              "    </tr>\n",
              "    <tr>\n",
              "      <th>Experience in Germany</th>\n",
              "      <td>1221</td>\n",
              "      <td>53</td>\n",
              "      <td>2</td>\n",
              "      <td>195</td>\n",
              "      <td>NaN</td>\n",
              "      <td>NaN</td>\n",
              "      <td>NaN</td>\n",
              "      <td>NaN</td>\n",
              "      <td>NaN</td>\n",
              "      <td>NaN</td>\n",
              "      <td>NaN</td>\n",
              "    </tr>\n",
              "    <tr>\n",
              "      <th>Seniority level</th>\n",
              "      <td>1241</td>\n",
              "      <td>24</td>\n",
              "      <td>Senior</td>\n",
              "      <td>565</td>\n",
              "      <td>NaN</td>\n",
              "      <td>NaN</td>\n",
              "      <td>NaN</td>\n",
              "      <td>NaN</td>\n",
              "      <td>NaN</td>\n",
              "      <td>NaN</td>\n",
              "      <td>NaN</td>\n",
              "    </tr>\n",
              "    <tr>\n",
              "      <th>Main technology</th>\n",
              "      <td>1126</td>\n",
              "      <td>256</td>\n",
              "      <td>Java</td>\n",
              "      <td>184</td>\n",
              "      <td>NaN</td>\n",
              "      <td>NaN</td>\n",
              "      <td>NaN</td>\n",
              "      <td>NaN</td>\n",
              "      <td>NaN</td>\n",
              "      <td>NaN</td>\n",
              "      <td>NaN</td>\n",
              "    </tr>\n",
              "    <tr>\n",
              "      <th>Annual Salary in EUR</th>\n",
              "      <td>1253.0</td>\n",
              "      <td>NaN</td>\n",
              "      <td>NaN</td>\n",
              "      <td>NaN</td>\n",
              "      <td>80279042.578715</td>\n",
              "      <td>2825061107.590495</td>\n",
              "      <td>10001.0</td>\n",
              "      <td>58800.0</td>\n",
              "      <td>70000.0</td>\n",
              "      <td>80000.0</td>\n",
              "      <td>99999999999.0</td>\n",
              "    </tr>\n",
              "    <tr>\n",
              "      <th>Bonus in EUR</th>\n",
              "      <td>829</td>\n",
              "      <td>168</td>\n",
              "      <td>0</td>\n",
              "      <td>227</td>\n",
              "      <td>NaN</td>\n",
              "      <td>NaN</td>\n",
              "      <td>NaN</td>\n",
              "      <td>NaN</td>\n",
              "      <td>NaN</td>\n",
              "      <td>NaN</td>\n",
              "      <td>NaN</td>\n",
              "    </tr>\n",
              "    <tr>\n",
              "      <th>Number of vacation days</th>\n",
              "      <td>1185</td>\n",
              "      <td>45</td>\n",
              "      <td>30</td>\n",
              "      <td>488</td>\n",
              "      <td>NaN</td>\n",
              "      <td>NaN</td>\n",
              "      <td>NaN</td>\n",
              "      <td>NaN</td>\n",
              "      <td>NaN</td>\n",
              "      <td>NaN</td>\n",
              "      <td>NaN</td>\n",
              "    </tr>\n",
              "    <tr>\n",
              "      <th>Employment status</th>\n",
              "      <td>1236</td>\n",
              "      <td>11</td>\n",
              "      <td>Full-time employee</td>\n",
              "      <td>1190</td>\n",
              "      <td>NaN</td>\n",
              "      <td>NaN</td>\n",
              "      <td>NaN</td>\n",
              "      <td>NaN</td>\n",
              "      <td>NaN</td>\n",
              "      <td>NaN</td>\n",
              "      <td>NaN</td>\n",
              "    </tr>\n",
              "    <tr>\n",
              "      <th>Contract duration</th>\n",
              "      <td>1224</td>\n",
              "      <td>3</td>\n",
              "      <td>Unlimited contract</td>\n",
              "      <td>1159</td>\n",
              "      <td>NaN</td>\n",
              "      <td>NaN</td>\n",
              "      <td>NaN</td>\n",
              "      <td>NaN</td>\n",
              "      <td>NaN</td>\n",
              "      <td>NaN</td>\n",
              "      <td>NaN</td>\n",
              "    </tr>\n",
              "    <tr>\n",
              "      <th>Main language at work</th>\n",
              "      <td>1237</td>\n",
              "      <td>14</td>\n",
              "      <td>English</td>\n",
              "      <td>1020</td>\n",
              "      <td>NaN</td>\n",
              "      <td>NaN</td>\n",
              "      <td>NaN</td>\n",
              "      <td>NaN</td>\n",
              "      <td>NaN</td>\n",
              "      <td>NaN</td>\n",
              "      <td>NaN</td>\n",
              "    </tr>\n",
              "    <tr>\n",
              "      <th>Company type</th>\n",
              "      <td>1228</td>\n",
              "      <td>63</td>\n",
              "      <td>Product</td>\n",
              "      <td>760</td>\n",
              "      <td>NaN</td>\n",
              "      <td>NaN</td>\n",
              "      <td>NaN</td>\n",
              "      <td>NaN</td>\n",
              "      <td>NaN</td>\n",
              "      <td>NaN</td>\n",
              "      <td>NaN</td>\n",
              "    </tr>\n",
              "  </tbody>\n",
              "</table>\n",
              "</div>"
            ],
            "text/plain": [
              "                          count unique                 top  freq  \\\n",
              "Timestamp                  1253   1026    24-11-2020 11:44     7   \n",
              "Age                      1226.0    NaN                 NaN   NaN   \n",
              "Gender                     1243      3                Male  1049   \n",
              "City                       1253    119              Berlin   681   \n",
              "Position                   1247    148   Software Engineer   387   \n",
              "Total experience           1237     48                  10   138   \n",
              "Experience in Germany      1221     53                   2   195   \n",
              "Seniority level            1241     24              Senior   565   \n",
              "Main technology            1126    256                Java   184   \n",
              "Annual Salary in EUR     1253.0    NaN                 NaN   NaN   \n",
              "Bonus in EUR                829    168                   0   227   \n",
              "Number of vacation days    1185     45                  30   488   \n",
              "Employment status          1236     11  Full-time employee  1190   \n",
              "Contract duration          1224      3  Unlimited contract  1159   \n",
              "Main language at work      1237     14             English  1020   \n",
              "Company type               1228     63             Product   760   \n",
              "\n",
              "                                    mean                std      min      25%  \\\n",
              "Timestamp                            NaN                NaN      NaN      NaN   \n",
              "Age                            32.509788           5.663804     20.0     29.0   \n",
              "Gender                               NaN                NaN      NaN      NaN   \n",
              "City                                 NaN                NaN      NaN      NaN   \n",
              "Position                             NaN                NaN      NaN      NaN   \n",
              "Total experience                     NaN                NaN      NaN      NaN   \n",
              "Experience in Germany                NaN                NaN      NaN      NaN   \n",
              "Seniority level                      NaN                NaN      NaN      NaN   \n",
              "Main technology                      NaN                NaN      NaN      NaN   \n",
              "Annual Salary in EUR     80279042.578715  2825061107.590495  10001.0  58800.0   \n",
              "Bonus in EUR                         NaN                NaN      NaN      NaN   \n",
              "Number of vacation days              NaN                NaN      NaN      NaN   \n",
              "Employment status                    NaN                NaN      NaN      NaN   \n",
              "Contract duration                    NaN                NaN      NaN      NaN   \n",
              "Main language at work                NaN                NaN      NaN      NaN   \n",
              "Company type                         NaN                NaN      NaN      NaN   \n",
              "\n",
              "                             50%      75%            max  \n",
              "Timestamp                    NaN      NaN            NaN  \n",
              "Age                         32.0     35.0           69.0  \n",
              "Gender                       NaN      NaN            NaN  \n",
              "City                         NaN      NaN            NaN  \n",
              "Position                     NaN      NaN            NaN  \n",
              "Total experience             NaN      NaN            NaN  \n",
              "Experience in Germany        NaN      NaN            NaN  \n",
              "Seniority level              NaN      NaN            NaN  \n",
              "Main technology              NaN      NaN            NaN  \n",
              "Annual Salary in EUR     70000.0  80000.0  99999999999.0  \n",
              "Bonus in EUR                 NaN      NaN            NaN  \n",
              "Number of vacation days      NaN      NaN            NaN  \n",
              "Employment status            NaN      NaN            NaN  \n",
              "Contract duration            NaN      NaN            NaN  \n",
              "Main language at work        NaN      NaN            NaN  \n",
              "Company type                 NaN      NaN            NaN  "
            ]
          },
          "execution_count": 6,
          "metadata": {},
          "output_type": "execute_result"
        }
      ],
      "source": [
        "df.describe(include='all').T"
      ]
    },
    {
      "cell_type": "markdown",
      "id": "65ca3699",
      "metadata": {
        "id": "65ca3699"
      },
      "source": [
        "#### Observations:\n",
        "\n",
        "There are missing values in all features except 'Timestamp', 'City', 'Annual Salary in EUR'. Numeric features like 'Total experience', 'Experience in Germany', 'Bonus in EUR' etc. are identified as 'object' data type indicating that it contains bad data which has to be cleaned. Maximum value in 'Annual Salary in EUR' feature is 99999999999.0 which appears to be invlaid data. Special characters available in data have to be cleaned in order to avoid any unexpected errors in future."
      ]
    },
    {
      "cell_type": "markdown",
      "id": "aeff43ba",
      "metadata": {
        "id": "aeff43ba"
      },
      "source": [
        "### Data Cleanup"
      ]
    },
    {
      "cell_type": "code",
      "execution_count": null,
      "id": "15973d2a",
      "metadata": {
        "id": "15973d2a",
        "outputId": "b98bae62-86d6-4a8c-b7a2-251663e4dd30"
      },
      "outputs": [
        {
          "data": {
            "text/plain": [
              "Index(['0', '0.8', '1', '1 (as QA Engineer) / 11 in total', '1,5', '1.5', '10',\n",
              "       '11', '12', '13', '14', '15', '15, thereof 8 as CTO', '16', '17', '18',\n",
              "       '19', '2', '2,5', '2.5', '20', '21', '22', '23', '24', '25', '26', '27',\n",
              "       '28', '29', '3', '3.5', '30', '31', '383', '4', '4.5', '40', '5', '5.5',\n",
              "       '6', '6 (not as a data scientist, but as a lab scientist)', '6.5', '7',\n",
              "       '7.5', '8', '9', 'less than year'],\n",
              "      dtype='object')"
            ]
          },
          "execution_count": 7,
          "metadata": {},
          "output_type": "execute_result"
        }
      ],
      "source": [
        "df['Total experience'].value_counts().index.sort_values()"
      ]
    },
    {
      "cell_type": "markdown",
      "id": "b1fa9d4c",
      "metadata": {
        "id": "b1fa9d4c"
      },
      "source": [
        "#### Approach:\n",
        "\n",
        "1) Split data based on space and retain only 1st part\n",
        "\n",
        "2) Replace invalid data with valid numeric values\n",
        "\n",
        "3) Convert to float datatype\n",
        "\n",
        "All the above is done in a new column in dataframe so that it can be compared with old column values"
      ]
    },
    {
      "cell_type": "code",
      "execution_count": null,
      "id": "06c613a0",
      "metadata": {
        "id": "06c613a0"
      },
      "outputs": [],
      "source": [
        "df['Total experience_1'] = df['Total experience'].str.split(\" \").str[0] # Split data on \" \" and retain only 1st part"
      ]
    },
    {
      "cell_type": "code",
      "execution_count": null,
      "id": "2e1c55f4",
      "metadata": {
        "id": "2e1c55f4",
        "outputId": "4b1ed77c-4bda-455f-fb41-901b8295f4d6"
      },
      "outputs": [
        {
          "data": {
            "text/plain": [
              "Index(['0', '0.8', '1', '1,5', '1.5', '10', '11', '12', '13', '14', '15',\n",
              "       '15,', '16', '17', '18', '19', '2', '2,5', '2.5', '20', '21', '22',\n",
              "       '23', '24', '25', '26', '27', '28', '29', '3', '3.5', '30', '31', '383',\n",
              "       '4', '4.5', '40', '5', '5.5', '6', '6.5', '7', '7.5', '8', '9', 'less'],\n",
              "      dtype='object')"
            ]
          },
          "execution_count": 9,
          "metadata": {},
          "output_type": "execute_result"
        }
      ],
      "source": [
        "df['Total experience_1'].value_counts().index.sort_values()"
      ]
    },
    {
      "cell_type": "code",
      "execution_count": null,
      "id": "500b1f99",
      "metadata": {
        "id": "500b1f99"
      },
      "outputs": [],
      "source": [
        "df['Total experience_1'].replace({'1,5':'1.5','2,5':'2.5','15,':'15','2,5':'2.5','less':'0'}, inplace=True) \n",
        "# Replace invalid data"
      ]
    },
    {
      "cell_type": "code",
      "execution_count": null,
      "id": "c38ae652",
      "metadata": {
        "id": "c38ae652",
        "outputId": "be8906a2-cea7-4532-c556-c8e3b564ab49"
      },
      "outputs": [
        {
          "data": {
            "text/plain": [
              "Index(['0', '0.8', '1', '1.5', '10', '11', '12', '13', '14', '15', '16', '17',\n",
              "       '18', '19', '2', '2.5', '20', '21', '22', '23', '24', '25', '26', '27',\n",
              "       '28', '29', '3', '3.5', '30', '31', '383', '4', '4.5', '40', '5', '5.5',\n",
              "       '6', '6.5', '7', '7.5', '8', '9'],\n",
              "      dtype='object')"
            ]
          },
          "execution_count": 11,
          "metadata": {},
          "output_type": "execute_result"
        }
      ],
      "source": [
        "df['Total experience_1'].value_counts().index.sort_values()"
      ]
    },
    {
      "cell_type": "code",
      "execution_count": null,
      "id": "3b88ce94",
      "metadata": {
        "id": "3b88ce94"
      },
      "outputs": [],
      "source": [
        "df['Total experience_1'] = df['Total experience_1'].astype('float64') # Change datatype"
      ]
    },
    {
      "cell_type": "code",
      "execution_count": null,
      "id": "acbfe2e6",
      "metadata": {
        "id": "acbfe2e6",
        "outputId": "57755387-4656-445c-c0c6-cf988fbd795e"
      },
      "outputs": [
        {
          "data": {
            "text/plain": [
              "count    1237.000000\n",
              "mean        9.048989\n",
              "std        11.879469\n",
              "min         0.000000\n",
              "25%         5.000000\n",
              "50%         8.000000\n",
              "75%        12.000000\n",
              "max       383.000000\n",
              "Name: Total experience_1, dtype: float64"
            ]
          },
          "execution_count": 13,
          "metadata": {},
          "output_type": "execute_result"
        }
      ],
      "source": [
        "df['Total experience_1'].describe() # Check distribution for bad data"
      ]
    },
    {
      "cell_type": "code",
      "execution_count": null,
      "id": "a576fa3f",
      "metadata": {
        "id": "a576fa3f",
        "outputId": "bda02a2c-4457-42a8-f56c-4416f7e0d9a7"
      },
      "outputs": [
        {
          "data": {
            "text/html": [
              "<div>\n",
              "<style scoped>\n",
              "    .dataframe tbody tr th:only-of-type {\n",
              "        vertical-align: middle;\n",
              "    }\n",
              "\n",
              "    .dataframe tbody tr th {\n",
              "        vertical-align: top;\n",
              "    }\n",
              "\n",
              "    .dataframe thead th {\n",
              "        text-align: right;\n",
              "    }\n",
              "</style>\n",
              "<table border=\"1\" class=\"dataframe\">\n",
              "  <thead>\n",
              "    <tr style=\"text-align: right;\">\n",
              "      <th></th>\n",
              "      <th>Timestamp</th>\n",
              "      <th>Age</th>\n",
              "      <th>Gender</th>\n",
              "      <th>City</th>\n",
              "      <th>Position</th>\n",
              "      <th>Total experience</th>\n",
              "      <th>Experience in Germany</th>\n",
              "      <th>Seniority level</th>\n",
              "      <th>Main technology</th>\n",
              "      <th>Annual Salary in EUR</th>\n",
              "      <th>Bonus in EUR</th>\n",
              "      <th>Number of vacation days</th>\n",
              "      <th>Employment status</th>\n",
              "      <th>Contract duration</th>\n",
              "      <th>Main language at work</th>\n",
              "      <th>Company type</th>\n",
              "      <th>Total experience_1</th>\n",
              "    </tr>\n",
              "  </thead>\n",
              "  <tbody>\n",
              "    <tr>\n",
              "      <th>1103</th>\n",
              "      <td>06-12-2020 21:51</td>\n",
              "      <td>69.0</td>\n",
              "      <td>Male</td>\n",
              "      <td>Stuttgart</td>\n",
              "      <td>Rentner</td>\n",
              "      <td>383</td>\n",
              "      <td>3</td>\n",
              "      <td>Head</td>\n",
              "      <td>NaN</td>\n",
              "      <td>70000.0</td>\n",
              "      <td>NaN</td>\n",
              "      <td>NaN</td>\n",
              "      <td>NaN</td>\n",
              "      <td>NaN</td>\n",
              "      <td>German</td>\n",
              "      <td>Consulting / Agency</td>\n",
              "      <td>383.0</td>\n",
              "    </tr>\n",
              "  </tbody>\n",
              "</table>\n",
              "</div>"
            ],
            "text/plain": [
              "             Timestamp   Age Gender       City Position  Total experience  \\\n",
              "1103  06-12-2020 21:51  69.0   Male  Stuttgart   Rentner              383   \n",
              "\n",
              "     Experience in Germany Seniority level Main technology  \\\n",
              "1103                     3            Head             NaN   \n",
              "\n",
              "      Annual Salary in EUR Bonus in EUR Number of vacation days  \\\n",
              "1103               70000.0          NaN                     NaN   \n",
              "\n",
              "     Employment status Contract duration Main language at work  \\\n",
              "1103               NaN               NaN                German   \n",
              "\n",
              "             Company type  Total experience_1  \n",
              "1103  Consulting / Agency               383.0  "
            ]
          },
          "execution_count": 14,
          "metadata": {},
          "output_type": "execute_result"
        }
      ],
      "source": [
        "df[df['Total experience_1'] > 40] # Filter dataframe to view the record with bad data"
      ]
    },
    {
      "cell_type": "code",
      "execution_count": null,
      "id": "98057c3b",
      "metadata": {
        "id": "98057c3b"
      },
      "outputs": [],
      "source": [
        "df['Total experience_1'].replace(to_replace=383, value=38, inplace=True) # Assuming 383 is actually 38 we correct the data"
      ]
    },
    {
      "cell_type": "code",
      "execution_count": null,
      "id": "3a2fa1fa",
      "metadata": {
        "id": "3a2fa1fa",
        "outputId": "5f19c42c-c465-4fbd-ee36-a6fc97976a1a"
      },
      "outputs": [
        {
          "data": {
            "text/plain": [
              "count    1237.000000\n",
              "mean        8.770089\n",
              "std         5.346345\n",
              "min         0.000000\n",
              "25%         5.000000\n",
              "50%         8.000000\n",
              "75%        12.000000\n",
              "max        40.000000\n",
              "Name: Total experience_1, dtype: float64"
            ]
          },
          "execution_count": 16,
          "metadata": {},
          "output_type": "execute_result"
        }
      ],
      "source": [
        "df['Total experience_1'].describe() # Check distribution again after bad data cleanup"
      ]
    },
    {
      "cell_type": "code",
      "execution_count": null,
      "id": "3cc53c6d",
      "metadata": {
        "id": "3cc53c6d",
        "outputId": "b50495b5-1812-4cfe-82ae-77de9b75fd02"
      },
      "outputs": [
        {
          "data": {
            "text/html": [
              "<div>\n",
              "<style scoped>\n",
              "    .dataframe tbody tr th:only-of-type {\n",
              "        vertical-align: middle;\n",
              "    }\n",
              "\n",
              "    .dataframe tbody tr th {\n",
              "        vertical-align: top;\n",
              "    }\n",
              "\n",
              "    .dataframe thead th {\n",
              "        text-align: right;\n",
              "    }\n",
              "</style>\n",
              "<table border=\"1\" class=\"dataframe\">\n",
              "  <thead>\n",
              "    <tr style=\"text-align: right;\">\n",
              "      <th></th>\n",
              "      <th>Total experience</th>\n",
              "      <th>Total experience_1</th>\n",
              "    </tr>\n",
              "  </thead>\n",
              "  <tbody>\n",
              "    <tr>\n",
              "      <th>0</th>\n",
              "      <td>5</td>\n",
              "      <td>5.0</td>\n",
              "    </tr>\n",
              "    <tr>\n",
              "      <th>1</th>\n",
              "      <td>7</td>\n",
              "      <td>7.0</td>\n",
              "    </tr>\n",
              "    <tr>\n",
              "      <th>2</th>\n",
              "      <td>12</td>\n",
              "      <td>12.0</td>\n",
              "    </tr>\n",
              "    <tr>\n",
              "      <th>3</th>\n",
              "      <td>4</td>\n",
              "      <td>4.0</td>\n",
              "    </tr>\n",
              "    <tr>\n",
              "      <th>4</th>\n",
              "      <td>17</td>\n",
              "      <td>17.0</td>\n",
              "    </tr>\n",
              "    <tr>\n",
              "      <th>5</th>\n",
              "      <td>5</td>\n",
              "      <td>5.0</td>\n",
              "    </tr>\n",
              "    <tr>\n",
              "      <th>6</th>\n",
              "      <td>6</td>\n",
              "      <td>6.0</td>\n",
              "    </tr>\n",
              "    <tr>\n",
              "      <th>7</th>\n",
              "      <td>5</td>\n",
              "      <td>5.0</td>\n",
              "    </tr>\n",
              "    <tr>\n",
              "      <th>8</th>\n",
              "      <td>8</td>\n",
              "      <td>8.0</td>\n",
              "    </tr>\n",
              "    <tr>\n",
              "      <th>9</th>\n",
              "      <td>15</td>\n",
              "      <td>15.0</td>\n",
              "    </tr>\n",
              "    <tr>\n",
              "      <th>10</th>\n",
              "      <td>2</td>\n",
              "      <td>2.0</td>\n",
              "    </tr>\n",
              "    <tr>\n",
              "      <th>11</th>\n",
              "      <td>25</td>\n",
              "      <td>25.0</td>\n",
              "    </tr>\n",
              "    <tr>\n",
              "      <th>12</th>\n",
              "      <td>NaN</td>\n",
              "      <td>NaN</td>\n",
              "    </tr>\n",
              "    <tr>\n",
              "      <th>13</th>\n",
              "      <td>14</td>\n",
              "      <td>14.0</td>\n",
              "    </tr>\n",
              "    <tr>\n",
              "      <th>14</th>\n",
              "      <td>11</td>\n",
              "      <td>11.0</td>\n",
              "    </tr>\n",
              "    <tr>\n",
              "      <th>15</th>\n",
              "      <td>5</td>\n",
              "      <td>5.0</td>\n",
              "    </tr>\n",
              "    <tr>\n",
              "      <th>16</th>\n",
              "      <td>7</td>\n",
              "      <td>7.0</td>\n",
              "    </tr>\n",
              "    <tr>\n",
              "      <th>17</th>\n",
              "      <td>18</td>\n",
              "      <td>18.0</td>\n",
              "    </tr>\n",
              "    <tr>\n",
              "      <th>18</th>\n",
              "      <td>8</td>\n",
              "      <td>8.0</td>\n",
              "    </tr>\n",
              "    <tr>\n",
              "      <th>19</th>\n",
              "      <td>11</td>\n",
              "      <td>11.0</td>\n",
              "    </tr>\n",
              "  </tbody>\n",
              "</table>\n",
              "</div>"
            ],
            "text/plain": [
              "   Total experience  Total experience_1\n",
              "0                 5                 5.0\n",
              "1                 7                 7.0\n",
              "2                12                12.0\n",
              "3                 4                 4.0\n",
              "4                17                17.0\n",
              "5                 5                 5.0\n",
              "6                 6                 6.0\n",
              "7                 5                 5.0\n",
              "8                 8                 8.0\n",
              "9                15                15.0\n",
              "10                2                 2.0\n",
              "11               25                25.0\n",
              "12              NaN                 NaN\n",
              "13               14                14.0\n",
              "14               11                11.0\n",
              "15                5                 5.0\n",
              "16                7                 7.0\n",
              "17               18                18.0\n",
              "18                8                 8.0\n",
              "19               11                11.0"
            ]
          },
          "execution_count": 17,
          "metadata": {},
          "output_type": "execute_result"
        }
      ],
      "source": [
        "df[['Total experience','Total experience_1']].head(20) # Compare the old and new column to confirm that data is same"
      ]
    },
    {
      "cell_type": "code",
      "execution_count": null,
      "id": "74c764f3",
      "metadata": {
        "id": "74c764f3",
        "outputId": "2c444b17-671f-4f22-c584-ef8911ab0a7f"
      },
      "outputs": [
        {
          "data": {
            "text/html": [
              "<div>\n",
              "<style scoped>\n",
              "    .dataframe tbody tr th:only-of-type {\n",
              "        vertical-align: middle;\n",
              "    }\n",
              "\n",
              "    .dataframe tbody tr th {\n",
              "        vertical-align: top;\n",
              "    }\n",
              "\n",
              "    .dataframe thead th {\n",
              "        text-align: right;\n",
              "    }\n",
              "</style>\n",
              "<table border=\"1\" class=\"dataframe\">\n",
              "  <thead>\n",
              "    <tr style=\"text-align: right;\">\n",
              "      <th></th>\n",
              "      <th>Total experience</th>\n",
              "      <th>Total experience_1</th>\n",
              "    </tr>\n",
              "  </thead>\n",
              "  <tbody>\n",
              "    <tr>\n",
              "      <th>1233</th>\n",
              "      <td>10</td>\n",
              "      <td>10.0</td>\n",
              "    </tr>\n",
              "    <tr>\n",
              "      <th>1234</th>\n",
              "      <td>5</td>\n",
              "      <td>5.0</td>\n",
              "    </tr>\n",
              "    <tr>\n",
              "      <th>1235</th>\n",
              "      <td>5</td>\n",
              "      <td>5.0</td>\n",
              "    </tr>\n",
              "    <tr>\n",
              "      <th>1236</th>\n",
              "      <td>7</td>\n",
              "      <td>7.0</td>\n",
              "    </tr>\n",
              "    <tr>\n",
              "      <th>1237</th>\n",
              "      <td>15</td>\n",
              "      <td>15.0</td>\n",
              "    </tr>\n",
              "    <tr>\n",
              "      <th>1238</th>\n",
              "      <td>3</td>\n",
              "      <td>3.0</td>\n",
              "    </tr>\n",
              "    <tr>\n",
              "      <th>1239</th>\n",
              "      <td>16</td>\n",
              "      <td>16.0</td>\n",
              "    </tr>\n",
              "    <tr>\n",
              "      <th>1240</th>\n",
              "      <td>4</td>\n",
              "      <td>4.0</td>\n",
              "    </tr>\n",
              "    <tr>\n",
              "      <th>1241</th>\n",
              "      <td>10</td>\n",
              "      <td>10.0</td>\n",
              "    </tr>\n",
              "    <tr>\n",
              "      <th>1242</th>\n",
              "      <td>10</td>\n",
              "      <td>10.0</td>\n",
              "    </tr>\n",
              "    <tr>\n",
              "      <th>1243</th>\n",
              "      <td>8</td>\n",
              "      <td>8.0</td>\n",
              "    </tr>\n",
              "    <tr>\n",
              "      <th>1244</th>\n",
              "      <td>10</td>\n",
              "      <td>10.0</td>\n",
              "    </tr>\n",
              "    <tr>\n",
              "      <th>1245</th>\n",
              "      <td>5</td>\n",
              "      <td>5.0</td>\n",
              "    </tr>\n",
              "    <tr>\n",
              "      <th>1246</th>\n",
              "      <td>18</td>\n",
              "      <td>18.0</td>\n",
              "    </tr>\n",
              "    <tr>\n",
              "      <th>1247</th>\n",
              "      <td>7</td>\n",
              "      <td>7.0</td>\n",
              "    </tr>\n",
              "    <tr>\n",
              "      <th>1248</th>\n",
              "      <td>9</td>\n",
              "      <td>9.0</td>\n",
              "    </tr>\n",
              "    <tr>\n",
              "      <th>1249</th>\n",
              "      <td>10</td>\n",
              "      <td>10.0</td>\n",
              "    </tr>\n",
              "    <tr>\n",
              "      <th>1250</th>\n",
              "      <td>15</td>\n",
              "      <td>15.0</td>\n",
              "    </tr>\n",
              "    <tr>\n",
              "      <th>1251</th>\n",
              "      <td>7</td>\n",
              "      <td>7.0</td>\n",
              "    </tr>\n",
              "    <tr>\n",
              "      <th>1252</th>\n",
              "      <td>2</td>\n",
              "      <td>2.0</td>\n",
              "    </tr>\n",
              "  </tbody>\n",
              "</table>\n",
              "</div>"
            ],
            "text/plain": [
              "     Total experience  Total experience_1\n",
              "1233               10                10.0\n",
              "1234                5                 5.0\n",
              "1235                5                 5.0\n",
              "1236                7                 7.0\n",
              "1237               15                15.0\n",
              "1238                3                 3.0\n",
              "1239               16                16.0\n",
              "1240                4                 4.0\n",
              "1241               10                10.0\n",
              "1242               10                10.0\n",
              "1243                8                 8.0\n",
              "1244               10                10.0\n",
              "1245                5                 5.0\n",
              "1246               18                18.0\n",
              "1247                7                 7.0\n",
              "1248                9                 9.0\n",
              "1249               10                10.0\n",
              "1250               15                15.0\n",
              "1251                7                 7.0\n",
              "1252                2                 2.0"
            ]
          },
          "execution_count": 18,
          "metadata": {},
          "output_type": "execute_result"
        }
      ],
      "source": [
        "df[['Total experience','Total experience_1']].tail(20)"
      ]
    },
    {
      "cell_type": "code",
      "execution_count": null,
      "id": "2cd6dbb7",
      "metadata": {
        "id": "2cd6dbb7"
      },
      "outputs": [],
      "source": [
        "df.drop('Total experience',axis=1,inplace=True) # Drop the original column and retain the clean data"
      ]
    },
    {
      "cell_type": "markdown",
      "id": "38954bc3",
      "metadata": {
        "id": "38954bc3"
      },
      "source": [
        "Similar cleanup approach followed for 'Experience in Germany'"
      ]
    },
    {
      "cell_type": "code",
      "execution_count": null,
      "id": "df4defc9",
      "metadata": {
        "id": "df4defc9",
        "outputId": "a12b654b-60fa-4391-9655-bd5a630d22aa"
      },
      "outputs": [
        {
          "data": {
            "text/plain": [
              "Index(['-', '0', '0,3', '0,5', '0.1', '0.2', '0.25', '0.4', '0.5', '0.8',\n",
              "       '0.9', '1', '1,5', '1,7', '1.5', '10', '11', '12', '13', '14', '15',\n",
              "       '16', '17', '18', '19', '2', '2,5', '2.5', '2.6', '20', '25', '26', '3',\n",
              "       '3 (in Poland)', '3 months', '3,5', '3.5', '30', '4',\n",
              "       '4 (in Switzerland), 0 (in Germany)', '4 month', '4,5', '4.5', '5', '6',\n",
              "       '6 (not as a data scientist, but as a lab scientist)', '7', '8', '9',\n",
              "       '< 1', '<1', 'less than year', '⁰'],\n",
              "      dtype='object')"
            ]
          },
          "execution_count": 20,
          "metadata": {},
          "output_type": "execute_result"
        }
      ],
      "source": [
        "df['Experience in Germany'].value_counts().index.sort_values()"
      ]
    },
    {
      "cell_type": "code",
      "execution_count": null,
      "id": "16feda6d",
      "metadata": {
        "id": "16feda6d"
      },
      "outputs": [],
      "source": [
        "df['Experience in Germany_1'] = df['Experience in Germany'].str.split(\" \").str[0]"
      ]
    },
    {
      "cell_type": "code",
      "execution_count": null,
      "id": "73c2bb9d",
      "metadata": {
        "id": "73c2bb9d",
        "outputId": "04ce0a75-c23e-4639-bbab-9e0b159a938b"
      },
      "outputs": [
        {
          "data": {
            "text/plain": [
              "Index(['-', '0', '0,3', '0,5', '0.1', '0.2', '0.25', '0.4', '0.5', '0.8',\n",
              "       '0.9', '1', '1,5', '1,7', '1.5', '10', '11', '12', '13', '14', '15',\n",
              "       '16', '17', '18', '19', '2', '2,5', '2.5', '2.6', '20', '25', '26', '3',\n",
              "       '3,5', '3.5', '30', '4', '4,5', '4.5', '5', '6', '7', '8', '9', '<',\n",
              "       '<1', 'less', '⁰'],\n",
              "      dtype='object')"
            ]
          },
          "execution_count": 22,
          "metadata": {},
          "output_type": "execute_result"
        }
      ],
      "source": [
        "df['Experience in Germany_1'].value_counts().index.sort_values()"
      ]
    },
    {
      "cell_type": "code",
      "execution_count": null,
      "id": "5ad15d8e",
      "metadata": {
        "id": "5ad15d8e"
      },
      "outputs": [],
      "source": [
        "df['Experience in Germany_1'] = df['Experience in Germany_1'].str.replace(',','.')"
      ]
    },
    {
      "cell_type": "code",
      "execution_count": null,
      "id": "00953731",
      "metadata": {
        "id": "00953731",
        "outputId": "ce033d80-90ee-4eb1-fb56-7491ed9ba136"
      },
      "outputs": [
        {
          "data": {
            "text/plain": [
              "Index(['-', '0', '0.1', '0.2', '0.25', '0.3', '0.4', '0.5', '0.8', '0.9', '1',\n",
              "       '1.5', '1.7', '10', '11', '12', '13', '14', '15', '16', '17', '18',\n",
              "       '19', '2', '2.5', '2.6', '20', '25', '26', '3', '3.5', '30', '4', '4.5',\n",
              "       '5', '6', '7', '8', '9', '<', '<1', 'less', '⁰'],\n",
              "      dtype='object')"
            ]
          },
          "execution_count": 24,
          "metadata": {},
          "output_type": "execute_result"
        }
      ],
      "source": [
        "df['Experience in Germany_1'].value_counts().index.sort_values()"
      ]
    },
    {
      "cell_type": "code",
      "execution_count": null,
      "id": "d04b5ab6",
      "metadata": {
        "id": "d04b5ab6"
      },
      "outputs": [],
      "source": [
        "df['Experience in Germany_1'].replace({'-' : np.NaN, '<' : np.NaN,'<1':'0.5','less':np.NaN,'⁰':np.NaN}, inplace=True)"
      ]
    },
    {
      "cell_type": "code",
      "execution_count": null,
      "id": "e7577e1b",
      "metadata": {
        "id": "e7577e1b",
        "outputId": "d9bc8c35-882b-43ea-a756-9b92166b32df"
      },
      "outputs": [
        {
          "data": {
            "text/plain": [
              "Index(['0', '0.1', '0.2', '0.25', '0.3', '0.4', '0.5', '0.8', '0.9', '1',\n",
              "       '1.5', '1.7', '10', '11', '12', '13', '14', '15', '16', '17', '18',\n",
              "       '19', '2', '2.5', '2.6', '20', '25', '26', '3', '3.5', '30', '4', '4.5',\n",
              "       '5', '6', '7', '8', '9'],\n",
              "      dtype='object')"
            ]
          },
          "execution_count": 26,
          "metadata": {},
          "output_type": "execute_result"
        }
      ],
      "source": [
        "df['Experience in Germany_1'].value_counts().index.sort_values()"
      ]
    },
    {
      "cell_type": "code",
      "execution_count": null,
      "id": "9c01daed",
      "metadata": {
        "id": "9c01daed"
      },
      "outputs": [],
      "source": [
        "df['Experience in Germany_1'] = df['Experience in Germany_1'].astype('float64')"
      ]
    },
    {
      "cell_type": "code",
      "execution_count": null,
      "id": "6caa5c4a",
      "metadata": {
        "scrolled": true,
        "id": "6caa5c4a",
        "outputId": "e536d1dc-a395-446d-ec8b-f374cf47a553"
      },
      "outputs": [
        {
          "data": {
            "text/html": [
              "<div>\n",
              "<style scoped>\n",
              "    .dataframe tbody tr th:only-of-type {\n",
              "        vertical-align: middle;\n",
              "    }\n",
              "\n",
              "    .dataframe tbody tr th {\n",
              "        vertical-align: top;\n",
              "    }\n",
              "\n",
              "    .dataframe thead th {\n",
              "        text-align: right;\n",
              "    }\n",
              "</style>\n",
              "<table border=\"1\" class=\"dataframe\">\n",
              "  <thead>\n",
              "    <tr style=\"text-align: right;\">\n",
              "      <th></th>\n",
              "      <th>Experience in Germany</th>\n",
              "      <th>Experience in Germany_1</th>\n",
              "    </tr>\n",
              "  </thead>\n",
              "  <tbody>\n",
              "    <tr>\n",
              "      <th>0</th>\n",
              "      <td>3</td>\n",
              "      <td>3.0</td>\n",
              "    </tr>\n",
              "    <tr>\n",
              "      <th>1</th>\n",
              "      <td>4</td>\n",
              "      <td>4.0</td>\n",
              "    </tr>\n",
              "    <tr>\n",
              "      <th>2</th>\n",
              "      <td>6</td>\n",
              "      <td>6.0</td>\n",
              "    </tr>\n",
              "    <tr>\n",
              "      <th>3</th>\n",
              "      <td>1</td>\n",
              "      <td>1.0</td>\n",
              "    </tr>\n",
              "    <tr>\n",
              "      <th>4</th>\n",
              "      <td>6</td>\n",
              "      <td>6.0</td>\n",
              "    </tr>\n",
              "    <tr>\n",
              "      <th>5</th>\n",
              "      <td>1</td>\n",
              "      <td>1.0</td>\n",
              "    </tr>\n",
              "    <tr>\n",
              "      <th>6</th>\n",
              "      <td>0.4</td>\n",
              "      <td>0.4</td>\n",
              "    </tr>\n",
              "    <tr>\n",
              "      <th>7</th>\n",
              "      <td>1</td>\n",
              "      <td>1.0</td>\n",
              "    </tr>\n",
              "    <tr>\n",
              "      <th>8</th>\n",
              "      <td>2</td>\n",
              "      <td>2.0</td>\n",
              "    </tr>\n",
              "    <tr>\n",
              "      <th>9</th>\n",
              "      <td>3</td>\n",
              "      <td>3.0</td>\n",
              "    </tr>\n",
              "  </tbody>\n",
              "</table>\n",
              "</div>"
            ],
            "text/plain": [
              "  Experience in Germany  Experience in Germany_1\n",
              "0                     3                      3.0\n",
              "1                     4                      4.0\n",
              "2                     6                      6.0\n",
              "3                     1                      1.0\n",
              "4                     6                      6.0\n",
              "5                     1                      1.0\n",
              "6                   0.4                      0.4\n",
              "7                     1                      1.0\n",
              "8                     2                      2.0\n",
              "9                     3                      3.0"
            ]
          },
          "execution_count": 28,
          "metadata": {},
          "output_type": "execute_result"
        }
      ],
      "source": [
        "df[['Experience in Germany','Experience in Germany_1']].head(10)"
      ]
    },
    {
      "cell_type": "code",
      "execution_count": null,
      "id": "fad42a16",
      "metadata": {
        "scrolled": true,
        "id": "fad42a16",
        "outputId": "28560e92-a925-4d55-9056-4c56ee1ca49c"
      },
      "outputs": [
        {
          "data": {
            "text/html": [
              "<div>\n",
              "<style scoped>\n",
              "    .dataframe tbody tr th:only-of-type {\n",
              "        vertical-align: middle;\n",
              "    }\n",
              "\n",
              "    .dataframe tbody tr th {\n",
              "        vertical-align: top;\n",
              "    }\n",
              "\n",
              "    .dataframe thead th {\n",
              "        text-align: right;\n",
              "    }\n",
              "</style>\n",
              "<table border=\"1\" class=\"dataframe\">\n",
              "  <thead>\n",
              "    <tr style=\"text-align: right;\">\n",
              "      <th></th>\n",
              "      <th>Experience in Germany</th>\n",
              "      <th>Experience in Germany_1</th>\n",
              "    </tr>\n",
              "  </thead>\n",
              "  <tbody>\n",
              "    <tr>\n",
              "      <th>1223</th>\n",
              "      <td>20</td>\n",
              "      <td>20.0</td>\n",
              "    </tr>\n",
              "    <tr>\n",
              "      <th>1224</th>\n",
              "      <td>7</td>\n",
              "      <td>7.0</td>\n",
              "    </tr>\n",
              "    <tr>\n",
              "      <th>1225</th>\n",
              "      <td>2</td>\n",
              "      <td>2.0</td>\n",
              "    </tr>\n",
              "    <tr>\n",
              "      <th>1226</th>\n",
              "      <td>4</td>\n",
              "      <td>4.0</td>\n",
              "    </tr>\n",
              "    <tr>\n",
              "      <th>1227</th>\n",
              "      <td>2</td>\n",
              "      <td>2.0</td>\n",
              "    </tr>\n",
              "    <tr>\n",
              "      <th>1228</th>\n",
              "      <td>3</td>\n",
              "      <td>3.0</td>\n",
              "    </tr>\n",
              "    <tr>\n",
              "      <th>1229</th>\n",
              "      <td>0,5</td>\n",
              "      <td>0.5</td>\n",
              "    </tr>\n",
              "    <tr>\n",
              "      <th>1230</th>\n",
              "      <td>7</td>\n",
              "      <td>7.0</td>\n",
              "    </tr>\n",
              "    <tr>\n",
              "      <th>1231</th>\n",
              "      <td>NaN</td>\n",
              "      <td>NaN</td>\n",
              "    </tr>\n",
              "    <tr>\n",
              "      <th>1232</th>\n",
              "      <td>30</td>\n",
              "      <td>30.0</td>\n",
              "    </tr>\n",
              "    <tr>\n",
              "      <th>1233</th>\n",
              "      <td>2</td>\n",
              "      <td>2.0</td>\n",
              "    </tr>\n",
              "    <tr>\n",
              "      <th>1234</th>\n",
              "      <td>NaN</td>\n",
              "      <td>NaN</td>\n",
              "    </tr>\n",
              "    <tr>\n",
              "      <th>1235</th>\n",
              "      <td>NaN</td>\n",
              "      <td>NaN</td>\n",
              "    </tr>\n",
              "    <tr>\n",
              "      <th>1236</th>\n",
              "      <td>5</td>\n",
              "      <td>5.0</td>\n",
              "    </tr>\n",
              "    <tr>\n",
              "      <th>1237</th>\n",
              "      <td>5</td>\n",
              "      <td>5.0</td>\n",
              "    </tr>\n",
              "    <tr>\n",
              "      <th>1238</th>\n",
              "      <td>1</td>\n",
              "      <td>1.0</td>\n",
              "    </tr>\n",
              "    <tr>\n",
              "      <th>1239</th>\n",
              "      <td>4</td>\n",
              "      <td>4.0</td>\n",
              "    </tr>\n",
              "    <tr>\n",
              "      <th>1240</th>\n",
              "      <td>3</td>\n",
              "      <td>3.0</td>\n",
              "    </tr>\n",
              "    <tr>\n",
              "      <th>1241</th>\n",
              "      <td>5</td>\n",
              "      <td>5.0</td>\n",
              "    </tr>\n",
              "    <tr>\n",
              "      <th>1242</th>\n",
              "      <td>6</td>\n",
              "      <td>6.0</td>\n",
              "    </tr>\n",
              "    <tr>\n",
              "      <th>1243</th>\n",
              "      <td>5</td>\n",
              "      <td>5.0</td>\n",
              "    </tr>\n",
              "    <tr>\n",
              "      <th>1244</th>\n",
              "      <td>5</td>\n",
              "      <td>5.0</td>\n",
              "    </tr>\n",
              "    <tr>\n",
              "      <th>1245</th>\n",
              "      <td>5</td>\n",
              "      <td>5.0</td>\n",
              "    </tr>\n",
              "    <tr>\n",
              "      <th>1246</th>\n",
              "      <td>8</td>\n",
              "      <td>8.0</td>\n",
              "    </tr>\n",
              "    <tr>\n",
              "      <th>1247</th>\n",
              "      <td>2</td>\n",
              "      <td>2.0</td>\n",
              "    </tr>\n",
              "    <tr>\n",
              "      <th>1248</th>\n",
              "      <td>5</td>\n",
              "      <td>5.0</td>\n",
              "    </tr>\n",
              "    <tr>\n",
              "      <th>1249</th>\n",
              "      <td>1.5</td>\n",
              "      <td>1.5</td>\n",
              "    </tr>\n",
              "    <tr>\n",
              "      <th>1250</th>\n",
              "      <td>2</td>\n",
              "      <td>2.0</td>\n",
              "    </tr>\n",
              "    <tr>\n",
              "      <th>1251</th>\n",
              "      <td>7</td>\n",
              "      <td>7.0</td>\n",
              "    </tr>\n",
              "    <tr>\n",
              "      <th>1252</th>\n",
              "      <td>2</td>\n",
              "      <td>2.0</td>\n",
              "    </tr>\n",
              "  </tbody>\n",
              "</table>\n",
              "</div>"
            ],
            "text/plain": [
              "     Experience in Germany  Experience in Germany_1\n",
              "1223                    20                     20.0\n",
              "1224                     7                      7.0\n",
              "1225                     2                      2.0\n",
              "1226                     4                      4.0\n",
              "1227                     2                      2.0\n",
              "1228                     3                      3.0\n",
              "1229                   0,5                      0.5\n",
              "1230                     7                      7.0\n",
              "1231                   NaN                      NaN\n",
              "1232                    30                     30.0\n",
              "1233                     2                      2.0\n",
              "1234                   NaN                      NaN\n",
              "1235                   NaN                      NaN\n",
              "1236                     5                      5.0\n",
              "1237                     5                      5.0\n",
              "1238                     1                      1.0\n",
              "1239                     4                      4.0\n",
              "1240                     3                      3.0\n",
              "1241                     5                      5.0\n",
              "1242                     6                      6.0\n",
              "1243                     5                      5.0\n",
              "1244                     5                      5.0\n",
              "1245                     5                      5.0\n",
              "1246                     8                      8.0\n",
              "1247                     2                      2.0\n",
              "1248                     5                      5.0\n",
              "1249                   1.5                      1.5\n",
              "1250                     2                      2.0\n",
              "1251                     7                      7.0\n",
              "1252                     2                      2.0"
            ]
          },
          "execution_count": 29,
          "metadata": {},
          "output_type": "execute_result"
        }
      ],
      "source": [
        "df[['Experience in Germany','Experience in Germany_1']].tail(30)"
      ]
    },
    {
      "cell_type": "code",
      "execution_count": null,
      "id": "98182c9f",
      "metadata": {
        "id": "98182c9f",
        "outputId": "37cc28cd-2bf0-4c28-e401-38ef490b3a79"
      },
      "outputs": [
        {
          "data": {
            "text/plain": [
              "count    1217.000000\n",
              "mean        3.727198\n",
              "std         3.634765\n",
              "min         0.000000\n",
              "25%         1.000000\n",
              "50%         3.000000\n",
              "75%         5.000000\n",
              "max        30.000000\n",
              "Name: Experience in Germany_1, dtype: float64"
            ]
          },
          "execution_count": 30,
          "metadata": {},
          "output_type": "execute_result"
        }
      ],
      "source": [
        "df['Experience in Germany_1'].describe()"
      ]
    },
    {
      "cell_type": "code",
      "execution_count": null,
      "id": "1e765147",
      "metadata": {
        "id": "1e765147"
      },
      "outputs": [],
      "source": [
        "df.drop('Experience in Germany', axis=1, inplace=True)"
      ]
    },
    {
      "cell_type": "markdown",
      "id": "8af68c3a",
      "metadata": {
        "id": "8af68c3a"
      },
      "source": [
        "Let's check bad data in annual salary field"
      ]
    },
    {
      "cell_type": "code",
      "execution_count": null,
      "id": "9dba9a70",
      "metadata": {
        "id": "9dba9a70",
        "outputId": "b61b4467-c9bc-426a-b2f7-68980aaa7cc0"
      },
      "outputs": [
        {
          "data": {
            "text/plain": [
              "count    1.253000e+03\n",
              "mean     8.027904e+07\n",
              "std      2.825061e+09\n",
              "min      1.000100e+04\n",
              "25%      5.880000e+04\n",
              "50%      7.000000e+04\n",
              "75%      8.000000e+04\n",
              "max      1.000000e+11\n",
              "Name: Annual Salary in EUR, dtype: float64"
            ]
          },
          "execution_count": 32,
          "metadata": {},
          "output_type": "execute_result"
        }
      ],
      "source": [
        "df['Annual Salary in EUR'].describe()"
      ]
    },
    {
      "cell_type": "markdown",
      "id": "d920dd42",
      "metadata": {
        "id": "d920dd42"
      },
      "source": [
        "#### Observation\n",
        "\n",
        "Max value seems to be too high. Lets check for observations with salary > 500000"
      ]
    },
    {
      "cell_type": "code",
      "execution_count": null,
      "id": "40a5754e",
      "metadata": {
        "id": "40a5754e",
        "outputId": "e829a640-671b-4aa8-8d25-08cb35558c6a"
      },
      "outputs": [
        {
          "data": {
            "text/html": [
              "<div>\n",
              "<style scoped>\n",
              "    .dataframe tbody tr th:only-of-type {\n",
              "        vertical-align: middle;\n",
              "    }\n",
              "\n",
              "    .dataframe tbody tr th {\n",
              "        vertical-align: top;\n",
              "    }\n",
              "\n",
              "    .dataframe thead th {\n",
              "        text-align: right;\n",
              "    }\n",
              "</style>\n",
              "<table border=\"1\" class=\"dataframe\">\n",
              "  <thead>\n",
              "    <tr style=\"text-align: right;\">\n",
              "      <th></th>\n",
              "      <th>Timestamp</th>\n",
              "      <th>Age</th>\n",
              "      <th>Gender</th>\n",
              "      <th>City</th>\n",
              "      <th>Position</th>\n",
              "      <th>Seniority level</th>\n",
              "      <th>Main technology</th>\n",
              "      <th>Annual Salary in EUR</th>\n",
              "      <th>Bonus in EUR</th>\n",
              "      <th>Number of vacation days</th>\n",
              "      <th>Employment status</th>\n",
              "      <th>Contract duration</th>\n",
              "      <th>Main language at work</th>\n",
              "      <th>Company type</th>\n",
              "      <th>Total experience_1</th>\n",
              "      <th>Experience in Germany_1</th>\n",
              "    </tr>\n",
              "  </thead>\n",
              "  <tbody>\n",
              "    <tr>\n",
              "      <th>473</th>\n",
              "      <td>25-11-2020 03:27</td>\n",
              "      <td>NaN</td>\n",
              "      <td>NaN</td>\n",
              "      <td>Berlin</td>\n",
              "      <td>NaN</td>\n",
              "      <td>NaN</td>\n",
              "      <td>NaN</td>\n",
              "      <td>1.000000e+11</td>\n",
              "      <td>NaN</td>\n",
              "      <td>NaN</td>\n",
              "      <td>NaN</td>\n",
              "      <td>NaN</td>\n",
              "      <td>NaN</td>\n",
              "      <td>NaN</td>\n",
              "      <td>NaN</td>\n",
              "      <td>NaN</td>\n",
              "    </tr>\n",
              "    <tr>\n",
              "      <th>778</th>\n",
              "      <td>26-11-2020 17:08</td>\n",
              "      <td>42.0</td>\n",
              "      <td>Male</td>\n",
              "      <td>Berlin</td>\n",
              "      <td>Frontend Developer</td>\n",
              "      <td>Senior</td>\n",
              "      <td>React JS</td>\n",
              "      <td>8.500000e+05</td>\n",
              "      <td>95000</td>\n",
              "      <td>35</td>\n",
              "      <td>Full-time employee</td>\n",
              "      <td>Unlimited contract</td>\n",
              "      <td>English</td>\n",
              "      <td>Product</td>\n",
              "      <td>18.0</td>\n",
              "      <td>5.0</td>\n",
              "    </tr>\n",
              "    <tr>\n",
              "      <th>853</th>\n",
              "      <td>27-11-2020 14:55</td>\n",
              "      <td>29.0</td>\n",
              "      <td>Female</td>\n",
              "      <td>Cologne</td>\n",
              "      <td>ML Engineer</td>\n",
              "      <td>Middle</td>\n",
              "      <td>julia</td>\n",
              "      <td>5.000000e+08</td>\n",
              "      <td>5000000000</td>\n",
              "      <td>99</td>\n",
              "      <td>Full-time employee</td>\n",
              "      <td>Unlimited contract</td>\n",
              "      <td>English</td>\n",
              "      <td>Startup</td>\n",
              "      <td>1.0</td>\n",
              "      <td>1.0</td>\n",
              "    </tr>\n",
              "  </tbody>\n",
              "</table>\n",
              "</div>"
            ],
            "text/plain": [
              "            Timestamp   Age  Gender     City           Position   \\\n",
              "473  25-11-2020 03:27   NaN     NaN   Berlin                 NaN   \n",
              "778  26-11-2020 17:08  42.0    Male   Berlin  Frontend Developer   \n",
              "853  27-11-2020 14:55  29.0  Female  Cologne         ML Engineer   \n",
              "\n",
              "    Seniority level Main technology  Annual Salary in EUR Bonus in EUR  \\\n",
              "473             NaN             NaN          1.000000e+11          NaN   \n",
              "778          Senior        React JS          8.500000e+05        95000   \n",
              "853          Middle           julia          5.000000e+08   5000000000   \n",
              "\n",
              "    Number of vacation days   Employment status   Contract duration  \\\n",
              "473                     NaN                 NaN                 NaN   \n",
              "778                      35  Full-time employee  Unlimited contract   \n",
              "853                      99  Full-time employee  Unlimited contract   \n",
              "\n",
              "    Main language at work Company type  Total experience_1  \\\n",
              "473                   NaN          NaN                 NaN   \n",
              "778               English      Product                18.0   \n",
              "853               English      Startup                 1.0   \n",
              "\n",
              "     Experience in Germany_1  \n",
              "473                      NaN  \n",
              "778                      5.0  \n",
              "853                      1.0  "
            ]
          },
          "execution_count": 33,
          "metadata": {},
          "output_type": "execute_result"
        }
      ],
      "source": [
        "df[df['Annual Salary in EUR'] > 500000] # Filter records with salary > 500000"
      ]
    },
    {
      "cell_type": "markdown",
      "id": "61e7510b",
      "metadata": {
        "id": "61e7510b"
      },
      "source": [
        "#### Observation\n",
        "\n",
        "Frome above records it appears that row with index 473 is an invalid record as most of the values in the row is null.\n",
        "\n",
        "Also, row corresponding to index 853 seems to be invalid as salary corresponding to 1 year experinced candidate is too high. \n",
        "\n",
        "We can go ahead and drop these rows."
      ]
    },
    {
      "cell_type": "code",
      "execution_count": null,
      "id": "de4685c5",
      "metadata": {
        "id": "de4685c5"
      },
      "outputs": [],
      "source": [
        "df.drop([473,853], inplace=True)"
      ]
    },
    {
      "cell_type": "code",
      "execution_count": null,
      "id": "89623601",
      "metadata": {
        "id": "89623601",
        "outputId": "36a6a634-cd71-4004-95fc-f6913654da5b"
      },
      "outputs": [
        {
          "data": {
            "text/html": [
              "<div>\n",
              "<style scoped>\n",
              "    .dataframe tbody tr th:only-of-type {\n",
              "        vertical-align: middle;\n",
              "    }\n",
              "\n",
              "    .dataframe tbody tr th {\n",
              "        vertical-align: top;\n",
              "    }\n",
              "\n",
              "    .dataframe thead th {\n",
              "        text-align: right;\n",
              "    }\n",
              "</style>\n",
              "<table border=\"1\" class=\"dataframe\">\n",
              "  <thead>\n",
              "    <tr style=\"text-align: right;\">\n",
              "      <th></th>\n",
              "      <th>Timestamp</th>\n",
              "      <th>Age</th>\n",
              "      <th>Gender</th>\n",
              "      <th>City</th>\n",
              "      <th>Position</th>\n",
              "      <th>Seniority level</th>\n",
              "      <th>Main technology</th>\n",
              "      <th>Annual Salary in EUR</th>\n",
              "      <th>Bonus in EUR</th>\n",
              "      <th>Number of vacation days</th>\n",
              "      <th>Employment status</th>\n",
              "      <th>Contract duration</th>\n",
              "      <th>Main language at work</th>\n",
              "      <th>Company type</th>\n",
              "      <th>Total experience_1</th>\n",
              "      <th>Experience in Germany_1</th>\n",
              "    </tr>\n",
              "  </thead>\n",
              "  <tbody>\n",
              "    <tr>\n",
              "      <th>778</th>\n",
              "      <td>26-11-2020 17:08</td>\n",
              "      <td>42.0</td>\n",
              "      <td>Male</td>\n",
              "      <td>Berlin</td>\n",
              "      <td>Frontend Developer</td>\n",
              "      <td>Senior</td>\n",
              "      <td>React JS</td>\n",
              "      <td>850000.0</td>\n",
              "      <td>95000</td>\n",
              "      <td>35</td>\n",
              "      <td>Full-time employee</td>\n",
              "      <td>Unlimited contract</td>\n",
              "      <td>English</td>\n",
              "      <td>Product</td>\n",
              "      <td>18.0</td>\n",
              "      <td>5.0</td>\n",
              "    </tr>\n",
              "  </tbody>\n",
              "</table>\n",
              "</div>"
            ],
            "text/plain": [
              "            Timestamp   Age Gender    City           Position   \\\n",
              "778  26-11-2020 17:08  42.0   Male  Berlin  Frontend Developer   \n",
              "\n",
              "    Seniority level Main technology  Annual Salary in EUR Bonus in EUR  \\\n",
              "778          Senior        React JS              850000.0        95000   \n",
              "\n",
              "    Number of vacation days   Employment status   Contract duration  \\\n",
              "778                      35  Full-time employee  Unlimited contract   \n",
              "\n",
              "    Main language at work Company type  Total experience_1  \\\n",
              "778               English      Product                18.0   \n",
              "\n",
              "     Experience in Germany_1  \n",
              "778                      5.0  "
            ]
          },
          "execution_count": 35,
          "metadata": {},
          "output_type": "execute_result"
        }
      ],
      "source": [
        "df[df['Annual Salary in EUR'] > 500000]"
      ]
    },
    {
      "cell_type": "code",
      "execution_count": null,
      "id": "adca41f4",
      "metadata": {
        "id": "adca41f4",
        "outputId": "d1e03cdd-c2b5-4ed7-9565-34c81d45cda6"
      },
      "outputs": [
        {
          "data": {
            "text/plain": [
              "count      1251.000000\n",
              "mean      71654.957738\n",
              "std       32818.272020\n",
              "min       10001.000000\n",
              "25%       58400.000000\n",
              "50%       70000.000000\n",
              "75%       80000.000000\n",
              "max      850000.000000\n",
              "Name: Annual Salary in EUR, dtype: float64"
            ]
          },
          "execution_count": 36,
          "metadata": {},
          "output_type": "execute_result"
        }
      ],
      "source": [
        "df['Annual Salary in EUR'].describe()"
      ]
    },
    {
      "cell_type": "markdown",
      "id": "dde90687",
      "metadata": {
        "id": "dde90687"
      },
      "source": [
        "Let's check the Bonus feature"
      ]
    },
    {
      "cell_type": "code",
      "execution_count": null,
      "id": "ee38a482",
      "metadata": {
        "id": "ee38a482",
        "outputId": "621842c5-5fef-4873-c91e-7ad88defbd2c"
      },
      "outputs": [
        {
          "data": {
            "text/plain": [
              "Index(['-', '0', '1000', '10000', '100000', '101', '102600', '10300', '105000',\n",
              "       '106000',\n",
              "       ...\n",
              "       '9400', '9450', '95000', '96000', '97000', '99000', 'Na', 'Not sure',\n",
              "       'bvg only', 'depends'],\n",
              "      dtype='object', length=167)"
            ]
          },
          "execution_count": 37,
          "metadata": {},
          "output_type": "execute_result"
        }
      ],
      "source": [
        "df['Bonus in EUR'].value_counts().index.sort_values()"
      ]
    },
    {
      "cell_type": "code",
      "execution_count": null,
      "id": "5f0a7975",
      "metadata": {
        "id": "5f0a7975"
      },
      "outputs": [],
      "source": [
        "df['Bonus in EUR'].replace({'-': np.NaN, 'Na': np.NaN, 'Not sure': np.NaN, 'bvg only':np.NaN, 'depends':np.NaN,\n",
        "                           '15000+-': 15000},inplace=True)"
      ]
    },
    {
      "cell_type": "code",
      "execution_count": null,
      "id": "9453e4a6",
      "metadata": {
        "id": "9453e4a6"
      },
      "outputs": [],
      "source": [
        "df['Bonus in EUR'] = df['Bonus in EUR'].astype('float64')"
      ]
    },
    {
      "cell_type": "code",
      "execution_count": null,
      "id": "6bebce92",
      "metadata": {
        "id": "6bebce92",
        "outputId": "f34a5de9-27dd-412e-aff3-a515b22ac7eb"
      },
      "outputs": [
        {
          "data": {
            "text/plain": [
              "count    8.230000e+02\n",
              "mean     2.155456e+04\n",
              "std      5.351034e+04\n",
              "min      0.000000e+00\n",
              "25%      0.000000e+00\n",
              "50%      5.000000e+03\n",
              "75%      2.000000e+04\n",
              "max      1.150000e+06\n",
              "Name: Bonus in EUR, dtype: float64"
            ]
          },
          "execution_count": 40,
          "metadata": {},
          "output_type": "execute_result"
        }
      ],
      "source": [
        "df['Bonus in EUR'].describe()"
      ]
    },
    {
      "cell_type": "markdown",
      "id": "9e12c027",
      "metadata": {
        "id": "9e12c027"
      },
      "source": [
        "Let's check bad data in vactaion feature"
      ]
    },
    {
      "cell_type": "code",
      "execution_count": null,
      "id": "4d88b14e",
      "metadata": {
        "id": "4d88b14e",
        "outputId": "f4b733a2-74af-42a5-e5a3-3fc5b93dffa4"
      },
      "outputs": [
        {
          "data": {
            "text/plain": [
              "Index(['(no idea)', '0', '1', '10', '12', '14', '15', '16', '20', '21', '22',\n",
              "       '23', '23+', '24', '24 labour days', '25', '26', '27', '28', '29', '3',\n",
              "       '30', '30 in contract (but theoretically unlimited)', '31', '32', '33',\n",
              "       '34', '35', '36', '365', '37', '37.5', '38', '39', '40', '45', '5',\n",
              "       '50', '60', 'Unlimited', 'Unlimited ', 'unlimited', 'unlimited ',\n",
              "       '~25'],\n",
              "      dtype='object')"
            ]
          },
          "execution_count": 41,
          "metadata": {},
          "output_type": "execute_result"
        }
      ],
      "source": [
        "df['Number of vacation days'].value_counts().index.sort_values()"
      ]
    },
    {
      "cell_type": "code",
      "execution_count": null,
      "id": "8c7a3c0c",
      "metadata": {
        "id": "8c7a3c0c"
      },
      "outputs": [],
      "source": [
        "df['Number of vacation days'].replace({'(no idea)':np.NaN,'23+':'24','24 labour days':'24',\n",
        "                                      '30 in contract (but theoretically unlimited)':np.NaN,\n",
        "                                      '365':np.NaN,'Unlimited':np.NaN,'Unlimited ':np.NaN,'unlimited':np.NaN,\n",
        "                                      'unlimited ':np.NaN,'~25':'25'}, inplace=True)"
      ]
    },
    {
      "cell_type": "code",
      "execution_count": null,
      "id": "88966594",
      "metadata": {
        "id": "88966594",
        "outputId": "15ac9faf-abad-4d13-d23f-bc0bf0be59da"
      },
      "outputs": [
        {
          "data": {
            "text/plain": [
              "Index(['0', '1', '10', '12', '14', '15', '16', '20', '21', '22', '23', '24',\n",
              "       '25', '26', '27', '28', '29', '3', '30', '31', '32', '33', '34', '35',\n",
              "       '36', '37', '37.5', '38', '39', '40', '45', '5', '50', '60'],\n",
              "      dtype='object')"
            ]
          },
          "execution_count": 43,
          "metadata": {},
          "output_type": "execute_result"
        }
      ],
      "source": [
        "df['Number of vacation days'].value_counts().index.sort_values()"
      ]
    },
    {
      "cell_type": "code",
      "execution_count": null,
      "id": "a95cd2e2",
      "metadata": {
        "id": "a95cd2e2"
      },
      "outputs": [],
      "source": [
        "df['Number of vacation days'] = df['Number of vacation days'].astype('float64')"
      ]
    },
    {
      "cell_type": "code",
      "execution_count": null,
      "id": "e5c7ae01",
      "metadata": {
        "id": "e5c7ae01",
        "outputId": "66d832ef-1063-4044-e7a3-92d236a9f079"
      },
      "outputs": [
        {
          "name": "stdout",
          "output_type": "stream",
          "text": [
            "<class 'pandas.core.frame.DataFrame'>\n",
            "Int64Index: 1251 entries, 0 to 1252\n",
            "Data columns (total 16 columns):\n",
            " #   Column                   Non-Null Count  Dtype  \n",
            "---  ------                   --------------  -----  \n",
            " 0   Timestamp                1251 non-null   object \n",
            " 1   Age                      1225 non-null   float64\n",
            " 2   Gender                   1242 non-null   object \n",
            " 3   City                     1251 non-null   object \n",
            " 4   Position                 1246 non-null   object \n",
            " 5   Seniority level          1240 non-null   object \n",
            " 6   Main technology          1125 non-null   object \n",
            " 7   Annual Salary in EUR     1251 non-null   float64\n",
            " 8   Bonus in EUR             823 non-null    float64\n",
            " 9   Number of vacation days  1173 non-null   float64\n",
            " 10  Employment status        1235 non-null   object \n",
            " 11  Contract duration        1223 non-null   object \n",
            " 12  Main language at work    1236 non-null   object \n",
            " 13  Company type             1227 non-null   object \n",
            " 14  Total experience_1       1236 non-null   float64\n",
            " 15  Experience in Germany_1  1216 non-null   float64\n",
            "dtypes: float64(6), object(10)\n",
            "memory usage: 166.1+ KB\n"
          ]
        }
      ],
      "source": [
        "df.info()"
      ]
    },
    {
      "cell_type": "markdown",
      "id": "d7bb1552",
      "metadata": {
        "id": "d7bb1552"
      },
      "source": [
        "#### Observation\n",
        "\n",
        "All numeric features have been converted to right data type. Now lets work on categorical features"
      ]
    },
    {
      "cell_type": "code",
      "execution_count": null,
      "id": "e5ef8895",
      "metadata": {
        "id": "e5ef8895",
        "outputId": "e1772bce-4eca-4cb0-c203-2b2d3efa3288"
      },
      "outputs": [
        {
          "data": {
            "text/plain": [
              "Male       1049\n",
              "Female      191\n",
              "Diverse       2\n",
              "Name: Gender, dtype: int64"
            ]
          },
          "execution_count": 46,
          "metadata": {},
          "output_type": "execute_result"
        }
      ],
      "source": [
        "df.Gender.value_counts()"
      ]
    },
    {
      "cell_type": "code",
      "execution_count": null,
      "id": "97b2f8ee",
      "metadata": {
        "id": "97b2f8ee"
      },
      "outputs": [],
      "source": [
        "pd.options.display.max_seq_items = 200 # Pandas setting to disply more items in the output sell"
      ]
    },
    {
      "cell_type": "code",
      "execution_count": null,
      "id": "da35595b",
      "metadata": {
        "id": "da35595b",
        "outputId": "32a3f057-c020-4fb4-81b3-d11010405532"
      },
      "outputs": [
        {
          "data": {
            "text/plain": [
              "Index(['Aachen', 'Amsterdam', 'Ansbach', 'Barcelona', 'Basel', 'Berlin',\n",
              "       'Bielefeld', 'Bodensee', 'Boeblingen', 'Bonn', 'Braunschweig ',\n",
              "       'Brunswick', 'Brussels', 'Brussels ', 'Bucharest', 'Bölingen',\n",
              "       'Cambridge', 'City in Russia', 'Cologne', 'Copenhagen', 'Cracovia',\n",
              "       'Cracow', 'Cupertino', 'Darmstadt', 'Den Haag', 'Dortmund', 'Dresden',\n",
              "       'Dublin', 'Dublin ', 'Duesseldorf', 'Dusseldorf', 'Dusseldurf',\n",
              "       'Düsseldorf', 'Düsseldorf ', 'Eindhoven', 'Erlangen', 'Fr', 'France',\n",
              "       'Frankfurt', 'Friedrichshafen', 'Hamburg', 'Hannover', 'Heidelberg',\n",
              "       'Heidelberg ', 'Heilbronn', 'Helsinki', 'Hildesheim', 'Hildesheim ',\n",
              "       'Ingolstadt', 'Ingolstadt ', 'Innsbruck', 'Istanbul', 'Jena',\n",
              "       'Karlsruhe', 'Karlsruhe ', 'Kempten', 'Kiev', 'Koblenz', 'Konstanz',\n",
              "       'Konstanz area', 'Krakow', 'Kyiv', 'Köln', 'Leipzig', 'Lisbon',\n",
              "       'London', 'Luttich', 'Lübeck', 'Madrid', 'Malta', 'Mannheim',\n",
              "       'Mannheim ', 'Marseille', 'Milan', 'Milano', 'Minsk', 'Moldova',\n",
              "       'Moscow', 'Munich', 'Murnau am Staffelsee ', 'Münster', 'NJ, USA',\n",
              "       'Nuremberg', 'Nuremberg ', 'Nürnberg', 'Paderborn', 'Paris', 'Prague',\n",
              "       'Prefer not to say', 'Regensburg', 'Riga, Latvia', 'Rome', 'Rosenheim',\n",
              "       'Saarbrücken', 'Saint-Petersburg', 'Salzburg', 'Samara',\n",
              "       'Schleswig-Holstein', 'Sevilla', 'Siegen', 'Sofia', 'Stockholm',\n",
              "       'Stuttgart', 'Stuttgart ', 'Tallinn', 'Tampere (Finland)', 'Tuttlingen',\n",
              "       'Ulm', 'Utrecht', 'Vienna', 'Walldorf', 'Warsaw', 'Warsaw, Poland',\n",
              "       'Wolfsburg', 'Wroclaw', 'Würzburg', 'Zurich', 'Zürich', 'warsaw'],\n",
              "      dtype='object')"
            ]
          },
          "execution_count": 48,
          "metadata": {},
          "output_type": "execute_result"
        }
      ],
      "source": [
        "df.City.value_counts().index.sort_values()"
      ]
    },
    {
      "cell_type": "code",
      "execution_count": null,
      "id": "89800d04",
      "metadata": {
        "id": "89800d04"
      },
      "outputs": [],
      "source": [
        "df.City.replace({'Braunschweig ':'Braunschweig','Brussels ':'Brussels','Bölingen':'Bolingen',\n",
        "                'Dublin ':'Dublin','Dusseldorf':'Duesseldorf', 'Dusseldurf':'Duesseldorf','Düsseldorf':'Duesseldorf',\n",
        "                 'Düsseldorf ':'Duesseldorf','Fr':'France','Heidelberg ':'Heidelberg','Ingolstadt ':'Ingolstadt',\n",
        "                'Karlsruhe ':'Karlsruhe','Konstanz area':'Konstanz','Köln':'Koln','Lübeck':'Lubeck','Mannheim ':'Mannheim',\n",
        "                'Münster':'Munster','Nuremberg ':'Nuremberg','Nürnberg':'Nuremberg','Prefer not to say':np.NaN,\n",
        "                'Riga, Latvia':'Riga Latvia','Saarbrücken':'Saarbrucken','Saint-Petersburg':'Saint Petersburg',\n",
        "                'Schleswig-Holstein':'Schleswig Holstein','Tampere (Finland)':'Tampere','Warsaw, Poland':'Warsaw',\n",
        "                 'Würzburg':'Wurzburg','Zürich':'Zurich','warsaw':'Warsaw'}, inplace=True)"
      ]
    },
    {
      "cell_type": "code",
      "execution_count": null,
      "id": "5a6c9d6e",
      "metadata": {
        "id": "5a6c9d6e",
        "outputId": "d8010e1c-2806-4b54-bcdc-271431ea3046"
      },
      "outputs": [
        {
          "data": {
            "text/plain": [
              "Index(['Aachen', 'Amsterdam', 'Ansbach', 'Barcelona', 'Basel', 'Berlin',\n",
              "       'Bielefeld', 'Bodensee', 'Boeblingen', 'Bolingen', 'Bonn',\n",
              "       'Braunschweig', 'Brunswick', 'Brussels', 'Bucharest', 'Cambridge',\n",
              "       'City in Russia', 'Cologne', 'Copenhagen', 'Cracovia', 'Cracow',\n",
              "       'Cupertino', 'Darmstadt', 'Den Haag', 'Dortmund', 'Dresden', 'Dublin',\n",
              "       'Duesseldorf', 'Eindhoven', 'Erlangen', 'France', 'Frankfurt',\n",
              "       'Friedrichshafen', 'Hamburg', 'Hannover', 'Heidelberg', 'Heilbronn',\n",
              "       'Helsinki', 'Hildesheim', 'Hildesheim ', 'Ingolstadt', 'Innsbruck',\n",
              "       'Istanbul', 'Jena', 'Karlsruhe', 'Kempten', 'Kiev', 'Koblenz', 'Koln',\n",
              "       'Konstanz', 'Krakow', 'Kyiv', 'Leipzig', 'Lisbon', 'London', 'Lubeck',\n",
              "       'Luttich', 'Madrid', 'Malta', 'Mannheim', 'Marseille', 'Milan',\n",
              "       'Milano', 'Minsk', 'Moldova', 'Moscow', 'Munich', 'Munster',\n",
              "       'Murnau am Staffelsee ', 'NJ, USA', 'Nuremberg', 'Paderborn', 'Paris',\n",
              "       'Prague', 'Regensburg', 'Riga Latvia', 'Rome', 'Rosenheim',\n",
              "       'Saarbrucken', 'Saint Petersburg', 'Salzburg', 'Samara',\n",
              "       'Schleswig Holstein', 'Sevilla', 'Siegen', 'Sofia', 'Stockholm',\n",
              "       'Stuttgart', 'Stuttgart ', 'Tallinn', 'Tampere', 'Tuttlingen', 'Ulm',\n",
              "       'Utrecht', 'Vienna', 'Walldorf', 'Warsaw', 'Wolfsburg', 'Wroclaw',\n",
              "       'Wurzburg', 'Zurich'],\n",
              "      dtype='object')"
            ]
          },
          "execution_count": 50,
          "metadata": {},
          "output_type": "execute_result"
        }
      ],
      "source": [
        "df.City.value_counts().index.sort_values()"
      ]
    },
    {
      "cell_type": "code",
      "execution_count": null,
      "id": "3e77e1cd",
      "metadata": {
        "id": "3e77e1cd",
        "outputId": "5a590452-9a48-4b7c-a0cb-218b7e33b0a7"
      },
      "outputs": [
        {
          "data": {
            "text/plain": [
              "Index(['AI Management', 'Account Managet', 'Agile Coach', 'Analyst',\n",
              "       'Analytics engineer', 'Application Consultant', 'Architect',\n",
              "       'Architect ', 'BI Analyst ', 'BI Consultant',\n",
              "       'BI Consultant SAP/ Data Engineer', 'BI Developer / Data Engineer',\n",
              "       'BI IT Consultant', 'Backend Developer', 'Banker', 'Beikoch',\n",
              "       'Big Data Engineer', 'Business Analyst',\n",
              "       'Business Development Manager Operations ', 'C/C++/Java developer',\n",
              "       'CTO', 'Chief Research Officer', 'Cloud Architect', 'Cloud Engineer',\n",
              "       'Computational linguist', 'Consultant', 'Consultant ',\n",
              "       'Consultant Data Analytics', 'DB developer/Data analyst', 'DBA',\n",
              "       'Dana Analyst', 'Data Analyst', 'Data Analyst ', 'Data Center Manager',\n",
              "       'Data Engineer', 'Data Science Manager', 'Data Scientist',\n",
              "       'Data analyst ', 'Data architect', 'DataOps Team Lead', 'DatabEngineer',\n",
              "       'Designer (UI/UX)', 'DevOps', 'DevOps Manager',\n",
              "       'Director of Engineering', 'ERP Consultant',\n",
              "       'Embedded Software Engineer', 'Engineering Manager',\n",
              "       'Engineering Team Lead', 'Engineering manager', 'Firmware Engineer',\n",
              "       'Freelance AI lead / advisor', 'Frontend Developer',\n",
              "       'Full-Stack Developer', 'Fullstack Developer',\n",
              "       'Fullstack engineer, ну или Software engineer', 'Graphic Designer',\n",
              "       'Hardware Engineer', 'Head of BI', 'Head of Engineering', 'Head of IT',\n",
              "       'Head of IT ', 'HiWi', 'IT Manager', 'IT Operations Manager',\n",
              "       'IT Spezialist', 'It Consulting ', 'Lead Developer',\n",
              "       'Lead Software Developer', 'Localization producer', 'ML Engineer',\n",
              "       'Manager', 'Manager ', 'Marketing Analyst', 'Mobile Developer',\n",
              "       'Network Administrator', 'Network Engineer ', 'Presales Engineer ',\n",
              "       'Product Analyst', 'Product Management Praktikant', 'Product Manager',\n",
              "       'Professor', 'Program Manager', 'Project Manager', 'Project manager',\n",
              "       'Project manager ', 'QA Engineer', 'QA Lead', 'QA Manager',\n",
              "       'QA Manager ', 'Recruiter', 'Rentner', 'Reporting Engineer',\n",
              "       'Researcher', 'Researcher/ Consumer Insights Analyst ',\n",
              "       'Robotics Engineer', 'SAP BW Senior Consultant ', 'SAP Consultant',\n",
              "       'SAP Developer', 'SRE', 'SW Architect', 'Sales ', 'Scrum Master',\n",
              "       'Security Engineer', 'Security Manager', 'Security engineer',\n",
              "       'Senior Data Engineer', 'Senior Network&Security Eng.',\n",
              "       'Senior Program Manager', 'Senior Scrum Master (RTE)',\n",
              "       'Software Architect', 'Software Architekt',\n",
              "       'Software Developer in Test', 'Software Engineer', 'Software Sales',\n",
              "       'Software tester ', 'Solution Architect', 'Solutions Architect',\n",
              "       'Solutions architect', 'Staff Engineer',\n",
              "       'Student, Software Developer, Data Engineer', 'Stuttgart',\n",
              "       'Support Engineer', 'System Administrator', 'Systemadministrator',\n",
              "       'Team Lead', 'Team Manager', 'Team lead', 'Teamlead', 'Tech Lead',\n",
              "       'Tech Lead / Full-Stack', 'Tech Leader', 'Tech recruiting',\n",
              "       'Technical Lead', 'Technical account manager ',\n",
              "       'Technical project manager', 'Test manager', 'Testautomation',\n",
              "       'Testmanager', 'VP Engineering', 'XR Developer', 'agile master ',\n",
              "       'computer vision researcher', 'data engineer', 'iOS Developer',\n",
              "       'support engineer', 'technical business analyst',\n",
              "       'working student (QA)'],\n",
              "      dtype='object')"
            ]
          },
          "execution_count": 51,
          "metadata": {},
          "output_type": "execute_result"
        }
      ],
      "source": [
        "df['Position '].value_counts().index.sort_values()"
      ]
    },
    {
      "cell_type": "markdown",
      "id": "82131d3b",
      "metadata": {
        "id": "82131d3b"
      },
      "source": [
        "#### Approach\n",
        "\n",
        "We see there are many values with trailing space. Also some values are capital letters and some in small case.\n",
        "\n",
        "1) Remove trailing spaces\n",
        "\n",
        "2) Convert all data to upper case\n",
        "\n",
        "3) Check for data cleanup and change required values"
      ]
    },
    {
      "cell_type": "code",
      "execution_count": null,
      "id": "c108b018",
      "metadata": {
        "id": "c108b018"
      },
      "outputs": [],
      "source": [
        "df['Position '] = df['Position '].str.strip() # remove trailing space"
      ]
    },
    {
      "cell_type": "code",
      "execution_count": null,
      "id": "6f88f9cf",
      "metadata": {
        "id": "6f88f9cf",
        "outputId": "ae04defa-78f4-456c-a325-70cca5482a88"
      },
      "outputs": [
        {
          "data": {
            "text/plain": [
              "Index(['AI Management', 'Account Managet', 'Agile Coach', 'Analyst',\n",
              "       'Analytics engineer', 'Application Consultant', 'Architect',\n",
              "       'BI Analyst', 'BI Consultant', 'BI Consultant SAP/ Data Engineer',\n",
              "       'BI Developer / Data Engineer', 'BI IT Consultant', 'Backend Developer',\n",
              "       'Banker', 'Beikoch', 'Big Data Engineer', 'Business Analyst',\n",
              "       'Business Development Manager Operations', 'C/C++/Java developer',\n",
              "       'CTO', 'Chief Research Officer', 'Cloud Architect', 'Cloud Engineer',\n",
              "       'Computational linguist', 'Consultant', 'Consultant Data Analytics',\n",
              "       'DB developer/Data analyst', 'DBA', 'Dana Analyst', 'Data Analyst',\n",
              "       'Data Center Manager', 'Data Engineer', 'Data Science Manager',\n",
              "       'Data Scientist', 'Data analyst', 'Data architect', 'DataOps Team Lead',\n",
              "       'DatabEngineer', 'Designer (UI/UX)', 'DevOps', 'DevOps Manager',\n",
              "       'Director of Engineering', 'ERP Consultant',\n",
              "       'Embedded Software Engineer', 'Engineering Manager',\n",
              "       'Engineering Team Lead', 'Engineering manager', 'Firmware Engineer',\n",
              "       'Freelance AI lead / advisor', 'Frontend Developer',\n",
              "       'Full-Stack Developer', 'Fullstack Developer',\n",
              "       'Fullstack engineer, ну или Software engineer', 'Graphic Designer',\n",
              "       'Hardware Engineer', 'Head of BI', 'Head of Engineering', 'Head of IT',\n",
              "       'HiWi', 'IT Manager', 'IT Operations Manager', 'IT Spezialist',\n",
              "       'It Consulting', 'Lead Developer', 'Lead Software Developer',\n",
              "       'Localization producer', 'ML Engineer', 'Manager', 'Marketing Analyst',\n",
              "       'Mobile Developer', 'Network Administrator', 'Network Engineer',\n",
              "       'Presales Engineer', 'Product Analyst', 'Product Management Praktikant',\n",
              "       'Product Manager', 'Professor', 'Program Manager', 'Project Manager',\n",
              "       'Project manager', 'QA Engineer', 'QA Lead', 'QA Manager', 'Recruiter',\n",
              "       'Rentner', 'Reporting Engineer', 'Researcher',\n",
              "       'Researcher/ Consumer Insights Analyst', 'Robotics Engineer',\n",
              "       'SAP BW Senior Consultant', 'SAP Consultant', 'SAP Developer', 'SRE',\n",
              "       'SW Architect', 'Sales', 'Scrum Master', 'Security Engineer',\n",
              "       'Security Manager', 'Security engineer', 'Senior Data Engineer',\n",
              "       'Senior Network&Security Eng.', 'Senior Program Manager',\n",
              "       'Senior Scrum Master (RTE)', 'Software Architect', 'Software Architekt',\n",
              "       'Software Developer in Test', 'Software Engineer', 'Software Sales',\n",
              "       'Software tester', 'Solution Architect', 'Solutions Architect',\n",
              "       'Solutions architect', 'Staff Engineer',\n",
              "       'Student, Software Developer, Data Engineer', 'Stuttgart',\n",
              "       'Support Engineer', 'System Administrator', 'Systemadministrator',\n",
              "       'Team Lead', 'Team Manager', 'Team lead', 'Teamlead', 'Tech Lead',\n",
              "       'Tech Lead / Full-Stack', 'Tech Leader', 'Tech recruiting',\n",
              "       'Technical Lead', 'Technical account manager',\n",
              "       'Technical project manager', 'Test manager', 'Testautomation',\n",
              "       'Testmanager', 'VP Engineering', 'XR Developer', 'agile master',\n",
              "       'computer vision researcher', 'data engineer', 'iOS Developer',\n",
              "       'support engineer', 'technical business analyst',\n",
              "       'working student (QA)'],\n",
              "      dtype='object')"
            ]
          },
          "execution_count": 53,
          "metadata": {},
          "output_type": "execute_result"
        }
      ],
      "source": [
        "df['Position '].value_counts().index.sort_values()"
      ]
    },
    {
      "cell_type": "code",
      "execution_count": null,
      "id": "31f90de8",
      "metadata": {
        "id": "31f90de8"
      },
      "outputs": [],
      "source": [
        "df['Position '] = df['Position '].str.upper() # convert all letters in string to upper case"
      ]
    },
    {
      "cell_type": "code",
      "execution_count": null,
      "id": "cfd25a02",
      "metadata": {
        "scrolled": true,
        "id": "cfd25a02",
        "outputId": "08c280ea-4778-4fc5-e75b-e22bd7a55d10"
      },
      "outputs": [
        {
          "data": {
            "text/plain": [
              "Index(['ACCOUNT MANAGET', 'AGILE COACH', 'AGILE MASTER', 'AI MANAGEMENT',\n",
              "       'ANALYST', 'ANALYTICS ENGINEER', 'APPLICATION CONSULTANT', 'ARCHITECT',\n",
              "       'BACKEND DEVELOPER', 'BANKER', 'BEIKOCH', 'BI ANALYST', 'BI CONSULTANT',\n",
              "       'BI CONSULTANT SAP/ DATA ENGINEER', 'BI DEVELOPER / DATA ENGINEER',\n",
              "       'BI IT CONSULTANT', 'BIG DATA ENGINEER', 'BUSINESS ANALYST',\n",
              "       'BUSINESS DEVELOPMENT MANAGER OPERATIONS', 'C/C++/JAVA DEVELOPER',\n",
              "       'CHIEF RESEARCH OFFICER', 'CLOUD ARCHITECT', 'CLOUD ENGINEER',\n",
              "       'COMPUTATIONAL LINGUIST', 'COMPUTER VISION RESEARCHER', 'CONSULTANT',\n",
              "       'CONSULTANT DATA ANALYTICS', 'CTO', 'DANA ANALYST', 'DATA ANALYST',\n",
              "       'DATA ARCHITECT', 'DATA CENTER MANAGER', 'DATA ENGINEER',\n",
              "       'DATA SCIENCE MANAGER', 'DATA SCIENTIST', 'DATABENGINEER',\n",
              "       'DATAOPS TEAM LEAD', 'DB DEVELOPER/DATA ANALYST', 'DBA',\n",
              "       'DESIGNER (UI/UX)', 'DEVOPS', 'DEVOPS MANAGER',\n",
              "       'DIRECTOR OF ENGINEERING', 'EMBEDDED SOFTWARE ENGINEER',\n",
              "       'ENGINEERING MANAGER', 'ENGINEERING TEAM LEAD', 'ERP CONSULTANT',\n",
              "       'FIRMWARE ENGINEER', 'FREELANCE AI LEAD / ADVISOR',\n",
              "       'FRONTEND DEVELOPER', 'FULL-STACK DEVELOPER', 'FULLSTACK DEVELOPER',\n",
              "       'FULLSTACK ENGINEER, НУ ИЛИ SOFTWARE ENGINEER', 'GRAPHIC DESIGNER',\n",
              "       'HARDWARE ENGINEER', 'HEAD OF BI', 'HEAD OF ENGINEERING', 'HEAD OF IT',\n",
              "       'HIWI', 'IOS DEVELOPER', 'IT CONSULTING', 'IT MANAGER',\n",
              "       'IT OPERATIONS MANAGER', 'IT SPEZIALIST', 'LEAD DEVELOPER',\n",
              "       'LEAD SOFTWARE DEVELOPER', 'LOCALIZATION PRODUCER', 'MANAGER',\n",
              "       'MARKETING ANALYST', 'ML ENGINEER', 'MOBILE DEVELOPER',\n",
              "       'NETWORK ADMINISTRATOR', 'NETWORK ENGINEER', 'PRESALES ENGINEER',\n",
              "       'PRODUCT ANALYST', 'PRODUCT MANAGEMENT PRAKTIKANT', 'PRODUCT MANAGER',\n",
              "       'PROFESSOR', 'PROGRAM MANAGER', 'PROJECT MANAGER', 'QA ENGINEER',\n",
              "       'QA LEAD', 'QA MANAGER', 'RECRUITER', 'RENTNER', 'REPORTING ENGINEER',\n",
              "       'RESEARCHER', 'RESEARCHER/ CONSUMER INSIGHTS ANALYST',\n",
              "       'ROBOTICS ENGINEER', 'SALES', 'SAP BW SENIOR CONSULTANT',\n",
              "       'SAP CONSULTANT', 'SAP DEVELOPER', 'SCRUM MASTER', 'SECURITY ENGINEER',\n",
              "       'SECURITY MANAGER', 'SENIOR DATA ENGINEER',\n",
              "       'SENIOR NETWORK&SECURITY ENG.', 'SENIOR PROGRAM MANAGER',\n",
              "       'SENIOR SCRUM MASTER (RTE)', 'SOFTWARE ARCHITECT', 'SOFTWARE ARCHITEKT',\n",
              "       'SOFTWARE DEVELOPER IN TEST', 'SOFTWARE ENGINEER', 'SOFTWARE SALES',\n",
              "       'SOFTWARE TESTER', 'SOLUTION ARCHITECT', 'SOLUTIONS ARCHITECT', 'SRE',\n",
              "       'STAFF ENGINEER', 'STUDENT, SOFTWARE DEVELOPER, DATA ENGINEER',\n",
              "       'STUTTGART', 'SUPPORT ENGINEER', 'SW ARCHITECT', 'SYSTEM ADMINISTRATOR',\n",
              "       'SYSTEMADMINISTRATOR', 'TEAM LEAD', 'TEAM MANAGER', 'TEAMLEAD',\n",
              "       'TECH LEAD', 'TECH LEAD / FULL-STACK', 'TECH LEADER', 'TECH RECRUITING',\n",
              "       'TECHNICAL ACCOUNT MANAGER', 'TECHNICAL BUSINESS ANALYST',\n",
              "       'TECHNICAL LEAD', 'TECHNICAL PROJECT MANAGER', 'TEST MANAGER',\n",
              "       'TESTAUTOMATION', 'TESTMANAGER', 'VP ENGINEERING',\n",
              "       'WORKING STUDENT (QA)', 'XR DEVELOPER'],\n",
              "      dtype='object')"
            ]
          },
          "execution_count": 55,
          "metadata": {},
          "output_type": "execute_result"
        }
      ],
      "source": [
        "df['Position '].value_counts().index.sort_values()"
      ]
    },
    {
      "cell_type": "code",
      "execution_count": null,
      "id": "778290ba",
      "metadata": {
        "id": "778290ba"
      },
      "outputs": [],
      "source": [
        "df['Position '].replace({'ACCOUNT MANAGET':'ACCOUNT MANAGER','DANA ANALYST':'DATA ANALYST','DATABENGINEER':'DATA ENGINEER',\n",
        "                         'FULL-STACK DEVELOPER':'FULLSTACK DEVELOPER',\n",
        "                         'FULLSTACK ENGINEER, НУ ИЛИ SOFTWARE ENGINEER':'FULLSTACK DEVELOPER',                        \n",
        "                         'SOFTWARE ARCHITEKT':'SOFTWARE ARCHITECT',                         \n",
        "                         'STUDENT, SOFTWARE DEVELOPER, DATA ENGINEER':'SOFTWARE DEVELOPER',                        \n",
        "                         'SW ARCHITECT':'SOFTWARE ARCHITECT','SYSTEMADMINISTRATOR':'SYSTEM ADMINISTRATOR',                        \n",
        "                         'TEAMLEAD':'TEAM LEAD','TECH LEAD / FULL-STACK':'TECH LEAD',                        \n",
        "                         'TECH LEADER':'TECH LEAD','TESTAUTOMATION':'TEST AUTOMATION', 'TESTMANAGER':'TEST MANAGER'},inplace=True)"
      ]
    },
    {
      "cell_type": "code",
      "execution_count": null,
      "id": "52973f31",
      "metadata": {
        "id": "52973f31",
        "outputId": "eceb8d4b-300d-4e7d-f679-4d7e15f0dbc3"
      },
      "outputs": [
        {
          "data": {
            "text/plain": [
              "Index(['ACCOUNT MANAGER', 'AGILE COACH', 'AGILE MASTER', 'AI MANAGEMENT',\n",
              "       'ANALYST', 'ANALYTICS ENGINEER', 'APPLICATION CONSULTANT', 'ARCHITECT',\n",
              "       'BACKEND DEVELOPER', 'BANKER', 'BEIKOCH', 'BI ANALYST', 'BI CONSULTANT',\n",
              "       'BI CONSULTANT SAP/ DATA ENGINEER', 'BI DEVELOPER / DATA ENGINEER',\n",
              "       'BI IT CONSULTANT', 'BIG DATA ENGINEER', 'BUSINESS ANALYST',\n",
              "       'BUSINESS DEVELOPMENT MANAGER OPERATIONS', 'C/C++/JAVA DEVELOPER',\n",
              "       'CHIEF RESEARCH OFFICER', 'CLOUD ARCHITECT', 'CLOUD ENGINEER',\n",
              "       'COMPUTATIONAL LINGUIST', 'COMPUTER VISION RESEARCHER', 'CONSULTANT',\n",
              "       'CONSULTANT DATA ANALYTICS', 'CTO', 'DATA ANALYST', 'DATA ARCHITECT',\n",
              "       'DATA CENTER MANAGER', 'DATA ENGINEER', 'DATA SCIENCE MANAGER',\n",
              "       'DATA SCIENTIST', 'DATAOPS TEAM LEAD', 'DB DEVELOPER/DATA ANALYST',\n",
              "       'DBA', 'DESIGNER (UI/UX)', 'DEVOPS', 'DEVOPS MANAGER',\n",
              "       'DIRECTOR OF ENGINEERING', 'EMBEDDED SOFTWARE ENGINEER',\n",
              "       'ENGINEERING MANAGER', 'ENGINEERING TEAM LEAD', 'ERP CONSULTANT',\n",
              "       'FIRMWARE ENGINEER', 'FREELANCE AI LEAD / ADVISOR',\n",
              "       'FRONTEND DEVELOPER', 'FULLSTACK DEVELOPER', 'GRAPHIC DESIGNER',\n",
              "       'HARDWARE ENGINEER', 'HEAD OF BI', 'HEAD OF ENGINEERING', 'HEAD OF IT',\n",
              "       'HIWI', 'IOS DEVELOPER', 'IT CONSULTING', 'IT MANAGER',\n",
              "       'IT OPERATIONS MANAGER', 'IT SPEZIALIST', 'LEAD DEVELOPER',\n",
              "       'LEAD SOFTWARE DEVELOPER', 'LOCALIZATION PRODUCER', 'MANAGER',\n",
              "       'MARKETING ANALYST', 'ML ENGINEER', 'MOBILE DEVELOPER',\n",
              "       'NETWORK ADMINISTRATOR', 'NETWORK ENGINEER', 'PRESALES ENGINEER',\n",
              "       'PRODUCT ANALYST', 'PRODUCT MANAGEMENT PRAKTIKANT', 'PRODUCT MANAGER',\n",
              "       'PROFESSOR', 'PROGRAM MANAGER', 'PROJECT MANAGER', 'QA ENGINEER',\n",
              "       'QA LEAD', 'QA MANAGER', 'RECRUITER', 'RENTNER', 'REPORTING ENGINEER',\n",
              "       'RESEARCHER', 'RESEARCHER/ CONSUMER INSIGHTS ANALYST',\n",
              "       'ROBOTICS ENGINEER', 'SALES', 'SAP BW SENIOR CONSULTANT',\n",
              "       'SAP CONSULTANT', 'SAP DEVELOPER', 'SCRUM MASTER', 'SECURITY ENGINEER',\n",
              "       'SECURITY MANAGER', 'SENIOR DATA ENGINEER',\n",
              "       'SENIOR NETWORK&SECURITY ENG.', 'SENIOR PROGRAM MANAGER',\n",
              "       'SENIOR SCRUM MASTER (RTE)', 'SOFTWARE ARCHITECT', 'SOFTWARE DEVELOPER',\n",
              "       'SOFTWARE DEVELOPER IN TEST', 'SOFTWARE ENGINEER', 'SOFTWARE SALES',\n",
              "       'SOFTWARE TESTER', 'SOLUTION ARCHITECT', 'SOLUTIONS ARCHITECT', 'SRE',\n",
              "       'STAFF ENGINEER', 'STUTTGART', 'SUPPORT ENGINEER',\n",
              "       'SYSTEM ADMINISTRATOR', 'TEAM LEAD', 'TEAM MANAGER', 'TECH LEAD',\n",
              "       'TECH RECRUITING', 'TECHNICAL ACCOUNT MANAGER',\n",
              "       'TECHNICAL BUSINESS ANALYST', 'TECHNICAL LEAD',\n",
              "       'TECHNICAL PROJECT MANAGER', 'TEST AUTOMATION', 'TEST MANAGER',\n",
              "       'VP ENGINEERING', 'WORKING STUDENT (QA)', 'XR DEVELOPER'],\n",
              "      dtype='object')"
            ]
          },
          "execution_count": 57,
          "metadata": {},
          "output_type": "execute_result"
        }
      ],
      "source": [
        "df['Position '].value_counts().index.sort_values()"
      ]
    },
    {
      "cell_type": "code",
      "execution_count": null,
      "id": "798f0368",
      "metadata": {
        "id": "798f0368",
        "outputId": "32c7eb73-9f2d-4dc2-e00f-89a1a3383f55"
      },
      "outputs": [
        {
          "data": {
            "text/plain": [
              "Index(['C-Level', 'C-level executive manager', 'CTO', 'Director',\n",
              "       'Entry level', 'Head', 'Intern', 'Junior', 'Key', 'Lead', 'Manager',\n",
              "       'Middle', 'No level', 'No level ', 'Principal', 'Self employed',\n",
              "       'Senior', 'Student', 'VP', 'Work Center Manager', 'Working Student',\n",
              "       'intern', 'no idea, there are no ranges in the firm ', 'student'],\n",
              "      dtype='object')"
            ]
          },
          "execution_count": 58,
          "metadata": {},
          "output_type": "execute_result"
        }
      ],
      "source": [
        "df['Seniority level'].value_counts().index.sort_values()"
      ]
    },
    {
      "cell_type": "code",
      "execution_count": null,
      "id": "4e6a1820",
      "metadata": {
        "id": "4e6a1820"
      },
      "outputs": [],
      "source": [
        "df['Seniority level'].replace({'C-level executive manager':'C-Level','No level ':'No level','intern':'Intern',\n",
        "                              'no idea, there are no ranges in the firm ':'No level','student':'Working Student'}, \n",
        "                              inplace=True)"
      ]
    },
    {
      "cell_type": "code",
      "execution_count": null,
      "id": "44a7480e",
      "metadata": {
        "id": "44a7480e",
        "outputId": "101fe12d-1afa-49fe-820a-e558cb669689"
      },
      "outputs": [
        {
          "data": {
            "text/plain": [
              "Index(['C-Level', 'CTO', 'Director', 'Entry level', 'Head', 'Intern', 'Junior',\n",
              "       'Key', 'Lead', 'Manager', 'Middle', 'No level', 'Principal',\n",
              "       'Self employed', 'Senior', 'Student', 'VP', 'Work Center Manager',\n",
              "       'Working Student'],\n",
              "      dtype='object')"
            ]
          },
          "execution_count": 60,
          "metadata": {},
          "output_type": "execute_result"
        }
      ],
      "source": [
        "df['Seniority level'].value_counts().index.sort_values()"
      ]
    },
    {
      "cell_type": "markdown",
      "id": "82476095",
      "metadata": {
        "id": "82476095"
      },
      "source": [
        "Use same approach as 'Position' for 'Main technology'"
      ]
    },
    {
      "cell_type": "code",
      "execution_count": null,
      "id": "f455b452",
      "metadata": {
        "id": "f455b452",
        "outputId": "7228fd67-1594-436f-f655-7b381bbdede2"
      },
      "outputs": [
        {
          "data": {
            "text/plain": [
              "Index(['-', '--', '.NET', '.Net', '.Net, Angular', '.net',\n",
              "       '.net, c++, spss, embeddded', 'ABAP', 'AI', 'AWS',\n",
              "       ...\n",
              "       'ruby on rails', 'scala', 'several', 'spark', 'sql', 'swift',\n",
              "       'typescript', 'yaml', 'Офмф', 'С#'],\n",
              "      dtype='object', length=255)"
            ]
          },
          "execution_count": 61,
          "metadata": {},
          "output_type": "execute_result"
        }
      ],
      "source": [
        "df['Main technology'].value_counts().index.sort_values()"
      ]
    },
    {
      "cell_type": "code",
      "execution_count": null,
      "id": "92914741",
      "metadata": {
        "id": "92914741",
        "outputId": "e140e04d-b468-4342-94ce-95a6d3a28179"
      },
      "outputs": [
        {
          "data": {
            "text/html": [
              "<div>\n",
              "<style scoped>\n",
              "    .dataframe tbody tr th:only-of-type {\n",
              "        vertical-align: middle;\n",
              "    }\n",
              "\n",
              "    .dataframe tbody tr th {\n",
              "        vertical-align: top;\n",
              "    }\n",
              "\n",
              "    .dataframe thead th {\n",
              "        text-align: right;\n",
              "    }\n",
              "</style>\n",
              "<table border=\"1\" class=\"dataframe\">\n",
              "  <thead>\n",
              "    <tr style=\"text-align: right;\">\n",
              "      <th></th>\n",
              "      <th>Timestamp</th>\n",
              "      <th>Age</th>\n",
              "      <th>Gender</th>\n",
              "      <th>City</th>\n",
              "      <th>Position</th>\n",
              "      <th>Seniority level</th>\n",
              "      <th>Main technology</th>\n",
              "      <th>Annual Salary in EUR</th>\n",
              "      <th>Bonus in EUR</th>\n",
              "      <th>Number of vacation days</th>\n",
              "      <th>Employment status</th>\n",
              "      <th>Contract duration</th>\n",
              "      <th>Main language at work</th>\n",
              "      <th>Company type</th>\n",
              "      <th>Total experience_1</th>\n",
              "      <th>Experience in Germany_1</th>\n",
              "    </tr>\n",
              "  </thead>\n",
              "  <tbody>\n",
              "    <tr>\n",
              "      <th>772</th>\n",
              "      <td>26-11-2020 14:53</td>\n",
              "      <td>30.0</td>\n",
              "      <td>Male</td>\n",
              "      <td>Munich</td>\n",
              "      <td>SOFTWARE ENGINEER</td>\n",
              "      <td>Senior</td>\n",
              "      <td>Офмф</td>\n",
              "      <td>79000.0</td>\n",
              "      <td>NaN</td>\n",
              "      <td>NaN</td>\n",
              "      <td>Full-time employee</td>\n",
              "      <td>Unlimited contract</td>\n",
              "      <td>English</td>\n",
              "      <td>Product</td>\n",
              "      <td>10.0</td>\n",
              "      <td>3.0</td>\n",
              "    </tr>\n",
              "  </tbody>\n",
              "</table>\n",
              "</div>"
            ],
            "text/plain": [
              "            Timestamp   Age Gender    City          Position  Seniority level  \\\n",
              "772  26-11-2020 14:53  30.0   Male  Munich  SOFTWARE ENGINEER          Senior   \n",
              "\n",
              "    Main technology  Annual Salary in EUR  Bonus in EUR  \\\n",
              "772            Офмф               79000.0           NaN   \n",
              "\n",
              "     Number of vacation days   Employment status   Contract duration  \\\n",
              "772                      NaN  Full-time employee  Unlimited contract   \n",
              "\n",
              "    Main language at work Company type  Total experience_1  \\\n",
              "772               English      Product                10.0   \n",
              "\n",
              "     Experience in Germany_1  \n",
              "772                      3.0  "
            ]
          },
          "execution_count": 62,
          "metadata": {},
          "output_type": "execute_result"
        }
      ],
      "source": [
        "df[df['Main technology'] == 'Офмф']"
      ]
    },
    {
      "cell_type": "code",
      "execution_count": null,
      "id": "f432e162",
      "metadata": {
        "id": "f432e162"
      },
      "outputs": [],
      "source": [
        "df['Main technology'] = df['Main technology'].str.strip()"
      ]
    },
    {
      "cell_type": "code",
      "execution_count": null,
      "id": "97952ee5",
      "metadata": {
        "id": "97952ee5"
      },
      "outputs": [],
      "source": [
        "df['Main technology'] = df['Main technology'].str.upper()"
      ]
    },
    {
      "cell_type": "code",
      "execution_count": null,
      "id": "9f87c43c",
      "metadata": {
        "id": "9f87c43c",
        "outputId": "79dad31b-f393-468b-b383-656ab24a874e"
      },
      "outputs": [
        {
          "data": {
            "text/plain": [
              "Index(['-', '--', '.NET', '.NET, ANGULAR', '.NET, C++, SPSS, EMBEDDDED',\n",
              "       'ABAP', 'AGILE', 'AI', 'ANDROID', 'ANDROID/KOTLIN',\n",
              "       ...\n",
              "       'TYPESCRIPT, WEB APPS', 'TYPESCRIPT/ANGULAR', 'UML', 'VB, RPA, PYTHON',\n",
              "       'VHDL', 'WEB', 'WEB DEVELOPER', 'YAML', 'ОФМФ', 'С#'],\n",
              "      dtype='object', length=207)"
            ]
          },
          "execution_count": 65,
          "metadata": {},
          "output_type": "execute_result"
        }
      ],
      "source": [
        "df['Main technology'].value_counts().index.sort_values()"
      ]
    },
    {
      "cell_type": "code",
      "execution_count": null,
      "id": "1cc4e564",
      "metadata": {
        "id": "1cc4e564"
      },
      "outputs": [],
      "source": [
        "df['Main technology'].replace({'Офмф':np.NaN,'-':np.NaN,'--':np.NaN,'C#':'C Sharp'}, inplace =True)"
      ]
    },
    {
      "cell_type": "code",
      "execution_count": null,
      "id": "d58a5a9d",
      "metadata": {
        "id": "d58a5a9d",
        "outputId": "88d02ee1-2353-44ca-debf-67a600dd8c5c"
      },
      "outputs": [
        {
          "data": {
            "text/plain": [
              "PYTHON                                  212\n",
              "JAVA                                    196\n",
              "JAVASCRIPT                               80\n",
              "PHP                                      71\n",
              "C++                                      41\n",
              "                                       ... \n",
              "EMBEDDED C++                              1\n",
              "AGILE                                     1\n",
              "NODE                                      1\n",
              "NETWORKING, LINUX, AUTOMATION, CLOUD      1\n",
              "JAVA & PHP                                1\n",
              "Name: Main technology, Length: 205, dtype: int64"
            ]
          },
          "execution_count": 67,
          "metadata": {},
          "output_type": "execute_result"
        }
      ],
      "source": [
        "df['Main technology'].value_counts()"
      ]
    },
    {
      "cell_type": "code",
      "execution_count": null,
      "id": "ec45abc6",
      "metadata": {
        "id": "ec45abc6",
        "outputId": "934902ce-5107-4ea4-83ee-fb6f700479e8"
      },
      "outputs": [
        {
          "data": {
            "text/plain": [
              "Full-time employee                                                                 1189\n",
              "Self-employed (freelancer)                                                           28\n",
              "Part-time employee                                                                    8\n",
              "Founder                                                                               3\n",
              "working student                                                                       1\n",
              "Intern                                                                                1\n",
              "Working Student                                                                       1\n",
              "Company Director                                                                      1\n",
              "Full-time position, part-time position, & self-employed (freelancing, tutoring)       1\n",
              "full-time, but 32 hours per week (it was my request, I'm a student)                   1\n",
              "Werkstudent                                                                           1\n",
              "Name: Employment status, dtype: int64"
            ]
          },
          "execution_count": 68,
          "metadata": {},
          "output_type": "execute_result"
        }
      ],
      "source": [
        "df['Employment status'].value_counts()"
      ]
    },
    {
      "cell_type": "code",
      "execution_count": null,
      "id": "94298bff",
      "metadata": {
        "id": "94298bff"
      },
      "outputs": [],
      "source": [
        "df['Employment status'].replace({'working student':'Working Student','Werkstudent':'Working Student',\n",
        "                                \"full-time, but 32 hours per week (it was my request, I'm a student)\":'Working Student',\n",
        "                                'Full-time position, part-time position, & self-employed (freelancing, tutoring)':'Self-employed (freelancer)'}, \n",
        "                                inplace = True)"
      ]
    },
    {
      "cell_type": "code",
      "execution_count": null,
      "id": "15b2d41e",
      "metadata": {
        "id": "15b2d41e",
        "outputId": "3518cfcf-0833-42df-befc-ee28e5f39d0a"
      },
      "outputs": [
        {
          "data": {
            "text/plain": [
              "Full-time employee            1189\n",
              "Self-employed (freelancer)      29\n",
              "Part-time employee               8\n",
              "Working Student                  4\n",
              "Founder                          3\n",
              "Intern                           1\n",
              "Company Director                 1\n",
              "Name: Employment status, dtype: int64"
            ]
          },
          "execution_count": 70,
          "metadata": {},
          "output_type": "execute_result"
        }
      ],
      "source": [
        "df['Employment status'].value_counts()"
      ]
    },
    {
      "cell_type": "code",
      "execution_count": null,
      "id": "868ea00c",
      "metadata": {
        "id": "868ea00c",
        "outputId": "510bfefb-47e3-4b29-cd5c-453941984a40"
      },
      "outputs": [
        {
          "data": {
            "text/plain": [
              "Unlimited contract    1158\n",
              "Temporary contract      64\n",
              "0                        1\n",
              "Name: Contract duration, dtype: int64"
            ]
          },
          "execution_count": 71,
          "metadata": {},
          "output_type": "execute_result"
        }
      ],
      "source": [
        "df['Contract duration'].value_counts()"
      ]
    },
    {
      "cell_type": "code",
      "execution_count": null,
      "id": "0ddfca3d",
      "metadata": {
        "id": "0ddfca3d"
      },
      "outputs": [],
      "source": [
        "df['Contract duration'].replace(to_replace='0', value=np.NaN, inplace=True)"
      ]
    },
    {
      "cell_type": "code",
      "execution_count": null,
      "id": "af74d03a",
      "metadata": {
        "id": "af74d03a",
        "outputId": "bf5a32ff-78ac-4030-c16c-18e60b41e792"
      },
      "outputs": [
        {
          "data": {
            "text/plain": [
              "Unlimited contract    1158\n",
              "Temporary contract      64\n",
              "Name: Contract duration, dtype: int64"
            ]
          },
          "execution_count": 73,
          "metadata": {},
          "output_type": "execute_result"
        }
      ],
      "source": [
        "df['Contract duration'].value_counts()"
      ]
    },
    {
      "cell_type": "code",
      "execution_count": null,
      "id": "f81f9370",
      "metadata": {
        "id": "f81f9370",
        "outputId": "bb27b3fe-d46f-40a3-d560-fba2c2fb7d31"
      },
      "outputs": [
        {
          "data": {
            "text/plain": [
              "English               1019\n",
              "German                 186\n",
              "Russian                 12\n",
              "Spanish                  3\n",
              "Italian                  3\n",
              "Русский                  2\n",
              "Polish                   2\n",
              "Czech                    2\n",
              "English and German       2\n",
              "50/50                    1\n",
              "both                     1\n",
              "French                   1\n",
              "Deuglisch                1\n",
              "Russian, English         1\n",
              "Name: Main language at work, dtype: int64"
            ]
          },
          "execution_count": 74,
          "metadata": {},
          "output_type": "execute_result"
        }
      ],
      "source": [
        "df['Main language at work'].value_counts()"
      ]
    },
    {
      "cell_type": "code",
      "execution_count": null,
      "id": "b33292cb",
      "metadata": {
        "id": "b33292cb"
      },
      "outputs": [],
      "source": [
        "df['Main language at work'].replace({'Русский':np.NaN,'both':'English and German','50/50':'English and German'}, inplace=True)"
      ]
    },
    {
      "cell_type": "code",
      "execution_count": null,
      "id": "d78b85dc",
      "metadata": {
        "id": "d78b85dc",
        "outputId": "b9a251f0-3342-4fe6-be48-931d967236cc"
      },
      "outputs": [
        {
          "data": {
            "text/plain": [
              "English               1019\n",
              "German                 186\n",
              "Russian                 12\n",
              "English and German       4\n",
              "Spanish                  3\n",
              "Italian                  3\n",
              "Polish                   2\n",
              "Czech                    2\n",
              "French                   1\n",
              "Deuglisch                1\n",
              "Russian, English         1\n",
              "Name: Main language at work, dtype: int64"
            ]
          },
          "execution_count": 76,
          "metadata": {},
          "output_type": "execute_result"
        }
      ],
      "source": [
        "df['Main language at work'].value_counts()"
      ]
    },
    {
      "cell_type": "code",
      "execution_count": null,
      "id": "fa4bc149",
      "metadata": {
        "id": "fa4bc149",
        "outputId": "21672128-ca2e-4be0-d972-81dcf39f97b8"
      },
      "outputs": [
        {
          "data": {
            "text/plain": [
              "Product                760\n",
              "Startup                251\n",
              "Consulting / Agency    142\n",
              "Bank                     5\n",
              "E-commerce               3\n",
              "                      ... \n",
              "Corporation              1\n",
              "Pharma                   1\n",
              "corporate incubator      1\n",
              "Telecommunications       1\n",
              "consumer goods           1\n",
              "Name: Company type, Length: 63, dtype: int64"
            ]
          },
          "execution_count": 77,
          "metadata": {},
          "output_type": "execute_result"
        }
      ],
      "source": [
        "df['Company type'].value_counts()"
      ]
    },
    {
      "cell_type": "code",
      "execution_count": null,
      "id": "9d188b3b",
      "metadata": {
        "id": "9d188b3b"
      },
      "outputs": [],
      "source": [
        "df['Company type'] = df['Company type'].str.strip()\n",
        "df['Company type'] = df['Company type'].str.upper()"
      ]
    },
    {
      "cell_type": "code",
      "execution_count": null,
      "id": "77f8d8ad",
      "metadata": {
        "id": "77f8d8ad",
        "outputId": "64bd7e37-0446-4c91-c808-3f01e21ff149"
      },
      "outputs": [
        {
          "data": {
            "text/plain": [
              "PRODUCT                                                                     760\n",
              "STARTUP                                                                     251\n",
              "CONSULTING / AGENCY                                                         142\n",
              "BANK                                                                          6\n",
              "E-COMMERCE                                                                    5\n",
              "CORPORATION                                                                   3\n",
              "MEDIA                                                                         3\n",
              "UTILITIES                                                                     2\n",
              "ECOMMERCE                                                                     2\n",
              "AUTOMOTIVE                                                                    2\n",
              "FINANCE                                                                       2\n",
              "UNIVERSITY                                                                    2\n",
              "RESEARCH                                                                      2\n",
              "FINTECH                                                                       2\n",
              "CLOUD                                                                         1\n",
              "FULL-TIME POSITION IN EDUCATION, PART-TIME POSITION IN AT A DATA STARTUP      1\n",
              "FREELANCE                                                                     1\n",
              "INSURANCE                                                                     1\n",
              "BLOODY ENTERPRISE                                                             1\n",
              "FINANCIAL                                                                     1\n",
              "CONSUMER GOODS                                                                1\n",
              "EDUCATION                                                                     1\n",
              "TRANSPORT & LOGISTICS                                                         1\n",
              "TELECOMMUNICATIONS                                                            1\n",
              "INDUSTRY                                                                      1\n",
              "PERSONAL LTD                                                                  1\n",
              "ENERGY                                                                        1\n",
              "BIG COMMERCIAL                                                                1\n",
              "NON-TECH RETAIL                                                               1\n",
              "OLD INDUSTRY                                                                  1\n",
              "CONSULTING AND PRODUCT                                                        1\n",
              "SEMICONDUCTOR                                                                 1\n",
              "BIERGARTEN                                                                    1\n",
              "MARKET RESEARCH                                                               1\n",
              "MULTINATIONAL                                                                 1\n",
              "CONSTRUCTION                                                                  1\n",
              "CORPORATE INCUBATOR                                                           1\n",
              "OUTSORCE                                                                      1\n",
              "PHARMA                                                                        1\n",
              "SCIENCE INSTITUTE                                                             1\n",
              "OUTSOURSE                                                                     1\n",
              "SERVICE                                                                       1\n",
              "IT-OUTSOURCING                                                                1\n",
              "IT DEPARTMENT OF ESTABLISHED BUSINESS                                         1\n",
              "PUBLISHING AND TECHNOLOGY                                                     1\n",
              "RETAIL                                                                        1\n",
              "SYSTEMHAUS                                                                    1\n",
              "CONCERN                                                                       1\n",
              "BEHÖRDE                                                                       1\n",
              "FAANG                                                                         1\n",
              "GAME COMPANY                                                                  1\n",
              "PUBLISHER                                                                     1\n",
              "RESEARCH INSTITUTE                                                            1\n",
              "ENTERPRISE                                                                    1\n",
              "SAAS                                                                          1\n",
              "HANDEL                                                                        1\n",
              "INSTITUTE                                                                     1\n",
              "Name: Company type, dtype: int64"
            ]
          },
          "execution_count": 79,
          "metadata": {},
          "output_type": "execute_result"
        }
      ],
      "source": [
        "df['Company type'].value_counts()"
      ]
    },
    {
      "cell_type": "code",
      "execution_count": null,
      "id": "46d8354f",
      "metadata": {
        "id": "46d8354f"
      },
      "outputs": [],
      "source": [
        "df['Company type'].replace({'ECOMMERCE':'E-COMMERCE'}, inplace=True)"
      ]
    },
    {
      "cell_type": "code",
      "execution_count": null,
      "id": "b28ae7c3",
      "metadata": {
        "id": "b28ae7c3"
      },
      "outputs": [],
      "source": [
        "df['Timestamp'] = pd.to_datetime(df['Timestamp'])"
      ]
    },
    {
      "cell_type": "code",
      "execution_count": null,
      "id": "474be61f",
      "metadata": {
        "id": "474be61f",
        "outputId": "b074f5e2-8080-49d1-bd76-df3ed8b347d6"
      },
      "outputs": [
        {
          "name": "stdout",
          "output_type": "stream",
          "text": [
            "<class 'pandas.core.frame.DataFrame'>\n",
            "Int64Index: 1251 entries, 0 to 1252\n",
            "Data columns (total 16 columns):\n",
            " #   Column                   Non-Null Count  Dtype         \n",
            "---  ------                   --------------  -----         \n",
            " 0   Timestamp                1251 non-null   datetime64[ns]\n",
            " 1   Age                      1225 non-null   float64       \n",
            " 2   Gender                   1242 non-null   object        \n",
            " 3   City                     1250 non-null   object        \n",
            " 4   Position                 1246 non-null   object        \n",
            " 5   Seniority level          1240 non-null   object        \n",
            " 6   Main technology          1123 non-null   object        \n",
            " 7   Annual Salary in EUR     1251 non-null   float64       \n",
            " 8   Bonus in EUR             823 non-null    float64       \n",
            " 9   Number of vacation days  1173 non-null   float64       \n",
            " 10  Employment status        1235 non-null   object        \n",
            " 11  Contract duration        1222 non-null   object        \n",
            " 12  Main language at work    1234 non-null   object        \n",
            " 13  Company type             1227 non-null   object        \n",
            " 14  Total experience_1       1236 non-null   float64       \n",
            " 15  Experience in Germany_1  1216 non-null   float64       \n",
            "dtypes: datetime64[ns](1), float64(6), object(9)\n",
            "memory usage: 166.1+ KB\n"
          ]
        }
      ],
      "source": [
        "df.info()"
      ]
    },
    {
      "cell_type": "markdown",
      "id": "98c2e62f",
      "metadata": {
        "id": "98c2e62f"
      },
      "source": [
        "Lets rename the columns to ease coding. This can also be done at the beginning of the program."
      ]
    },
    {
      "cell_type": "code",
      "execution_count": null,
      "id": "6a370697",
      "metadata": {
        "id": "6a370697",
        "outputId": "189ce49a-04fb-4c0d-fa3d-ab1afc387548"
      },
      "outputs": [
        {
          "data": {
            "text/plain": [
              "Index(['Timestamp', 'Age', 'Gender', 'City', 'Position ', 'Seniority level',\n",
              "       'Main technology', 'Annual Salary in EUR', 'Bonus in EUR',\n",
              "       'Number of vacation days', 'Employment status', 'Contract duration',\n",
              "       'Main language at work', 'Company type', 'Total experience_1',\n",
              "       'Experience in Germany_1'],\n",
              "      dtype='object')"
            ]
          },
          "execution_count": 83,
          "metadata": {},
          "output_type": "execute_result"
        }
      ],
      "source": [
        "df.columns"
      ]
    },
    {
      "cell_type": "code",
      "execution_count": null,
      "id": "a04d9280",
      "metadata": {
        "id": "a04d9280"
      },
      "outputs": [],
      "source": [
        "df.rename(columns={'Position ':'Position','Seniority level':'Seniority_Level','Main technology':'Main_Technology',\n",
        "                  'Annual Salary in EUR':'Annual_Salary','Bonus in EUR':'Bonus','Number of vacation days':'Vacation_Days',\n",
        "                  'Employment status':'Employment_Status','Contract duration':'Contract_Duration',\n",
        "                   'Main language at work':'Language','Company type':'Company_Type','Total experience_1':'Total_Experience',\n",
        "                  'Experience in Germany_1':'Germany_Experience'}, inplace=True)"
      ]
    },
    {
      "cell_type": "code",
      "execution_count": null,
      "id": "5bd04767",
      "metadata": {
        "id": "5bd04767",
        "outputId": "0a33d047-1a41-4a9d-9b53-d15c91a79ea2"
      },
      "outputs": [
        {
          "data": {
            "text/plain": [
              "Index(['Timestamp', 'Age', 'Gender', 'City', 'Position', 'Seniority_Level',\n",
              "       'Main_Technology', 'Annual_Salary', 'Bonus', 'Vacation_Days',\n",
              "       'Employment_Status', 'Contract_Duration', 'Language', 'Company_Type',\n",
              "       'Total_Experience', 'Germany_Experience'],\n",
              "      dtype='object')"
            ]
          },
          "execution_count": 85,
          "metadata": {},
          "output_type": "execute_result"
        }
      ],
      "source": [
        "df.columns"
      ]
    },
    {
      "cell_type": "markdown",
      "id": "ee4b545a",
      "metadata": {
        "id": "ee4b545a"
      },
      "source": [
        "### Imput missing values"
      ]
    },
    {
      "cell_type": "code",
      "execution_count": null,
      "id": "5d169167",
      "metadata": {
        "id": "5d169167",
        "outputId": "2d2bcabd-9006-4598-ce39-e6cd45250528"
      },
      "outputs": [
        {
          "data": {
            "text/plain": [
              "Timestamp               0\n",
              "Age                    26\n",
              "Gender                  9\n",
              "City                    1\n",
              "Position                5\n",
              "Seniority_Level        11\n",
              "Main_Technology       128\n",
              "Annual_Salary           0\n",
              "Bonus                 428\n",
              "Vacation_Days          78\n",
              "Employment_Status      16\n",
              "Contract_Duration      29\n",
              "Language               17\n",
              "Company_Type           24\n",
              "Total_Experience       15\n",
              "Germany_Experience     35\n",
              "dtype: int64"
            ]
          },
          "execution_count": 86,
          "metadata": {},
          "output_type": "execute_result"
        }
      ],
      "source": [
        "df.isnull().sum()"
      ]
    },
    {
      "cell_type": "markdown",
      "id": "9be934ff",
      "metadata": {
        "id": "9be934ff"
      },
      "source": [
        "Let's create separate dataframes and column list for numeric and categorical features as we need to deal with them separately"
      ]
    },
    {
      "cell_type": "code",
      "execution_count": null,
      "id": "049e32e8",
      "metadata": {
        "id": "049e32e8"
      },
      "outputs": [],
      "source": [
        "df_num = df.select_dtypes(exclude='object')\n",
        "df_cat = df.select_dtypes(include='object')"
      ]
    },
    {
      "cell_type": "code",
      "execution_count": null,
      "id": "a8655d29",
      "metadata": {
        "id": "a8655d29"
      },
      "outputs": [],
      "source": [
        "num_list = df_num.columns\n",
        "cat_list = df_cat.columns"
      ]
    },
    {
      "cell_type": "code",
      "execution_count": null,
      "id": "be15cec0",
      "metadata": {
        "id": "be15cec0",
        "outputId": "3a910ce9-e9bd-49bb-9f74-6951cf9f2c78"
      },
      "outputs": [
        {
          "data": {
            "text/plain": [
              "Timestamp               0\n",
              "Age                    26\n",
              "Annual_Salary           0\n",
              "Bonus                 428\n",
              "Vacation_Days          78\n",
              "Total_Experience       15\n",
              "Germany_Experience     35\n",
              "dtype: int64"
            ]
          },
          "execution_count": 89,
          "metadata": {},
          "output_type": "execute_result"
        }
      ],
      "source": [
        "df[num_list].isnull().sum()"
      ]
    },
    {
      "cell_type": "code",
      "execution_count": null,
      "id": "f41e8b8f",
      "metadata": {
        "scrolled": true,
        "id": "f41e8b8f",
        "outputId": "1a68e668-80d7-4853-cafc-139a2bd6f894"
      },
      "outputs": [
        {
          "data": {
            "text/html": [
              "<div>\n",
              "<style scoped>\n",
              "    .dataframe tbody tr th:only-of-type {\n",
              "        vertical-align: middle;\n",
              "    }\n",
              "\n",
              "    .dataframe tbody tr th {\n",
              "        vertical-align: top;\n",
              "    }\n",
              "\n",
              "    .dataframe thead th {\n",
              "        text-align: right;\n",
              "    }\n",
              "</style>\n",
              "<table border=\"1\" class=\"dataframe\">\n",
              "  <thead>\n",
              "    <tr style=\"text-align: right;\">\n",
              "      <th></th>\n",
              "      <th>Timestamp</th>\n",
              "      <th>Age</th>\n",
              "      <th>Gender</th>\n",
              "      <th>City</th>\n",
              "      <th>Position</th>\n",
              "      <th>Seniority_Level</th>\n",
              "      <th>Main_Technology</th>\n",
              "      <th>Annual_Salary</th>\n",
              "      <th>Bonus</th>\n",
              "      <th>Vacation_Days</th>\n",
              "      <th>Employment_Status</th>\n",
              "      <th>Contract_Duration</th>\n",
              "      <th>Language</th>\n",
              "      <th>Company_Type</th>\n",
              "      <th>Total_Experience</th>\n",
              "      <th>Germany_Experience</th>\n",
              "    </tr>\n",
              "  </thead>\n",
              "  <tbody>\n",
              "    <tr>\n",
              "      <th>11</th>\n",
              "      <td>2020-11-24 11:18:00</td>\n",
              "      <td>NaN</td>\n",
              "      <td>Male</td>\n",
              "      <td>Berlin</td>\n",
              "      <td>SOFTWARE ENGINEER</td>\n",
              "      <td>Senior</td>\n",
              "      <td>C++</td>\n",
              "      <td>100000.0</td>\n",
              "      <td>101.0</td>\n",
              "      <td>24.0</td>\n",
              "      <td>Self-employed (freelancer)</td>\n",
              "      <td>Temporary contract</td>\n",
              "      <td>English</td>\n",
              "      <td>PRODUCT</td>\n",
              "      <td>25.0</td>\n",
              "      <td>11.0</td>\n",
              "    </tr>\n",
              "    <tr>\n",
              "      <th>12</th>\n",
              "      <td>2020-11-24 11:18:00</td>\n",
              "      <td>NaN</td>\n",
              "      <td>NaN</td>\n",
              "      <td>Berlin</td>\n",
              "      <td>SOFTWARE ENGINEER</td>\n",
              "      <td>Lead</td>\n",
              "      <td>PHP</td>\n",
              "      <td>90000.0</td>\n",
              "      <td>40000.0</td>\n",
              "      <td>NaN</td>\n",
              "      <td>Full-time employee</td>\n",
              "      <td>Unlimited contract</td>\n",
              "      <td>English</td>\n",
              "      <td>NaN</td>\n",
              "      <td>NaN</td>\n",
              "      <td>NaN</td>\n",
              "    </tr>\n",
              "    <tr>\n",
              "      <th>28</th>\n",
              "      <td>2020-11-24 11:25:00</td>\n",
              "      <td>NaN</td>\n",
              "      <td>Male</td>\n",
              "      <td>Berlin</td>\n",
              "      <td>DEVOPS</td>\n",
              "      <td>Senior</td>\n",
              "      <td>NaN</td>\n",
              "      <td>67000.0</td>\n",
              "      <td>7000.0</td>\n",
              "      <td>30.0</td>\n",
              "      <td>Full-time employee</td>\n",
              "      <td>Unlimited contract</td>\n",
              "      <td>English</td>\n",
              "      <td>PRODUCT</td>\n",
              "      <td>14.0</td>\n",
              "      <td>5.0</td>\n",
              "    </tr>\n",
              "    <tr>\n",
              "      <th>55</th>\n",
              "      <td>2020-11-24 11:33:00</td>\n",
              "      <td>NaN</td>\n",
              "      <td>Male</td>\n",
              "      <td>Berlin</td>\n",
              "      <td>SOFTWARE ENGINEER</td>\n",
              "      <td>Senior</td>\n",
              "      <td>PHP</td>\n",
              "      <td>75000.0</td>\n",
              "      <td>NaN</td>\n",
              "      <td>NaN</td>\n",
              "      <td>Full-time employee</td>\n",
              "      <td>NaN</td>\n",
              "      <td>English</td>\n",
              "      <td>NaN</td>\n",
              "      <td>NaN</td>\n",
              "      <td>1.0</td>\n",
              "    </tr>\n",
              "    <tr>\n",
              "      <th>113</th>\n",
              "      <td>2020-11-24 11:56:00</td>\n",
              "      <td>NaN</td>\n",
              "      <td>Male</td>\n",
              "      <td>Berlin</td>\n",
              "      <td>QA ENGINEER</td>\n",
              "      <td>Middle</td>\n",
              "      <td>JAVASCRIPT</td>\n",
              "      <td>50000.0</td>\n",
              "      <td>NaN</td>\n",
              "      <td>30.0</td>\n",
              "      <td>Full-time employee</td>\n",
              "      <td>Unlimited contract</td>\n",
              "      <td>English</td>\n",
              "      <td>PRODUCT</td>\n",
              "      <td>6.0</td>\n",
              "      <td>6.0</td>\n",
              "    </tr>\n",
              "    <tr>\n",
              "      <th>300</th>\n",
              "      <td>2020-11-24 15:47:00</td>\n",
              "      <td>NaN</td>\n",
              "      <td>Male</td>\n",
              "      <td>Berlin</td>\n",
              "      <td>DATA ENGINEER</td>\n",
              "      <td>Middle</td>\n",
              "      <td>SQL</td>\n",
              "      <td>68000.0</td>\n",
              "      <td>500.0</td>\n",
              "      <td>30.0</td>\n",
              "      <td>Full-time employee</td>\n",
              "      <td>Unlimited contract</td>\n",
              "      <td>English</td>\n",
              "      <td>PRODUCT</td>\n",
              "      <td>7.5</td>\n",
              "      <td>1.5</td>\n",
              "    </tr>\n",
              "    <tr>\n",
              "      <th>330</th>\n",
              "      <td>2020-11-24 17:29:00</td>\n",
              "      <td>NaN</td>\n",
              "      <td>NaN</td>\n",
              "      <td>Munich</td>\n",
              "      <td>DATA SCIENTIST</td>\n",
              "      <td>Middle</td>\n",
              "      <td>PYTHON</td>\n",
              "      <td>54000.0</td>\n",
              "      <td>NaN</td>\n",
              "      <td>20.0</td>\n",
              "      <td>Full-time employee</td>\n",
              "      <td>Unlimited contract</td>\n",
              "      <td>English</td>\n",
              "      <td>PRODUCT</td>\n",
              "      <td>2.0</td>\n",
              "      <td>2.0</td>\n",
              "    </tr>\n",
              "    <tr>\n",
              "      <th>340</th>\n",
              "      <td>2020-11-24 17:40:00</td>\n",
              "      <td>NaN</td>\n",
              "      <td>Male</td>\n",
              "      <td>Hamburg</td>\n",
              "      <td>SUPPORT ENGINEER</td>\n",
              "      <td>Senior</td>\n",
              "      <td>NaN</td>\n",
              "      <td>61000.0</td>\n",
              "      <td>NaN</td>\n",
              "      <td>28.0</td>\n",
              "      <td>Full-time employee</td>\n",
              "      <td>Unlimited contract</td>\n",
              "      <td>English</td>\n",
              "      <td>NaN</td>\n",
              "      <td>NaN</td>\n",
              "      <td>2.0</td>\n",
              "    </tr>\n",
              "    <tr>\n",
              "      <th>365</th>\n",
              "      <td>2020-11-24 18:31:00</td>\n",
              "      <td>NaN</td>\n",
              "      <td>Male</td>\n",
              "      <td>Berlin</td>\n",
              "      <td>SOFTWARE ENGINEER</td>\n",
              "      <td>Lead</td>\n",
              "      <td>JAVA</td>\n",
              "      <td>75000.0</td>\n",
              "      <td>NaN</td>\n",
              "      <td>24.0</td>\n",
              "      <td>Full-time employee</td>\n",
              "      <td>Unlimited contract</td>\n",
              "      <td>English</td>\n",
              "      <td>STARTUP</td>\n",
              "      <td>9.0</td>\n",
              "      <td>1.0</td>\n",
              "    </tr>\n",
              "    <tr>\n",
              "      <th>374</th>\n",
              "      <td>2020-11-24 18:48:00</td>\n",
              "      <td>NaN</td>\n",
              "      <td>Male</td>\n",
              "      <td>Karlsruhe</td>\n",
              "      <td>BACKEND DEVELOPER</td>\n",
              "      <td>Lead</td>\n",
              "      <td>PYTHON</td>\n",
              "      <td>65000.0</td>\n",
              "      <td>5400.0</td>\n",
              "      <td>29.0</td>\n",
              "      <td>Part-time employee</td>\n",
              "      <td>Unlimited contract</td>\n",
              "      <td>English</td>\n",
              "      <td>PRODUCT</td>\n",
              "      <td>8.0</td>\n",
              "      <td>8.0</td>\n",
              "    </tr>\n",
              "    <tr>\n",
              "      <th>418</th>\n",
              "      <td>2020-11-24 20:26:00</td>\n",
              "      <td>NaN</td>\n",
              "      <td>Male</td>\n",
              "      <td>Munich</td>\n",
              "      <td>SOFTWARE ENGINEER</td>\n",
              "      <td>Middle</td>\n",
              "      <td>JAVA</td>\n",
              "      <td>56000.0</td>\n",
              "      <td>0.0</td>\n",
              "      <td>NaN</td>\n",
              "      <td>Full-time employee</td>\n",
              "      <td>Unlimited contract</td>\n",
              "      <td>English</td>\n",
              "      <td>PRODUCT</td>\n",
              "      <td>4.0</td>\n",
              "      <td>3.0</td>\n",
              "    </tr>\n",
              "    <tr>\n",
              "      <th>529</th>\n",
              "      <td>2020-11-25 10:58:00</td>\n",
              "      <td>NaN</td>\n",
              "      <td>Male</td>\n",
              "      <td>Berlin</td>\n",
              "      <td>SOFTWARE ENGINEER</td>\n",
              "      <td>Senior</td>\n",
              "      <td>JAVA</td>\n",
              "      <td>150000.0</td>\n",
              "      <td>150000.0</td>\n",
              "      <td>NaN</td>\n",
              "      <td>Full-time employee</td>\n",
              "      <td>NaN</td>\n",
              "      <td>English</td>\n",
              "      <td>NaN</td>\n",
              "      <td>15.0</td>\n",
              "      <td>NaN</td>\n",
              "    </tr>\n",
              "    <tr>\n",
              "      <th>530</th>\n",
              "      <td>2020-11-25 11:03:00</td>\n",
              "      <td>NaN</td>\n",
              "      <td>Male</td>\n",
              "      <td>Leipzig</td>\n",
              "      <td>FRONTEND DEVELOPER</td>\n",
              "      <td>Middle</td>\n",
              "      <td>JAVASCRIPT</td>\n",
              "      <td>40800.0</td>\n",
              "      <td>3400.0</td>\n",
              "      <td>28.0</td>\n",
              "      <td>Full-time employee</td>\n",
              "      <td>Unlimited contract</td>\n",
              "      <td>German</td>\n",
              "      <td>PRODUCT</td>\n",
              "      <td>NaN</td>\n",
              "      <td>6.0</td>\n",
              "    </tr>\n",
              "    <tr>\n",
              "      <th>708</th>\n",
              "      <td>2020-11-25 22:18:00</td>\n",
              "      <td>NaN</td>\n",
              "      <td>Male</td>\n",
              "      <td>Frankfurt</td>\n",
              "      <td>SOFTWARE ENGINEER</td>\n",
              "      <td>Senior</td>\n",
              "      <td>NaN</td>\n",
              "      <td>81000.0</td>\n",
              "      <td>3375.0</td>\n",
              "      <td>30.0</td>\n",
              "      <td>Full-time employee</td>\n",
              "      <td>Unlimited contract</td>\n",
              "      <td>English</td>\n",
              "      <td>PRODUCT</td>\n",
              "      <td>18.0</td>\n",
              "      <td>1.0</td>\n",
              "    </tr>\n",
              "    <tr>\n",
              "      <th>726</th>\n",
              "      <td>2020-11-26 04:26:00</td>\n",
              "      <td>NaN</td>\n",
              "      <td>Male</td>\n",
              "      <td>Berlin</td>\n",
              "      <td>DEVOPS</td>\n",
              "      <td>Senior</td>\n",
              "      <td>NaN</td>\n",
              "      <td>90000.0</td>\n",
              "      <td>NaN</td>\n",
              "      <td>NaN</td>\n",
              "      <td>Full-time employee</td>\n",
              "      <td>Unlimited contract</td>\n",
              "      <td>English</td>\n",
              "      <td>PRODUCT</td>\n",
              "      <td>10.0</td>\n",
              "      <td>5.0</td>\n",
              "    </tr>\n",
              "    <tr>\n",
              "      <th>829</th>\n",
              "      <td>2020-11-27 12:20:00</td>\n",
              "      <td>NaN</td>\n",
              "      <td>Male</td>\n",
              "      <td>Berlin</td>\n",
              "      <td>DATA ENGINEER</td>\n",
              "      <td>Middle</td>\n",
              "      <td>PYTHON</td>\n",
              "      <td>68000.0</td>\n",
              "      <td>0.0</td>\n",
              "      <td>28.0</td>\n",
              "      <td>Full-time employee</td>\n",
              "      <td>Unlimited contract</td>\n",
              "      <td>English</td>\n",
              "      <td>PRODUCT</td>\n",
              "      <td>11.0</td>\n",
              "      <td>1.0</td>\n",
              "    </tr>\n",
              "    <tr>\n",
              "      <th>832</th>\n",
              "      <td>2020-11-27 12:33:00</td>\n",
              "      <td>NaN</td>\n",
              "      <td>Male</td>\n",
              "      <td>Hamburg</td>\n",
              "      <td>SOFTWARE ENGINEER</td>\n",
              "      <td>Senior</td>\n",
              "      <td>JAVA</td>\n",
              "      <td>80000.0</td>\n",
              "      <td>NaN</td>\n",
              "      <td>30.0</td>\n",
              "      <td>Self-employed (freelancer)</td>\n",
              "      <td>Temporary contract</td>\n",
              "      <td>German</td>\n",
              "      <td>CONSULTING / AGENCY</td>\n",
              "      <td>12.0</td>\n",
              "      <td>12.0</td>\n",
              "    </tr>\n",
              "    <tr>\n",
              "      <th>848</th>\n",
              "      <td>2020-11-27 14:34:00</td>\n",
              "      <td>NaN</td>\n",
              "      <td>Female</td>\n",
              "      <td>Berlin</td>\n",
              "      <td>DATA SCIENTIST</td>\n",
              "      <td>Junior</td>\n",
              "      <td>PYTHON</td>\n",
              "      <td>55000.0</td>\n",
              "      <td>NaN</td>\n",
              "      <td>30.0</td>\n",
              "      <td>Full-time employee</td>\n",
              "      <td>Unlimited contract</td>\n",
              "      <td>English</td>\n",
              "      <td>PRODUCT</td>\n",
              "      <td>1.0</td>\n",
              "      <td>8.0</td>\n",
              "    </tr>\n",
              "    <tr>\n",
              "      <th>904</th>\n",
              "      <td>2020-11-29 12:27:00</td>\n",
              "      <td>NaN</td>\n",
              "      <td>Male</td>\n",
              "      <td>Berlin</td>\n",
              "      <td>SOFTWARE ENGINEER</td>\n",
              "      <td>Senior</td>\n",
              "      <td>.NET</td>\n",
              "      <td>62000.0</td>\n",
              "      <td>NaN</td>\n",
              "      <td>30.0</td>\n",
              "      <td>Full-time employee</td>\n",
              "      <td>Unlimited contract</td>\n",
              "      <td>German</td>\n",
              "      <td>NaN</td>\n",
              "      <td>10.0</td>\n",
              "      <td>10.0</td>\n",
              "    </tr>\n",
              "    <tr>\n",
              "      <th>961</th>\n",
              "      <td>2020-11-30 13:50:00</td>\n",
              "      <td>NaN</td>\n",
              "      <td>Male</td>\n",
              "      <td>Berlin</td>\n",
              "      <td>DATA SCIENTIST</td>\n",
              "      <td>Head</td>\n",
              "      <td>PYTHON</td>\n",
              "      <td>105000.0</td>\n",
              "      <td>0.0</td>\n",
              "      <td>NaN</td>\n",
              "      <td>Full-time employee</td>\n",
              "      <td>Unlimited contract</td>\n",
              "      <td>German</td>\n",
              "      <td>CONSULTING / AGENCY</td>\n",
              "      <td>4.0</td>\n",
              "      <td>4.0</td>\n",
              "    </tr>\n",
              "    <tr>\n",
              "      <th>1039</th>\n",
              "      <td>2020-01-12 18:09:00</td>\n",
              "      <td>NaN</td>\n",
              "      <td>Male</td>\n",
              "      <td>Berlin</td>\n",
              "      <td>BACKEND DEVELOPER</td>\n",
              "      <td>Middle</td>\n",
              "      <td>ELIXIR</td>\n",
              "      <td>73000.0</td>\n",
              "      <td>NaN</td>\n",
              "      <td>30.0</td>\n",
              "      <td>Full-time employee</td>\n",
              "      <td>Unlimited contract</td>\n",
              "      <td>English</td>\n",
              "      <td>CONSULTING / AGENCY</td>\n",
              "      <td>15.0</td>\n",
              "      <td>6.0</td>\n",
              "    </tr>\n",
              "    <tr>\n",
              "      <th>1063</th>\n",
              "      <td>2020-02-12 21:39:00</td>\n",
              "      <td>NaN</td>\n",
              "      <td>Male</td>\n",
              "      <td>Munich</td>\n",
              "      <td>FRONTEND DEVELOPER</td>\n",
              "      <td>Lead</td>\n",
              "      <td>JAVASCRIPT</td>\n",
              "      <td>70000.0</td>\n",
              "      <td>NaN</td>\n",
              "      <td>24.0</td>\n",
              "      <td>Full-time employee</td>\n",
              "      <td>Unlimited contract</td>\n",
              "      <td>English</td>\n",
              "      <td>STARTUP</td>\n",
              "      <td>5.0</td>\n",
              "      <td>3.0</td>\n",
              "    </tr>\n",
              "    <tr>\n",
              "      <th>1148</th>\n",
              "      <td>2020-11-12 22:36:00</td>\n",
              "      <td>NaN</td>\n",
              "      <td>NaN</td>\n",
              "      <td>Frankfurt</td>\n",
              "      <td>SOFTWARE ENGINEER</td>\n",
              "      <td>Senior</td>\n",
              "      <td>PYTHON</td>\n",
              "      <td>65000.0</td>\n",
              "      <td>5000.0</td>\n",
              "      <td>30.0</td>\n",
              "      <td>Full-time employee</td>\n",
              "      <td>Unlimited contract</td>\n",
              "      <td>German</td>\n",
              "      <td>PRODUCT</td>\n",
              "      <td>10.0</td>\n",
              "      <td>10.0</td>\n",
              "    </tr>\n",
              "    <tr>\n",
              "      <th>1180</th>\n",
              "      <td>2020-12-20 00:30:00</td>\n",
              "      <td>NaN</td>\n",
              "      <td>NaN</td>\n",
              "      <td>Berlin</td>\n",
              "      <td>NaN</td>\n",
              "      <td>NaN</td>\n",
              "      <td>NaN</td>\n",
              "      <td>30000.0</td>\n",
              "      <td>NaN</td>\n",
              "      <td>NaN</td>\n",
              "      <td>NaN</td>\n",
              "      <td>NaN</td>\n",
              "      <td>NaN</td>\n",
              "      <td>NaN</td>\n",
              "      <td>NaN</td>\n",
              "      <td>NaN</td>\n",
              "    </tr>\n",
              "    <tr>\n",
              "      <th>1181</th>\n",
              "      <td>2020-12-20 00:31:00</td>\n",
              "      <td>NaN</td>\n",
              "      <td>NaN</td>\n",
              "      <td>Berlin</td>\n",
              "      <td>NaN</td>\n",
              "      <td>NaN</td>\n",
              "      <td>NaN</td>\n",
              "      <td>111111.0</td>\n",
              "      <td>NaN</td>\n",
              "      <td>NaN</td>\n",
              "      <td>NaN</td>\n",
              "      <td>NaN</td>\n",
              "      <td>NaN</td>\n",
              "      <td>NaN</td>\n",
              "      <td>NaN</td>\n",
              "      <td>NaN</td>\n",
              "    </tr>\n",
              "    <tr>\n",
              "      <th>1231</th>\n",
              "      <td>2021-08-01 12:52:00</td>\n",
              "      <td>NaN</td>\n",
              "      <td>NaN</td>\n",
              "      <td>Munich</td>\n",
              "      <td>NaN</td>\n",
              "      <td>NaN</td>\n",
              "      <td>NaN</td>\n",
              "      <td>70000.0</td>\n",
              "      <td>NaN</td>\n",
              "      <td>NaN</td>\n",
              "      <td>NaN</td>\n",
              "      <td>NaN</td>\n",
              "      <td>NaN</td>\n",
              "      <td>NaN</td>\n",
              "      <td>NaN</td>\n",
              "      <td>NaN</td>\n",
              "    </tr>\n",
              "  </tbody>\n",
              "</table>\n",
              "</div>"
            ],
            "text/plain": [
              "               Timestamp  Age  Gender       City            Position  \\\n",
              "11   2020-11-24 11:18:00  NaN    Male     Berlin   SOFTWARE ENGINEER   \n",
              "12   2020-11-24 11:18:00  NaN     NaN     Berlin   SOFTWARE ENGINEER   \n",
              "28   2020-11-24 11:25:00  NaN    Male     Berlin              DEVOPS   \n",
              "55   2020-11-24 11:33:00  NaN    Male     Berlin   SOFTWARE ENGINEER   \n",
              "113  2020-11-24 11:56:00  NaN    Male     Berlin         QA ENGINEER   \n",
              "300  2020-11-24 15:47:00  NaN    Male     Berlin       DATA ENGINEER   \n",
              "330  2020-11-24 17:29:00  NaN     NaN     Munich      DATA SCIENTIST   \n",
              "340  2020-11-24 17:40:00  NaN    Male    Hamburg    SUPPORT ENGINEER   \n",
              "365  2020-11-24 18:31:00  NaN    Male     Berlin   SOFTWARE ENGINEER   \n",
              "374  2020-11-24 18:48:00  NaN    Male  Karlsruhe   BACKEND DEVELOPER   \n",
              "418  2020-11-24 20:26:00  NaN    Male     Munich   SOFTWARE ENGINEER   \n",
              "529  2020-11-25 10:58:00  NaN    Male     Berlin   SOFTWARE ENGINEER   \n",
              "530  2020-11-25 11:03:00  NaN    Male    Leipzig  FRONTEND DEVELOPER   \n",
              "708  2020-11-25 22:18:00  NaN    Male  Frankfurt   SOFTWARE ENGINEER   \n",
              "726  2020-11-26 04:26:00  NaN    Male     Berlin              DEVOPS   \n",
              "829  2020-11-27 12:20:00  NaN    Male     Berlin       DATA ENGINEER   \n",
              "832  2020-11-27 12:33:00  NaN    Male    Hamburg   SOFTWARE ENGINEER   \n",
              "848  2020-11-27 14:34:00  NaN  Female     Berlin      DATA SCIENTIST   \n",
              "904  2020-11-29 12:27:00  NaN    Male     Berlin   SOFTWARE ENGINEER   \n",
              "961  2020-11-30 13:50:00  NaN    Male     Berlin      DATA SCIENTIST   \n",
              "1039 2020-01-12 18:09:00  NaN    Male     Berlin   BACKEND DEVELOPER   \n",
              "1063 2020-02-12 21:39:00  NaN    Male     Munich  FRONTEND DEVELOPER   \n",
              "1148 2020-11-12 22:36:00  NaN     NaN  Frankfurt   SOFTWARE ENGINEER   \n",
              "1180 2020-12-20 00:30:00  NaN     NaN     Berlin                 NaN   \n",
              "1181 2020-12-20 00:31:00  NaN     NaN     Berlin                 NaN   \n",
              "1231 2021-08-01 12:52:00  NaN     NaN     Munich                 NaN   \n",
              "\n",
              "     Seniority_Level Main_Technology  Annual_Salary     Bonus  Vacation_Days  \\\n",
              "11            Senior             C++       100000.0     101.0           24.0   \n",
              "12              Lead             PHP        90000.0   40000.0            NaN   \n",
              "28            Senior             NaN        67000.0    7000.0           30.0   \n",
              "55            Senior             PHP        75000.0       NaN            NaN   \n",
              "113           Middle      JAVASCRIPT        50000.0       NaN           30.0   \n",
              "300           Middle             SQL        68000.0     500.0           30.0   \n",
              "330           Middle          PYTHON        54000.0       NaN           20.0   \n",
              "340           Senior             NaN        61000.0       NaN           28.0   \n",
              "365             Lead            JAVA        75000.0       NaN           24.0   \n",
              "374             Lead          PYTHON        65000.0    5400.0           29.0   \n",
              "418           Middle            JAVA        56000.0       0.0            NaN   \n",
              "529           Senior            JAVA       150000.0  150000.0            NaN   \n",
              "530           Middle      JAVASCRIPT        40800.0    3400.0           28.0   \n",
              "708           Senior             NaN        81000.0    3375.0           30.0   \n",
              "726           Senior             NaN        90000.0       NaN            NaN   \n",
              "829           Middle          PYTHON        68000.0       0.0           28.0   \n",
              "832           Senior            JAVA        80000.0       NaN           30.0   \n",
              "848           Junior          PYTHON        55000.0       NaN           30.0   \n",
              "904           Senior            .NET        62000.0       NaN           30.0   \n",
              "961             Head          PYTHON       105000.0       0.0            NaN   \n",
              "1039          Middle          ELIXIR        73000.0       NaN           30.0   \n",
              "1063            Lead      JAVASCRIPT        70000.0       NaN           24.0   \n",
              "1148          Senior          PYTHON        65000.0    5000.0           30.0   \n",
              "1180             NaN             NaN        30000.0       NaN            NaN   \n",
              "1181             NaN             NaN       111111.0       NaN            NaN   \n",
              "1231             NaN             NaN        70000.0       NaN            NaN   \n",
              "\n",
              "               Employment_Status   Contract_Duration Language  \\\n",
              "11    Self-employed (freelancer)  Temporary contract  English   \n",
              "12            Full-time employee  Unlimited contract  English   \n",
              "28            Full-time employee  Unlimited contract  English   \n",
              "55            Full-time employee                 NaN  English   \n",
              "113           Full-time employee  Unlimited contract  English   \n",
              "300           Full-time employee  Unlimited contract  English   \n",
              "330           Full-time employee  Unlimited contract  English   \n",
              "340           Full-time employee  Unlimited contract  English   \n",
              "365           Full-time employee  Unlimited contract  English   \n",
              "374           Part-time employee  Unlimited contract  English   \n",
              "418           Full-time employee  Unlimited contract  English   \n",
              "529           Full-time employee                 NaN  English   \n",
              "530           Full-time employee  Unlimited contract   German   \n",
              "708           Full-time employee  Unlimited contract  English   \n",
              "726           Full-time employee  Unlimited contract  English   \n",
              "829           Full-time employee  Unlimited contract  English   \n",
              "832   Self-employed (freelancer)  Temporary contract   German   \n",
              "848           Full-time employee  Unlimited contract  English   \n",
              "904           Full-time employee  Unlimited contract   German   \n",
              "961           Full-time employee  Unlimited contract   German   \n",
              "1039          Full-time employee  Unlimited contract  English   \n",
              "1063          Full-time employee  Unlimited contract  English   \n",
              "1148          Full-time employee  Unlimited contract   German   \n",
              "1180                         NaN                 NaN      NaN   \n",
              "1181                         NaN                 NaN      NaN   \n",
              "1231                         NaN                 NaN      NaN   \n",
              "\n",
              "             Company_Type  Total_Experience  Germany_Experience  \n",
              "11                PRODUCT              25.0                11.0  \n",
              "12                    NaN               NaN                 NaN  \n",
              "28                PRODUCT              14.0                 5.0  \n",
              "55                    NaN               NaN                 1.0  \n",
              "113               PRODUCT               6.0                 6.0  \n",
              "300               PRODUCT               7.5                 1.5  \n",
              "330               PRODUCT               2.0                 2.0  \n",
              "340                   NaN               NaN                 2.0  \n",
              "365               STARTUP               9.0                 1.0  \n",
              "374               PRODUCT               8.0                 8.0  \n",
              "418               PRODUCT               4.0                 3.0  \n",
              "529                   NaN              15.0                 NaN  \n",
              "530               PRODUCT               NaN                 6.0  \n",
              "708               PRODUCT              18.0                 1.0  \n",
              "726               PRODUCT              10.0                 5.0  \n",
              "829               PRODUCT              11.0                 1.0  \n",
              "832   CONSULTING / AGENCY              12.0                12.0  \n",
              "848               PRODUCT               1.0                 8.0  \n",
              "904                   NaN              10.0                10.0  \n",
              "961   CONSULTING / AGENCY               4.0                 4.0  \n",
              "1039  CONSULTING / AGENCY              15.0                 6.0  \n",
              "1063              STARTUP               5.0                 3.0  \n",
              "1148              PRODUCT              10.0                10.0  \n",
              "1180                  NaN               NaN                 NaN  \n",
              "1181                  NaN               NaN                 NaN  \n",
              "1231                  NaN               NaN                 NaN  "
            ]
          },
          "execution_count": 90,
          "metadata": {},
          "output_type": "execute_result"
        }
      ],
      "source": [
        "df[df['Age'].isnull()]"
      ]
    },
    {
      "cell_type": "markdown",
      "id": "9a61aadc",
      "metadata": {
        "id": "9a61aadc"
      },
      "source": [
        "In the above output we see there are many records where most of the features are null along with Age. Let's drop them as these are invalid records"
      ]
    },
    {
      "cell_type": "code",
      "execution_count": null,
      "id": "44994402",
      "metadata": {
        "id": "44994402"
      },
      "outputs": [],
      "source": [
        "drop_index = list(df[(df['Age'].isnull()) & (df['Gender'].isnull()) & (df['Position'].isnull()) & (df['Seniority_Level'].isnull()) &\n",
        "  (df['Main_Technology'].isnull()) & (df['Vacation_Days'].isnull())].index) # Get index of rows with null values in most of the features"
      ]
    },
    {
      "cell_type": "code",
      "execution_count": null,
      "id": "5506ddf1",
      "metadata": {
        "id": "5506ddf1",
        "outputId": "c3692195-453f-49ac-fad5-86859d63d55b"
      },
      "outputs": [
        {
          "data": {
            "text/plain": [
              "[1180, 1181, 1231]"
            ]
          },
          "execution_count": 92,
          "metadata": {},
          "output_type": "execute_result"
        }
      ],
      "source": [
        "drop_index"
      ]
    },
    {
      "cell_type": "code",
      "execution_count": null,
      "id": "7f502a1e",
      "metadata": {
        "id": "7f502a1e",
        "outputId": "ef5ed09a-74bd-4e82-9531-5362b87f9590"
      },
      "outputs": [
        {
          "data": {
            "text/plain": [
              "(1251, 16)"
            ]
          },
          "execution_count": 93,
          "metadata": {},
          "output_type": "execute_result"
        }
      ],
      "source": [
        "df.shape"
      ]
    },
    {
      "cell_type": "code",
      "execution_count": null,
      "id": "d940dc6f",
      "metadata": {
        "id": "d940dc6f"
      },
      "outputs": [],
      "source": [
        "df.drop(drop_index, inplace = True)"
      ]
    },
    {
      "cell_type": "code",
      "execution_count": null,
      "id": "0aa5490e",
      "metadata": {
        "id": "0aa5490e",
        "outputId": "c88ec6e2-48ca-4af1-f520-1150b38667ea"
      },
      "outputs": [
        {
          "data": {
            "text/plain": [
              "(1248, 16)"
            ]
          },
          "execution_count": 95,
          "metadata": {},
          "output_type": "execute_result"
        }
      ],
      "source": [
        "df.shape"
      ]
    },
    {
      "cell_type": "markdown",
      "id": "63228ec8",
      "metadata": {
        "id": "63228ec8"
      },
      "source": [
        "After dropping invalid records we are left with 1248 observations"
      ]
    },
    {
      "cell_type": "markdown",
      "id": "4db4f839",
      "metadata": {
        "id": "4db4f839"
      },
      "source": [
        "To impute Age feature we can make use of 'Total_Experience' feature. So first lets impute 'Total_Experience' feature."
      ]
    },
    {
      "cell_type": "code",
      "execution_count": null,
      "id": "04f60e84",
      "metadata": {
        "scrolled": true,
        "id": "04f60e84",
        "outputId": "1309f15e-e3c2-4ff3-e942-2c8bf9812138"
      },
      "outputs": [
        {
          "data": {
            "text/html": [
              "<div>\n",
              "<style scoped>\n",
              "    .dataframe tbody tr th:only-of-type {\n",
              "        vertical-align: middle;\n",
              "    }\n",
              "\n",
              "    .dataframe tbody tr th {\n",
              "        vertical-align: top;\n",
              "    }\n",
              "\n",
              "    .dataframe thead th {\n",
              "        text-align: right;\n",
              "    }\n",
              "</style>\n",
              "<table border=\"1\" class=\"dataframe\">\n",
              "  <thead>\n",
              "    <tr style=\"text-align: right;\">\n",
              "      <th></th>\n",
              "      <th>Timestamp</th>\n",
              "      <th>Age</th>\n",
              "      <th>Gender</th>\n",
              "      <th>City</th>\n",
              "      <th>Position</th>\n",
              "      <th>Seniority_Level</th>\n",
              "      <th>Main_Technology</th>\n",
              "      <th>Annual_Salary</th>\n",
              "      <th>Bonus</th>\n",
              "      <th>Vacation_Days</th>\n",
              "      <th>Employment_Status</th>\n",
              "      <th>Contract_Duration</th>\n",
              "      <th>Language</th>\n",
              "      <th>Company_Type</th>\n",
              "      <th>Total_Experience</th>\n",
              "      <th>Germany_Experience</th>\n",
              "    </tr>\n",
              "  </thead>\n",
              "  <tbody>\n",
              "    <tr>\n",
              "      <th>12</th>\n",
              "      <td>2020-11-24 11:18:00</td>\n",
              "      <td>NaN</td>\n",
              "      <td>NaN</td>\n",
              "      <td>Berlin</td>\n",
              "      <td>SOFTWARE ENGINEER</td>\n",
              "      <td>Lead</td>\n",
              "      <td>PHP</td>\n",
              "      <td>90000.0</td>\n",
              "      <td>40000.0</td>\n",
              "      <td>NaN</td>\n",
              "      <td>Full-time employee</td>\n",
              "      <td>Unlimited contract</td>\n",
              "      <td>English</td>\n",
              "      <td>NaN</td>\n",
              "      <td>NaN</td>\n",
              "      <td>NaN</td>\n",
              "    </tr>\n",
              "    <tr>\n",
              "      <th>55</th>\n",
              "      <td>2020-11-24 11:33:00</td>\n",
              "      <td>NaN</td>\n",
              "      <td>Male</td>\n",
              "      <td>Berlin</td>\n",
              "      <td>SOFTWARE ENGINEER</td>\n",
              "      <td>Senior</td>\n",
              "      <td>PHP</td>\n",
              "      <td>75000.0</td>\n",
              "      <td>NaN</td>\n",
              "      <td>NaN</td>\n",
              "      <td>Full-time employee</td>\n",
              "      <td>NaN</td>\n",
              "      <td>English</td>\n",
              "      <td>NaN</td>\n",
              "      <td>NaN</td>\n",
              "      <td>1.0</td>\n",
              "    </tr>\n",
              "    <tr>\n",
              "      <th>237</th>\n",
              "      <td>2020-11-24 13:56:00</td>\n",
              "      <td>32.0</td>\n",
              "      <td>Male</td>\n",
              "      <td>Berlin</td>\n",
              "      <td>BACKEND DEVELOPER</td>\n",
              "      <td>Senior</td>\n",
              "      <td>RUBY</td>\n",
              "      <td>72000.0</td>\n",
              "      <td>NaN</td>\n",
              "      <td>30.0</td>\n",
              "      <td>Full-time employee</td>\n",
              "      <td>Unlimited contract</td>\n",
              "      <td>English</td>\n",
              "      <td>PRODUCT</td>\n",
              "      <td>NaN</td>\n",
              "      <td>3.0</td>\n",
              "    </tr>\n",
              "    <tr>\n",
              "      <th>340</th>\n",
              "      <td>2020-11-24 17:40:00</td>\n",
              "      <td>NaN</td>\n",
              "      <td>Male</td>\n",
              "      <td>Hamburg</td>\n",
              "      <td>SUPPORT ENGINEER</td>\n",
              "      <td>Senior</td>\n",
              "      <td>NaN</td>\n",
              "      <td>61000.0</td>\n",
              "      <td>NaN</td>\n",
              "      <td>28.0</td>\n",
              "      <td>Full-time employee</td>\n",
              "      <td>Unlimited contract</td>\n",
              "      <td>English</td>\n",
              "      <td>NaN</td>\n",
              "      <td>NaN</td>\n",
              "      <td>2.0</td>\n",
              "    </tr>\n",
              "    <tr>\n",
              "      <th>450</th>\n",
              "      <td>2020-11-24 22:06:00</td>\n",
              "      <td>48.0</td>\n",
              "      <td>Male</td>\n",
              "      <td>Berlin</td>\n",
              "      <td>SENIOR NETWORK&amp;SECURITY ENG.</td>\n",
              "      <td>Senior</td>\n",
              "      <td>COMPUTER NETWORKING,  NETWORK SECURITY</td>\n",
              "      <td>68500.0</td>\n",
              "      <td>0.0</td>\n",
              "      <td>26.0</td>\n",
              "      <td>Full-time employee</td>\n",
              "      <td>Unlimited contract</td>\n",
              "      <td>English</td>\n",
              "      <td>STARTUP</td>\n",
              "      <td>NaN</td>\n",
              "      <td>17.0</td>\n",
              "    </tr>\n",
              "    <tr>\n",
              "      <th>454</th>\n",
              "      <td>2020-11-24 22:22:00</td>\n",
              "      <td>33.0</td>\n",
              "      <td>Male</td>\n",
              "      <td>Berlin</td>\n",
              "      <td>SOFTWARE ENGINEER</td>\n",
              "      <td>Senior</td>\n",
              "      <td>JAVA</td>\n",
              "      <td>90000.0</td>\n",
              "      <td>9000.0</td>\n",
              "      <td>25.0</td>\n",
              "      <td>Full-time employee</td>\n",
              "      <td>Unlimited contract</td>\n",
              "      <td>English</td>\n",
              "      <td>PRODUCT</td>\n",
              "      <td>NaN</td>\n",
              "      <td>10.0</td>\n",
              "    </tr>\n",
              "    <tr>\n",
              "      <th>468</th>\n",
              "      <td>2020-11-25 00:01:00</td>\n",
              "      <td>31.0</td>\n",
              "      <td>Female</td>\n",
              "      <td>Berlin</td>\n",
              "      <td>PRODUCT MANAGER</td>\n",
              "      <td>Senior</td>\n",
              "      <td>NaN</td>\n",
              "      <td>60000.0</td>\n",
              "      <td>NaN</td>\n",
              "      <td>20.0</td>\n",
              "      <td>Full-time employee</td>\n",
              "      <td>Unlimited contract</td>\n",
              "      <td>English</td>\n",
              "      <td>PRODUCT</td>\n",
              "      <td>NaN</td>\n",
              "      <td>1.0</td>\n",
              "    </tr>\n",
              "    <tr>\n",
              "      <th>530</th>\n",
              "      <td>2020-11-25 11:03:00</td>\n",
              "      <td>NaN</td>\n",
              "      <td>Male</td>\n",
              "      <td>Leipzig</td>\n",
              "      <td>FRONTEND DEVELOPER</td>\n",
              "      <td>Middle</td>\n",
              "      <td>JAVASCRIPT</td>\n",
              "      <td>40800.0</td>\n",
              "      <td>3400.0</td>\n",
              "      <td>28.0</td>\n",
              "      <td>Full-time employee</td>\n",
              "      <td>Unlimited contract</td>\n",
              "      <td>German</td>\n",
              "      <td>PRODUCT</td>\n",
              "      <td>NaN</td>\n",
              "      <td>6.0</td>\n",
              "    </tr>\n",
              "    <tr>\n",
              "      <th>702</th>\n",
              "      <td>2020-11-25 21:10:00</td>\n",
              "      <td>37.0</td>\n",
              "      <td>Male</td>\n",
              "      <td>Stuttgart</td>\n",
              "      <td>BACKEND DEVELOPER</td>\n",
              "      <td>Senior</td>\n",
              "      <td>C Sharp</td>\n",
              "      <td>70000.0</td>\n",
              "      <td>NaN</td>\n",
              "      <td>30.0</td>\n",
              "      <td>Full-time employee</td>\n",
              "      <td>Unlimited contract</td>\n",
              "      <td>NaN</td>\n",
              "      <td>NaN</td>\n",
              "      <td>NaN</td>\n",
              "      <td>NaN</td>\n",
              "    </tr>\n",
              "    <tr>\n",
              "      <th>874</th>\n",
              "      <td>2020-11-27 20:47:00</td>\n",
              "      <td>31.0</td>\n",
              "      <td>Male</td>\n",
              "      <td>Munich</td>\n",
              "      <td>DATA SCIENTIST</td>\n",
              "      <td>Middle</td>\n",
              "      <td>PYTHON</td>\n",
              "      <td>60000.0</td>\n",
              "      <td>2000.0</td>\n",
              "      <td>27.0</td>\n",
              "      <td>Full-time employee</td>\n",
              "      <td>Unlimited contract</td>\n",
              "      <td>English</td>\n",
              "      <td>CONSULTING / AGENCY</td>\n",
              "      <td>NaN</td>\n",
              "      <td>2.0</td>\n",
              "    </tr>\n",
              "    <tr>\n",
              "      <th>1058</th>\n",
              "      <td>2020-02-12 16:12:00</td>\n",
              "      <td>35.0</td>\n",
              "      <td>Male</td>\n",
              "      <td>Berlin</td>\n",
              "      <td>TEAM LEAD</td>\n",
              "      <td>Lead</td>\n",
              "      <td>NaN</td>\n",
              "      <td>85000.0</td>\n",
              "      <td>NaN</td>\n",
              "      <td>28.0</td>\n",
              "      <td>Full-time employee</td>\n",
              "      <td>Unlimited contract</td>\n",
              "      <td>English</td>\n",
              "      <td>STARTUP</td>\n",
              "      <td>NaN</td>\n",
              "      <td>5.0</td>\n",
              "    </tr>\n",
              "    <tr>\n",
              "      <th>1232</th>\n",
              "      <td>2021-08-01 16:12:00</td>\n",
              "      <td>52.0</td>\n",
              "      <td>Male</td>\n",
              "      <td>Stuttgart</td>\n",
              "      <td>SOFTWARE ENGINEER</td>\n",
              "      <td>Lead</td>\n",
              "      <td>ATLASSIAN JIRA</td>\n",
              "      <td>100000.0</td>\n",
              "      <td>NaN</td>\n",
              "      <td>NaN</td>\n",
              "      <td>Self-employed (freelancer)</td>\n",
              "      <td>Temporary contract</td>\n",
              "      <td>English</td>\n",
              "      <td>CONSULTING / AGENCY</td>\n",
              "      <td>NaN</td>\n",
              "      <td>30.0</td>\n",
              "    </tr>\n",
              "  </tbody>\n",
              "</table>\n",
              "</div>"
            ],
            "text/plain": [
              "               Timestamp   Age  Gender        City  \\\n",
              "12   2020-11-24 11:18:00   NaN     NaN      Berlin   \n",
              "55   2020-11-24 11:33:00   NaN    Male      Berlin   \n",
              "237  2020-11-24 13:56:00  32.0    Male      Berlin   \n",
              "340  2020-11-24 17:40:00   NaN    Male     Hamburg   \n",
              "450  2020-11-24 22:06:00  48.0    Male      Berlin   \n",
              "454  2020-11-24 22:22:00  33.0    Male      Berlin   \n",
              "468  2020-11-25 00:01:00  31.0  Female      Berlin   \n",
              "530  2020-11-25 11:03:00   NaN    Male     Leipzig   \n",
              "702  2020-11-25 21:10:00  37.0    Male  Stuttgart    \n",
              "874  2020-11-27 20:47:00  31.0    Male      Munich   \n",
              "1058 2020-02-12 16:12:00  35.0    Male      Berlin   \n",
              "1232 2021-08-01 16:12:00  52.0    Male   Stuttgart   \n",
              "\n",
              "                          Position Seniority_Level  \\\n",
              "12               SOFTWARE ENGINEER            Lead   \n",
              "55               SOFTWARE ENGINEER          Senior   \n",
              "237              BACKEND DEVELOPER          Senior   \n",
              "340               SUPPORT ENGINEER          Senior   \n",
              "450   SENIOR NETWORK&SECURITY ENG.          Senior   \n",
              "454              SOFTWARE ENGINEER          Senior   \n",
              "468                PRODUCT MANAGER          Senior   \n",
              "530             FRONTEND DEVELOPER          Middle   \n",
              "702              BACKEND DEVELOPER          Senior   \n",
              "874                 DATA SCIENTIST          Middle   \n",
              "1058                     TEAM LEAD            Lead   \n",
              "1232             SOFTWARE ENGINEER            Lead   \n",
              "\n",
              "                             Main_Technology  Annual_Salary    Bonus  \\\n",
              "12                                       PHP        90000.0  40000.0   \n",
              "55                                       PHP        75000.0      NaN   \n",
              "237                                     RUBY        72000.0      NaN   \n",
              "340                                      NaN        61000.0      NaN   \n",
              "450   COMPUTER NETWORKING,  NETWORK SECURITY        68500.0      0.0   \n",
              "454                                     JAVA        90000.0   9000.0   \n",
              "468                                      NaN        60000.0      NaN   \n",
              "530                               JAVASCRIPT        40800.0   3400.0   \n",
              "702                                  C Sharp        70000.0      NaN   \n",
              "874                                   PYTHON        60000.0   2000.0   \n",
              "1058                                     NaN        85000.0      NaN   \n",
              "1232                          ATLASSIAN JIRA       100000.0      NaN   \n",
              "\n",
              "      Vacation_Days           Employment_Status   Contract_Duration Language  \\\n",
              "12              NaN          Full-time employee  Unlimited contract  English   \n",
              "55              NaN          Full-time employee                 NaN  English   \n",
              "237            30.0          Full-time employee  Unlimited contract  English   \n",
              "340            28.0          Full-time employee  Unlimited contract  English   \n",
              "450            26.0          Full-time employee  Unlimited contract  English   \n",
              "454            25.0          Full-time employee  Unlimited contract  English   \n",
              "468            20.0          Full-time employee  Unlimited contract  English   \n",
              "530            28.0          Full-time employee  Unlimited contract   German   \n",
              "702            30.0          Full-time employee  Unlimited contract      NaN   \n",
              "874            27.0          Full-time employee  Unlimited contract  English   \n",
              "1058           28.0          Full-time employee  Unlimited contract  English   \n",
              "1232            NaN  Self-employed (freelancer)  Temporary contract  English   \n",
              "\n",
              "             Company_Type  Total_Experience  Germany_Experience  \n",
              "12                    NaN               NaN                 NaN  \n",
              "55                    NaN               NaN                 1.0  \n",
              "237               PRODUCT               NaN                 3.0  \n",
              "340                   NaN               NaN                 2.0  \n",
              "450               STARTUP               NaN                17.0  \n",
              "454               PRODUCT               NaN                10.0  \n",
              "468               PRODUCT               NaN                 1.0  \n",
              "530               PRODUCT               NaN                 6.0  \n",
              "702                   NaN               NaN                 NaN  \n",
              "874   CONSULTING / AGENCY               NaN                 2.0  \n",
              "1058              STARTUP               NaN                 5.0  \n",
              "1232  CONSULTING / AGENCY               NaN                30.0  "
            ]
          },
          "execution_count": 96,
          "metadata": {},
          "output_type": "execute_result"
        }
      ],
      "source": [
        "df[df['Total_Experience'].isnull()]"
      ]
    },
    {
      "cell_type": "markdown",
      "id": "e903de52",
      "metadata": {
        "id": "e903de52"
      },
      "source": [
        "From above output we see that in most of the observations where 'Total_Experience' is null, 'Germany_Experience' is populated. We can use this feature to populate 'Total_Experience'"
      ]
    },
    {
      "cell_type": "code",
      "execution_count": null,
      "id": "8a434e35",
      "metadata": {
        "id": "8a434e35",
        "outputId": "b27dee56-3552-447e-aa14-fbc4d3d678e4"
      },
      "outputs": [
        {
          "data": {
            "text/plain": [
              "count    1236.000000\n",
              "mean        8.776375\n",
              "std         5.343934\n",
              "min         0.000000\n",
              "25%         5.000000\n",
              "50%         8.000000\n",
              "75%        12.000000\n",
              "max        40.000000\n",
              "Name: Total_Experience, dtype: float64"
            ]
          },
          "execution_count": 97,
          "metadata": {},
          "output_type": "execute_result"
        }
      ],
      "source": [
        "df['Total_Experience'].describe()"
      ]
    },
    {
      "cell_type": "code",
      "execution_count": null,
      "id": "8830d0d4",
      "metadata": {
        "id": "8830d0d4"
      },
      "outputs": [],
      "source": [
        "df['Total_Experience'] = np.where(((df['Total_Experience'].isnull()) & (df['Germany_Experience'] > 0)), \n",
        "                                  df['Germany_Experience'], df['Total_Experience'])"
      ]
    },
    {
      "cell_type": "code",
      "execution_count": null,
      "id": "064151c1",
      "metadata": {
        "id": "064151c1",
        "outputId": "9a56d69a-ba5b-40fa-c2de-33f3333bd4fa"
      },
      "outputs": [
        {
          "data": {
            "text/plain": [
              "count    1246.000000\n",
              "mean        8.767737\n",
              "std         5.381529\n",
              "min         0.000000\n",
              "25%         5.000000\n",
              "50%         8.000000\n",
              "75%        12.000000\n",
              "max        40.000000\n",
              "Name: Total_Experience, dtype: float64"
            ]
          },
          "execution_count": 99,
          "metadata": {},
          "output_type": "execute_result"
        }
      ],
      "source": [
        "df['Total_Experience'].describe()"
      ]
    },
    {
      "cell_type": "code",
      "execution_count": null,
      "id": "6301418a",
      "metadata": {
        "id": "6301418a",
        "outputId": "fb91a544-bcac-4dc4-ad11-4b04b0ea51b4"
      },
      "outputs": [
        {
          "data": {
            "text/html": [
              "<div>\n",
              "<style scoped>\n",
              "    .dataframe tbody tr th:only-of-type {\n",
              "        vertical-align: middle;\n",
              "    }\n",
              "\n",
              "    .dataframe tbody tr th {\n",
              "        vertical-align: top;\n",
              "    }\n",
              "\n",
              "    .dataframe thead th {\n",
              "        text-align: right;\n",
              "    }\n",
              "</style>\n",
              "<table border=\"1\" class=\"dataframe\">\n",
              "  <thead>\n",
              "    <tr style=\"text-align: right;\">\n",
              "      <th></th>\n",
              "      <th>Timestamp</th>\n",
              "      <th>Age</th>\n",
              "      <th>Gender</th>\n",
              "      <th>City</th>\n",
              "      <th>Position</th>\n",
              "      <th>Seniority_Level</th>\n",
              "      <th>Main_Technology</th>\n",
              "      <th>Annual_Salary</th>\n",
              "      <th>Bonus</th>\n",
              "      <th>Vacation_Days</th>\n",
              "      <th>Employment_Status</th>\n",
              "      <th>Contract_Duration</th>\n",
              "      <th>Language</th>\n",
              "      <th>Company_Type</th>\n",
              "      <th>Total_Experience</th>\n",
              "      <th>Germany_Experience</th>\n",
              "    </tr>\n",
              "  </thead>\n",
              "  <tbody>\n",
              "    <tr>\n",
              "      <th>12</th>\n",
              "      <td>2020-11-24 11:18:00</td>\n",
              "      <td>NaN</td>\n",
              "      <td>NaN</td>\n",
              "      <td>Berlin</td>\n",
              "      <td>SOFTWARE ENGINEER</td>\n",
              "      <td>Lead</td>\n",
              "      <td>PHP</td>\n",
              "      <td>90000.0</td>\n",
              "      <td>40000.0</td>\n",
              "      <td>NaN</td>\n",
              "      <td>Full-time employee</td>\n",
              "      <td>Unlimited contract</td>\n",
              "      <td>English</td>\n",
              "      <td>NaN</td>\n",
              "      <td>NaN</td>\n",
              "      <td>NaN</td>\n",
              "    </tr>\n",
              "    <tr>\n",
              "      <th>702</th>\n",
              "      <td>2020-11-25 21:10:00</td>\n",
              "      <td>37.0</td>\n",
              "      <td>Male</td>\n",
              "      <td>Stuttgart</td>\n",
              "      <td>BACKEND DEVELOPER</td>\n",
              "      <td>Senior</td>\n",
              "      <td>C Sharp</td>\n",
              "      <td>70000.0</td>\n",
              "      <td>NaN</td>\n",
              "      <td>30.0</td>\n",
              "      <td>Full-time employee</td>\n",
              "      <td>Unlimited contract</td>\n",
              "      <td>NaN</td>\n",
              "      <td>NaN</td>\n",
              "      <td>NaN</td>\n",
              "      <td>NaN</td>\n",
              "    </tr>\n",
              "  </tbody>\n",
              "</table>\n",
              "</div>"
            ],
            "text/plain": [
              "              Timestamp   Age Gender        City           Position  \\\n",
              "12  2020-11-24 11:18:00   NaN    NaN      Berlin  SOFTWARE ENGINEER   \n",
              "702 2020-11-25 21:10:00  37.0   Male  Stuttgart   BACKEND DEVELOPER   \n",
              "\n",
              "    Seniority_Level Main_Technology  Annual_Salary    Bonus  Vacation_Days  \\\n",
              "12             Lead             PHP        90000.0  40000.0            NaN   \n",
              "702          Senior         C Sharp        70000.0      NaN           30.0   \n",
              "\n",
              "      Employment_Status   Contract_Duration Language Company_Type  \\\n",
              "12   Full-time employee  Unlimited contract  English          NaN   \n",
              "702  Full-time employee  Unlimited contract      NaN          NaN   \n",
              "\n",
              "     Total_Experience  Germany_Experience  \n",
              "12                NaN                 NaN  \n",
              "702               NaN                 NaN  "
            ]
          },
          "execution_count": 100,
          "metadata": {},
          "output_type": "execute_result"
        }
      ],
      "source": [
        "df[df['Total_Experience'].isnull()]"
      ]
    },
    {
      "cell_type": "markdown",
      "id": "c0defb88",
      "metadata": {
        "id": "c0defb88"
      },
      "source": [
        "For the remaining 2 records lets populate the data using median value"
      ]
    },
    {
      "cell_type": "code",
      "execution_count": null,
      "id": "b07c54c6",
      "metadata": {
        "id": "b07c54c6"
      },
      "outputs": [],
      "source": [
        "df['Total_Experience'].fillna(df['Total_Experience'].median(), inplace=True)"
      ]
    },
    {
      "cell_type": "code",
      "execution_count": null,
      "id": "2a03f2ac",
      "metadata": {
        "id": "2a03f2ac",
        "outputId": "117577a6-c654-4226-89e9-88344186749f"
      },
      "outputs": [
        {
          "data": {
            "text/plain": [
              "count    1248.000000\n",
              "mean        8.766506\n",
              "std         5.377299\n",
              "min         0.000000\n",
              "25%         5.000000\n",
              "50%         8.000000\n",
              "75%        12.000000\n",
              "max        40.000000\n",
              "Name: Total_Experience, dtype: float64"
            ]
          },
          "execution_count": 102,
          "metadata": {},
          "output_type": "execute_result"
        }
      ],
      "source": [
        "df['Total_Experience'].describe()"
      ]
    },
    {
      "cell_type": "code",
      "execution_count": null,
      "id": "3e5d051d",
      "metadata": {
        "id": "3e5d051d"
      },
      "outputs": [],
      "source": [
        "df['Germany_Experience'].fillna(0, inplace=True) # For null values in 'Germany_Experience' we can assume 0 "
      ]
    },
    {
      "cell_type": "code",
      "execution_count": null,
      "id": "9daa6a51",
      "metadata": {
        "id": "9daa6a51",
        "outputId": "4a2052e6-57ed-4d9b-c077-c508c1bb9c82"
      },
      "outputs": [
        {
          "data": {
            "text/plain": [
              "count    1225.000000\n",
              "mean       32.512653\n",
              "std         5.665229\n",
              "min        20.000000\n",
              "25%        29.000000\n",
              "50%        32.000000\n",
              "75%        35.000000\n",
              "max        69.000000\n",
              "Name: Age, dtype: float64"
            ]
          },
          "execution_count": 104,
          "metadata": {},
          "output_type": "execute_result"
        }
      ],
      "source": [
        "df['Age'].describe()"
      ]
    },
    {
      "cell_type": "code",
      "execution_count": null,
      "id": "477711e5",
      "metadata": {
        "id": "477711e5"
      },
      "outputs": [],
      "source": [
        "df['Age'].fillna(df['Total_Experience']+21, inplace=True) # We can calculate Age as 21year + total work experience "
      ]
    },
    {
      "cell_type": "code",
      "execution_count": null,
      "id": "adf6acdc",
      "metadata": {
        "id": "adf6acdc",
        "outputId": "e25c843a-98d7-4438-edb7-9dca31054cd8"
      },
      "outputs": [
        {
          "data": {
            "text/plain": [
              "count    1248.000000\n",
              "mean       32.463542\n",
              "std         5.678368\n",
              "min        20.000000\n",
              "25%        29.000000\n",
              "50%        32.000000\n",
              "75%        35.000000\n",
              "max        69.000000\n",
              "Name: Age, dtype: float64"
            ]
          },
          "execution_count": 106,
          "metadata": {},
          "output_type": "execute_result"
        }
      ],
      "source": [
        "df['Age'].describe()"
      ]
    },
    {
      "cell_type": "code",
      "execution_count": null,
      "id": "11c64c61",
      "metadata": {
        "id": "11c64c61",
        "outputId": "4f5b53de-f1ed-427a-d68a-749ea46d57bd"
      },
      "outputs": [
        {
          "data": {
            "text/plain": [
              "count    8.230000e+02\n",
              "mean     2.155456e+04\n",
              "std      5.351034e+04\n",
              "min      0.000000e+00\n",
              "25%      0.000000e+00\n",
              "50%      5.000000e+03\n",
              "75%      2.000000e+04\n",
              "max      1.150000e+06\n",
              "Name: Bonus, dtype: float64"
            ]
          },
          "execution_count": 107,
          "metadata": {},
          "output_type": "execute_result"
        }
      ],
      "source": [
        "df['Bonus'].describe()"
      ]
    },
    {
      "cell_type": "code",
      "execution_count": null,
      "id": "26d3d64f",
      "metadata": {
        "id": "26d3d64f"
      },
      "outputs": [],
      "source": [
        "df['Bonus'].fillna(0, inplace=True) # We can assume Bonus as 0 whenever it is null "
      ]
    },
    {
      "cell_type": "code",
      "execution_count": null,
      "id": "fcabce9f",
      "metadata": {
        "id": "fcabce9f",
        "outputId": "86b6ba15-58d2-4725-ac37-96c1d5e4fdf8"
      },
      "outputs": [
        {
          "data": {
            "text/plain": [
              "count    1173.000000\n",
              "mean       27.991049\n",
              "std         3.825119\n",
              "min         0.000000\n",
              "25%        27.000000\n",
              "50%        28.000000\n",
              "75%        30.000000\n",
              "max        60.000000\n",
              "Name: Vacation_Days, dtype: float64"
            ]
          },
          "execution_count": 109,
          "metadata": {},
          "output_type": "execute_result"
        }
      ],
      "source": [
        "df['Vacation_Days'].describe()"
      ]
    },
    {
      "cell_type": "code",
      "execution_count": null,
      "id": "81612237",
      "metadata": {
        "id": "81612237"
      },
      "outputs": [],
      "source": [
        "df['Vacation_Days'].fillna(df['Vacation_Days'].median(), inplace=True) # Lets impute vacation days with median value of 28"
      ]
    },
    {
      "cell_type": "code",
      "execution_count": null,
      "id": "f4011b08",
      "metadata": {
        "id": "f4011b08",
        "outputId": "6f794b4b-278f-44c7-c9b6-9006323cacb3"
      },
      "outputs": [
        {
          "data": {
            "text/plain": [
              "Timestamp             0\n",
              "Age                   0\n",
              "Annual_Salary         0\n",
              "Bonus                 0\n",
              "Vacation_Days         0\n",
              "Total_Experience      0\n",
              "Germany_Experience    0\n",
              "dtype: int64"
            ]
          },
          "execution_count": 111,
          "metadata": {},
          "output_type": "execute_result"
        }
      ],
      "source": [
        "df[num_list].isnull().sum()"
      ]
    },
    {
      "cell_type": "code",
      "execution_count": null,
      "id": "fa175392",
      "metadata": {
        "id": "fa175392",
        "outputId": "ebec5e1e-d61d-4387-fcdb-7d85c3eb8f60"
      },
      "outputs": [
        {
          "data": {
            "text/plain": [
              "Gender                 6\n",
              "City                   1\n",
              "Position               2\n",
              "Seniority_Level        8\n",
              "Main_Technology      125\n",
              "Employment_Status     13\n",
              "Contract_Duration     26\n",
              "Language              14\n",
              "Company_Type          21\n",
              "dtype: int64"
            ]
          },
          "execution_count": 112,
          "metadata": {},
          "output_type": "execute_result"
        }
      ],
      "source": [
        "df[cat_list].isnull().sum()"
      ]
    },
    {
      "cell_type": "code",
      "execution_count": null,
      "id": "01b1c5af",
      "metadata": {
        "id": "01b1c5af"
      },
      "outputs": [],
      "source": [
        "# As there are few missing values in below features we can impute missing values with their mode\n",
        "df['Gender'].fillna(df['Gender'].mode()[0], inplace=True)\n",
        "df['City'].fillna(df['City'].mode()[0], inplace=True)\n",
        "df['Language'].fillna(df['Language'].mode()[0], inplace=True)\n",
        "df['Position'].fillna(df['Position'].mode()[0], inplace=True) "
      ]
    },
    {
      "cell_type": "code",
      "execution_count": null,
      "id": "38436a0d",
      "metadata": {
        "id": "38436a0d",
        "outputId": "9bcdad5f-311c-4c8f-db9d-ad5e9d54de7c"
      },
      "outputs": [
        {
          "data": {
            "text/html": [
              "<div>\n",
              "<style scoped>\n",
              "    .dataframe tbody tr th:only-of-type {\n",
              "        vertical-align: middle;\n",
              "    }\n",
              "\n",
              "    .dataframe tbody tr th {\n",
              "        vertical-align: top;\n",
              "    }\n",
              "\n",
              "    .dataframe thead th {\n",
              "        text-align: right;\n",
              "    }\n",
              "</style>\n",
              "<table border=\"1\" class=\"dataframe\">\n",
              "  <thead>\n",
              "    <tr style=\"text-align: right;\">\n",
              "      <th></th>\n",
              "      <th>Timestamp</th>\n",
              "      <th>Age</th>\n",
              "      <th>Gender</th>\n",
              "      <th>City</th>\n",
              "      <th>Position</th>\n",
              "      <th>Seniority_Level</th>\n",
              "      <th>Main_Technology</th>\n",
              "      <th>Annual_Salary</th>\n",
              "      <th>Bonus</th>\n",
              "      <th>Vacation_Days</th>\n",
              "      <th>Employment_Status</th>\n",
              "      <th>Contract_Duration</th>\n",
              "      <th>Language</th>\n",
              "      <th>Company_Type</th>\n",
              "      <th>Total_Experience</th>\n",
              "      <th>Germany_Experience</th>\n",
              "    </tr>\n",
              "  </thead>\n",
              "  <tbody>\n",
              "    <tr>\n",
              "      <th>68</th>\n",
              "      <td>2020-11-24 11:39:00</td>\n",
              "      <td>48.0</td>\n",
              "      <td>Male</td>\n",
              "      <td>London</td>\n",
              "      <td>DATA ENGINEER</td>\n",
              "      <td>NaN</td>\n",
              "      <td>GOOGLE CLOUD PLATFORM</td>\n",
              "      <td>110000.0</td>\n",
              "      <td>0.0</td>\n",
              "      <td>28.0</td>\n",
              "      <td>Company Director</td>\n",
              "      <td>Temporary contract</td>\n",
              "      <td>English</td>\n",
              "      <td>PERSONAL LTD</td>\n",
              "      <td>23.0</td>\n",
              "      <td>0.0</td>\n",
              "    </tr>\n",
              "    <tr>\n",
              "      <th>357</th>\n",
              "      <td>2020-11-24 18:10:00</td>\n",
              "      <td>26.0</td>\n",
              "      <td>Male</td>\n",
              "      <td>Karlsruhe</td>\n",
              "      <td>SOFTWARE ENGINEER</td>\n",
              "      <td>NaN</td>\n",
              "      <td>NaN</td>\n",
              "      <td>55000.0</td>\n",
              "      <td>0.0</td>\n",
              "      <td>30.0</td>\n",
              "      <td>Full-time employee</td>\n",
              "      <td>Unlimited contract</td>\n",
              "      <td>English and German</td>\n",
              "      <td>CONSULTING / AGENCY</td>\n",
              "      <td>5.0</td>\n",
              "      <td>5.0</td>\n",
              "    </tr>\n",
              "    <tr>\n",
              "      <th>499</th>\n",
              "      <td>2020-11-25 09:05:00</td>\n",
              "      <td>24.0</td>\n",
              "      <td>Male</td>\n",
              "      <td>Cologne</td>\n",
              "      <td>DATA SCIENTIST</td>\n",
              "      <td>NaN</td>\n",
              "      <td>PYTHON</td>\n",
              "      <td>57600.0</td>\n",
              "      <td>7000.0</td>\n",
              "      <td>27.0</td>\n",
              "      <td>Full-time employee</td>\n",
              "      <td>Unlimited contract</td>\n",
              "      <td>English</td>\n",
              "      <td>CONSULTING / AGENCY</td>\n",
              "      <td>1.0</td>\n",
              "      <td>1.0</td>\n",
              "    </tr>\n",
              "    <tr>\n",
              "      <th>525</th>\n",
              "      <td>2020-11-25 10:53:00</td>\n",
              "      <td>37.0</td>\n",
              "      <td>Male</td>\n",
              "      <td>Berlin</td>\n",
              "      <td>DATA ANALYST</td>\n",
              "      <td>NaN</td>\n",
              "      <td>PYTHON</td>\n",
              "      <td>67000.0</td>\n",
              "      <td>0.0</td>\n",
              "      <td>21.0</td>\n",
              "      <td>Full-time employee</td>\n",
              "      <td>Unlimited contract</td>\n",
              "      <td>English</td>\n",
              "      <td>PRODUCT</td>\n",
              "      <td>3.0</td>\n",
              "      <td>1.0</td>\n",
              "    </tr>\n",
              "    <tr>\n",
              "      <th>913</th>\n",
              "      <td>2020-11-29 19:42:00</td>\n",
              "      <td>24.0</td>\n",
              "      <td>Male</td>\n",
              "      <td>Berlin</td>\n",
              "      <td>ML ENGINEER</td>\n",
              "      <td>NaN</td>\n",
              "      <td>NaN</td>\n",
              "      <td>90000.0</td>\n",
              "      <td>0.0</td>\n",
              "      <td>28.0</td>\n",
              "      <td>NaN</td>\n",
              "      <td>NaN</td>\n",
              "      <td>English</td>\n",
              "      <td>STARTUP</td>\n",
              "      <td>3.0</td>\n",
              "      <td>0.0</td>\n",
              "    </tr>\n",
              "    <tr>\n",
              "      <th>1014</th>\n",
              "      <td>2020-01-12 08:38:00</td>\n",
              "      <td>32.0</td>\n",
              "      <td>Female</td>\n",
              "      <td>Heidelberg</td>\n",
              "      <td>SOFTWARE ENGINEER</td>\n",
              "      <td>NaN</td>\n",
              "      <td>TYPESCRIPT</td>\n",
              "      <td>60000.0</td>\n",
              "      <td>0.0</td>\n",
              "      <td>24.0</td>\n",
              "      <td>Full-time employee</td>\n",
              "      <td>Unlimited contract</td>\n",
              "      <td>English</td>\n",
              "      <td>PRODUCT</td>\n",
              "      <td>8.0</td>\n",
              "      <td>0.0</td>\n",
              "    </tr>\n",
              "    <tr>\n",
              "      <th>1016</th>\n",
              "      <td>2020-01-12 08:45:00</td>\n",
              "      <td>31.0</td>\n",
              "      <td>Male</td>\n",
              "      <td>Munich</td>\n",
              "      <td>DEVOPS</td>\n",
              "      <td>NaN</td>\n",
              "      <td>NaN</td>\n",
              "      <td>62000.0</td>\n",
              "      <td>4000.0</td>\n",
              "      <td>27.0</td>\n",
              "      <td>Full-time employee</td>\n",
              "      <td>Unlimited contract</td>\n",
              "      <td>English</td>\n",
              "      <td>PRODUCT</td>\n",
              "      <td>8.0</td>\n",
              "      <td>2.0</td>\n",
              "    </tr>\n",
              "    <tr>\n",
              "      <th>1241</th>\n",
              "      <td>2021-01-15 18:28:00</td>\n",
              "      <td>30.0</td>\n",
              "      <td>Male</td>\n",
              "      <td>Berlin</td>\n",
              "      <td>SRE</td>\n",
              "      <td>NaN</td>\n",
              "      <td>KUBERNETES</td>\n",
              "      <td>68000.0</td>\n",
              "      <td>0.0</td>\n",
              "      <td>26.0</td>\n",
              "      <td>Full-time employee</td>\n",
              "      <td>Unlimited contract</td>\n",
              "      <td>English</td>\n",
              "      <td>PRODUCT</td>\n",
              "      <td>10.0</td>\n",
              "      <td>5.0</td>\n",
              "    </tr>\n",
              "  </tbody>\n",
              "</table>\n",
              "</div>"
            ],
            "text/plain": [
              "               Timestamp   Age  Gender        City           Position  \\\n",
              "68   2020-11-24 11:39:00  48.0    Male      London      DATA ENGINEER   \n",
              "357  2020-11-24 18:10:00  26.0    Male   Karlsruhe  SOFTWARE ENGINEER   \n",
              "499  2020-11-25 09:05:00  24.0    Male     Cologne     DATA SCIENTIST   \n",
              "525  2020-11-25 10:53:00  37.0    Male      Berlin       DATA ANALYST   \n",
              "913  2020-11-29 19:42:00  24.0    Male      Berlin        ML ENGINEER   \n",
              "1014 2020-01-12 08:38:00  32.0  Female  Heidelberg  SOFTWARE ENGINEER   \n",
              "1016 2020-01-12 08:45:00  31.0    Male      Munich             DEVOPS   \n",
              "1241 2021-01-15 18:28:00  30.0    Male      Berlin                SRE   \n",
              "\n",
              "     Seniority_Level        Main_Technology  Annual_Salary   Bonus  \\\n",
              "68               NaN  GOOGLE CLOUD PLATFORM       110000.0     0.0   \n",
              "357              NaN                    NaN        55000.0     0.0   \n",
              "499              NaN                 PYTHON        57600.0  7000.0   \n",
              "525              NaN                 PYTHON        67000.0     0.0   \n",
              "913              NaN                    NaN        90000.0     0.0   \n",
              "1014             NaN             TYPESCRIPT        60000.0     0.0   \n",
              "1016             NaN                    NaN        62000.0  4000.0   \n",
              "1241             NaN             KUBERNETES        68000.0     0.0   \n",
              "\n",
              "      Vacation_Days   Employment_Status   Contract_Duration  \\\n",
              "68             28.0    Company Director  Temporary contract   \n",
              "357            30.0  Full-time employee  Unlimited contract   \n",
              "499            27.0  Full-time employee  Unlimited contract   \n",
              "525            21.0  Full-time employee  Unlimited contract   \n",
              "913            28.0                 NaN                 NaN   \n",
              "1014           24.0  Full-time employee  Unlimited contract   \n",
              "1016           27.0  Full-time employee  Unlimited contract   \n",
              "1241           26.0  Full-time employee  Unlimited contract   \n",
              "\n",
              "                Language         Company_Type  Total_Experience  \\\n",
              "68               English         PERSONAL LTD              23.0   \n",
              "357   English and German  CONSULTING / AGENCY               5.0   \n",
              "499              English  CONSULTING / AGENCY               1.0   \n",
              "525              English              PRODUCT               3.0   \n",
              "913              English              STARTUP               3.0   \n",
              "1014             English              PRODUCT               8.0   \n",
              "1016             English              PRODUCT               8.0   \n",
              "1241             English              PRODUCT              10.0   \n",
              "\n",
              "      Germany_Experience  \n",
              "68                   0.0  \n",
              "357                  5.0  \n",
              "499                  1.0  \n",
              "525                  1.0  \n",
              "913                  0.0  \n",
              "1014                 0.0  \n",
              "1016                 2.0  \n",
              "1241                 5.0  "
            ]
          },
          "execution_count": 114,
          "metadata": {},
          "output_type": "execute_result"
        }
      ],
      "source": [
        "df[df['Seniority_Level'].isnull()]"
      ]
    },
    {
      "cell_type": "code",
      "execution_count": null,
      "id": "939b405b",
      "metadata": {
        "id": "939b405b",
        "outputId": "ae3e40fb-97de-4f90-9c66-57faf864529b"
      },
      "outputs": [
        {
          "data": {
            "text/plain": [
              "Senior                 565\n",
              "Middle                 365\n",
              "Lead                   166\n",
              "Junior                  79\n",
              "Head                    44\n",
              "Principal                3\n",
              "No level                 3\n",
              "Working Student          2\n",
              "Intern                   2\n",
              "C-Level                  2\n",
              "Entry level              1\n",
              "Student                  1\n",
              "Director                 1\n",
              "VP                       1\n",
              "Self employed            1\n",
              "Work Center Manager      1\n",
              "CTO                      1\n",
              "Key                      1\n",
              "Manager                  1\n",
              "Name: Seniority_Level, dtype: int64"
            ]
          },
          "execution_count": 115,
          "metadata": {},
          "output_type": "execute_result"
        }
      ],
      "source": [
        "df['Seniority_Level'].value_counts()"
      ]
    },
    {
      "cell_type": "code",
      "execution_count": null,
      "id": "a8ac374d",
      "metadata": {
        "id": "a8ac374d"
      },
      "outputs": [],
      "source": [
        "# Lets use the Total_Experience feature to impute missing values in Seniority_Level\n",
        "df.Seniority_Level = np.where(((df.Seniority_Level.isnull()) & (df.Total_Experience <= 5)), 'Junior', df.Seniority_Level)\n",
        "df.Seniority_Level = np.where(((df.Seniority_Level.isnull()) & (df.Total_Experience <= 15)), 'Middle', df.Seniority_Level)\n",
        "df.Seniority_Level = np.where(((df.Seniority_Level.isnull()) & (df.Total_Experience > 15)), 'Senior', df.Seniority_Level)"
      ]
    },
    {
      "cell_type": "code",
      "execution_count": null,
      "id": "bede0d4d",
      "metadata": {
        "id": "bede0d4d"
      },
      "outputs": [],
      "source": [
        "# For below features are missing values cannot be interpreted we impute then with 'Unknown'\n",
        "df['Main_Technology'].fillna('Unknown', inplace=True)\n",
        "df['Employment_Status'].fillna('Unknown', inplace=True)\n",
        "df['Contract_Duration'].fillna('Unknown', inplace=True)\n",
        "df['Company_Type'].fillna('Unknown', inplace=True)"
      ]
    },
    {
      "cell_type": "code",
      "execution_count": null,
      "id": "1448d4f0",
      "metadata": {
        "id": "1448d4f0",
        "outputId": "d62a316c-8b2c-42c7-9c05-b915175c5290"
      },
      "outputs": [
        {
          "data": {
            "text/plain": [
              "Timestamp             0\n",
              "Age                   0\n",
              "Gender                0\n",
              "City                  0\n",
              "Position              0\n",
              "Seniority_Level       0\n",
              "Main_Technology       0\n",
              "Annual_Salary         0\n",
              "Bonus                 0\n",
              "Vacation_Days         0\n",
              "Employment_Status     0\n",
              "Contract_Duration     0\n",
              "Language              0\n",
              "Company_Type          0\n",
              "Total_Experience      0\n",
              "Germany_Experience    0\n",
              "dtype: int64"
            ]
          },
          "execution_count": 118,
          "metadata": {},
          "output_type": "execute_result"
        }
      ],
      "source": [
        "df.isnull().sum()"
      ]
    },
    {
      "cell_type": "markdown",
      "id": "55e3c68e",
      "metadata": {
        "id": "55e3c68e"
      },
      "source": [
        "As we have deleted rows during cleanup lets reset the index and check dimensions of the dataframe "
      ]
    },
    {
      "cell_type": "code",
      "execution_count": null,
      "id": "85502ef9",
      "metadata": {
        "id": "85502ef9"
      },
      "outputs": [],
      "source": [
        "df.reset_index(drop=True, inplace=True)"
      ]
    },
    {
      "cell_type": "code",
      "execution_count": null,
      "id": "decd48e8",
      "metadata": {
        "id": "decd48e8",
        "outputId": "02e0b357-59df-4eb2-e8e1-5277b436ee23"
      },
      "outputs": [
        {
          "data": {
            "text/html": [
              "<div>\n",
              "<style scoped>\n",
              "    .dataframe tbody tr th:only-of-type {\n",
              "        vertical-align: middle;\n",
              "    }\n",
              "\n",
              "    .dataframe tbody tr th {\n",
              "        vertical-align: top;\n",
              "    }\n",
              "\n",
              "    .dataframe thead th {\n",
              "        text-align: right;\n",
              "    }\n",
              "</style>\n",
              "<table border=\"1\" class=\"dataframe\">\n",
              "  <thead>\n",
              "    <tr style=\"text-align: right;\">\n",
              "      <th></th>\n",
              "      <th>Timestamp</th>\n",
              "      <th>Age</th>\n",
              "      <th>Gender</th>\n",
              "      <th>City</th>\n",
              "      <th>Position</th>\n",
              "      <th>Seniority_Level</th>\n",
              "      <th>Main_Technology</th>\n",
              "      <th>Annual_Salary</th>\n",
              "      <th>Bonus</th>\n",
              "      <th>Vacation_Days</th>\n",
              "      <th>Employment_Status</th>\n",
              "      <th>Contract_Duration</th>\n",
              "      <th>Language</th>\n",
              "      <th>Company_Type</th>\n",
              "      <th>Total_Experience</th>\n",
              "      <th>Germany_Experience</th>\n",
              "    </tr>\n",
              "  </thead>\n",
              "  <tbody>\n",
              "    <tr>\n",
              "      <th>0</th>\n",
              "      <td>2020-11-24 11:14:00</td>\n",
              "      <td>26.0</td>\n",
              "      <td>Male</td>\n",
              "      <td>Munich</td>\n",
              "      <td>SOFTWARE ENGINEER</td>\n",
              "      <td>Senior</td>\n",
              "      <td>TYPESCRIPT</td>\n",
              "      <td>80000.0</td>\n",
              "      <td>5000.0</td>\n",
              "      <td>30.0</td>\n",
              "      <td>Full-time employee</td>\n",
              "      <td>Unlimited contract</td>\n",
              "      <td>English</td>\n",
              "      <td>PRODUCT</td>\n",
              "      <td>5.0</td>\n",
              "      <td>3.0</td>\n",
              "    </tr>\n",
              "    <tr>\n",
              "      <th>1</th>\n",
              "      <td>2020-11-24 11:14:00</td>\n",
              "      <td>26.0</td>\n",
              "      <td>Male</td>\n",
              "      <td>Berlin</td>\n",
              "      <td>BACKEND DEVELOPER</td>\n",
              "      <td>Senior</td>\n",
              "      <td>RUBY</td>\n",
              "      <td>80000.0</td>\n",
              "      <td>0.0</td>\n",
              "      <td>28.0</td>\n",
              "      <td>Full-time employee</td>\n",
              "      <td>Unlimited contract</td>\n",
              "      <td>English</td>\n",
              "      <td>PRODUCT</td>\n",
              "      <td>7.0</td>\n",
              "      <td>4.0</td>\n",
              "    </tr>\n",
              "    <tr>\n",
              "      <th>2</th>\n",
              "      <td>2020-11-24 11:14:00</td>\n",
              "      <td>29.0</td>\n",
              "      <td>Male</td>\n",
              "      <td>Berlin</td>\n",
              "      <td>SOFTWARE ENGINEER</td>\n",
              "      <td>Lead</td>\n",
              "      <td>JAVASCRIPT / TYPESCRIPT</td>\n",
              "      <td>120000.0</td>\n",
              "      <td>120000.0</td>\n",
              "      <td>30.0</td>\n",
              "      <td>Self-employed (freelancer)</td>\n",
              "      <td>Temporary contract</td>\n",
              "      <td>English</td>\n",
              "      <td>PRODUCT</td>\n",
              "      <td>12.0</td>\n",
              "      <td>6.0</td>\n",
              "    </tr>\n",
              "    <tr>\n",
              "      <th>3</th>\n",
              "      <td>2020-11-24 11:15:00</td>\n",
              "      <td>28.0</td>\n",
              "      <td>Male</td>\n",
              "      <td>Berlin</td>\n",
              "      <td>FRONTEND DEVELOPER</td>\n",
              "      <td>Junior</td>\n",
              "      <td>JAVASCRIPT</td>\n",
              "      <td>54000.0</td>\n",
              "      <td>0.0</td>\n",
              "      <td>24.0</td>\n",
              "      <td>Full-time employee</td>\n",
              "      <td>Unlimited contract</td>\n",
              "      <td>English</td>\n",
              "      <td>STARTUP</td>\n",
              "      <td>4.0</td>\n",
              "      <td>1.0</td>\n",
              "    </tr>\n",
              "    <tr>\n",
              "      <th>4</th>\n",
              "      <td>2020-11-24 11:15:00</td>\n",
              "      <td>37.0</td>\n",
              "      <td>Male</td>\n",
              "      <td>Berlin</td>\n",
              "      <td>BACKEND DEVELOPER</td>\n",
              "      <td>Senior</td>\n",
              "      <td>C# .NET</td>\n",
              "      <td>62000.0</td>\n",
              "      <td>0.0</td>\n",
              "      <td>29.0</td>\n",
              "      <td>Full-time employee</td>\n",
              "      <td>Unlimited contract</td>\n",
              "      <td>English</td>\n",
              "      <td>PRODUCT</td>\n",
              "      <td>17.0</td>\n",
              "      <td>6.0</td>\n",
              "    </tr>\n",
              "  </tbody>\n",
              "</table>\n",
              "</div>"
            ],
            "text/plain": [
              "            Timestamp   Age Gender    City            Position  \\\n",
              "0 2020-11-24 11:14:00  26.0   Male  Munich   SOFTWARE ENGINEER   \n",
              "1 2020-11-24 11:14:00  26.0   Male  Berlin   BACKEND DEVELOPER   \n",
              "2 2020-11-24 11:14:00  29.0   Male  Berlin   SOFTWARE ENGINEER   \n",
              "3 2020-11-24 11:15:00  28.0   Male  Berlin  FRONTEND DEVELOPER   \n",
              "4 2020-11-24 11:15:00  37.0   Male  Berlin   BACKEND DEVELOPER   \n",
              "\n",
              "  Seniority_Level          Main_Technology  Annual_Salary     Bonus  \\\n",
              "0          Senior               TYPESCRIPT        80000.0    5000.0   \n",
              "1          Senior                     RUBY        80000.0       0.0   \n",
              "2            Lead  JAVASCRIPT / TYPESCRIPT       120000.0  120000.0   \n",
              "3          Junior               JAVASCRIPT        54000.0       0.0   \n",
              "4          Senior                  C# .NET        62000.0       0.0   \n",
              "\n",
              "   Vacation_Days           Employment_Status   Contract_Duration Language  \\\n",
              "0           30.0          Full-time employee  Unlimited contract  English   \n",
              "1           28.0          Full-time employee  Unlimited contract  English   \n",
              "2           30.0  Self-employed (freelancer)  Temporary contract  English   \n",
              "3           24.0          Full-time employee  Unlimited contract  English   \n",
              "4           29.0          Full-time employee  Unlimited contract  English   \n",
              "\n",
              "  Company_Type  Total_Experience  Germany_Experience  \n",
              "0      PRODUCT               5.0                 3.0  \n",
              "1      PRODUCT               7.0                 4.0  \n",
              "2      PRODUCT              12.0                 6.0  \n",
              "3      STARTUP               4.0                 1.0  \n",
              "4      PRODUCT              17.0                 6.0  "
            ]
          },
          "execution_count": 120,
          "metadata": {},
          "output_type": "execute_result"
        }
      ],
      "source": [
        "df.head()"
      ]
    },
    {
      "cell_type": "code",
      "execution_count": null,
      "id": "d5825b2d",
      "metadata": {
        "id": "d5825b2d",
        "outputId": "5bf6992c-d526-4f34-9987-8a3b5466912f"
      },
      "outputs": [
        {
          "data": {
            "text/html": [
              "<div>\n",
              "<style scoped>\n",
              "    .dataframe tbody tr th:only-of-type {\n",
              "        vertical-align: middle;\n",
              "    }\n",
              "\n",
              "    .dataframe tbody tr th {\n",
              "        vertical-align: top;\n",
              "    }\n",
              "\n",
              "    .dataframe thead th {\n",
              "        text-align: right;\n",
              "    }\n",
              "</style>\n",
              "<table border=\"1\" class=\"dataframe\">\n",
              "  <thead>\n",
              "    <tr style=\"text-align: right;\">\n",
              "      <th></th>\n",
              "      <th>Timestamp</th>\n",
              "      <th>Age</th>\n",
              "      <th>Gender</th>\n",
              "      <th>City</th>\n",
              "      <th>Position</th>\n",
              "      <th>Seniority_Level</th>\n",
              "      <th>Main_Technology</th>\n",
              "      <th>Annual_Salary</th>\n",
              "      <th>Bonus</th>\n",
              "      <th>Vacation_Days</th>\n",
              "      <th>Employment_Status</th>\n",
              "      <th>Contract_Duration</th>\n",
              "      <th>Language</th>\n",
              "      <th>Company_Type</th>\n",
              "      <th>Total_Experience</th>\n",
              "      <th>Germany_Experience</th>\n",
              "    </tr>\n",
              "  </thead>\n",
              "  <tbody>\n",
              "    <tr>\n",
              "      <th>1243</th>\n",
              "      <td>2021-01-18 15:05:00</td>\n",
              "      <td>31.0</td>\n",
              "      <td>Male</td>\n",
              "      <td>Berlin</td>\n",
              "      <td>BACKEND DEVELOPER</td>\n",
              "      <td>Senior</td>\n",
              "      <td>JAVA</td>\n",
              "      <td>70000.0</td>\n",
              "      <td>72000.0</td>\n",
              "      <td>26.0</td>\n",
              "      <td>Full-time employee</td>\n",
              "      <td>Unlimited contract</td>\n",
              "      <td>English</td>\n",
              "      <td>PRODUCT</td>\n",
              "      <td>9.0</td>\n",
              "      <td>5.0</td>\n",
              "    </tr>\n",
              "    <tr>\n",
              "      <th>1244</th>\n",
              "      <td>2021-01-18 17:46:00</td>\n",
              "      <td>33.0</td>\n",
              "      <td>Male</td>\n",
              "      <td>Berlin</td>\n",
              "      <td>RESEARCHER/ CONSUMER INSIGHTS ANALYST</td>\n",
              "      <td>Senior</td>\n",
              "      <td>CONSUMER ANALYSIS</td>\n",
              "      <td>60000.0</td>\n",
              "      <td>3000.0</td>\n",
              "      <td>28.0</td>\n",
              "      <td>Full-time employee</td>\n",
              "      <td>Unlimited contract</td>\n",
              "      <td>English</td>\n",
              "      <td>PRODUCT</td>\n",
              "      <td>10.0</td>\n",
              "      <td>1.5</td>\n",
              "    </tr>\n",
              "    <tr>\n",
              "      <th>1245</th>\n",
              "      <td>2021-01-18 23:20:00</td>\n",
              "      <td>39.0</td>\n",
              "      <td>Male</td>\n",
              "      <td>Munich</td>\n",
              "      <td>IT OPERATIONS MANAGER</td>\n",
              "      <td>Lead</td>\n",
              "      <td>PHP</td>\n",
              "      <td>110000.0</td>\n",
              "      <td>0.0</td>\n",
              "      <td>28.0</td>\n",
              "      <td>Full-time employee</td>\n",
              "      <td>Unlimited contract</td>\n",
              "      <td>English</td>\n",
              "      <td>E-COMMERCE</td>\n",
              "      <td>15.0</td>\n",
              "      <td>2.0</td>\n",
              "    </tr>\n",
              "    <tr>\n",
              "      <th>1246</th>\n",
              "      <td>2021-01-19 10:17:00</td>\n",
              "      <td>26.0</td>\n",
              "      <td>Male</td>\n",
              "      <td>Saarbrucken</td>\n",
              "      <td>FRONTEND DEVELOPER</td>\n",
              "      <td>Middle</td>\n",
              "      <td>JAVASCRIPT</td>\n",
              "      <td>38350.0</td>\n",
              "      <td>40950.0</td>\n",
              "      <td>27.0</td>\n",
              "      <td>Full-time employee</td>\n",
              "      <td>Unlimited contract</td>\n",
              "      <td>German</td>\n",
              "      <td>PRODUCT</td>\n",
              "      <td>7.0</td>\n",
              "      <td>7.0</td>\n",
              "    </tr>\n",
              "    <tr>\n",
              "      <th>1247</th>\n",
              "      <td>2021-01-19 12:01:00</td>\n",
              "      <td>26.0</td>\n",
              "      <td>Male</td>\n",
              "      <td>Berlin</td>\n",
              "      <td>DEVOPS</td>\n",
              "      <td>Middle</td>\n",
              "      <td>YAML</td>\n",
              "      <td>65000.0</td>\n",
              "      <td>6500.0</td>\n",
              "      <td>30.0</td>\n",
              "      <td>Full-time employee</td>\n",
              "      <td>Unlimited contract</td>\n",
              "      <td>English</td>\n",
              "      <td>STARTUP</td>\n",
              "      <td>2.0</td>\n",
              "      <td>2.0</td>\n",
              "    </tr>\n",
              "  </tbody>\n",
              "</table>\n",
              "</div>"
            ],
            "text/plain": [
              "               Timestamp   Age Gender         City  \\\n",
              "1243 2021-01-18 15:05:00  31.0   Male       Berlin   \n",
              "1244 2021-01-18 17:46:00  33.0   Male       Berlin   \n",
              "1245 2021-01-18 23:20:00  39.0   Male       Munich   \n",
              "1246 2021-01-19 10:17:00  26.0   Male  Saarbrucken   \n",
              "1247 2021-01-19 12:01:00  26.0   Male       Berlin   \n",
              "\n",
              "                                   Position Seniority_Level  \\\n",
              "1243                      BACKEND DEVELOPER          Senior   \n",
              "1244  RESEARCHER/ CONSUMER INSIGHTS ANALYST          Senior   \n",
              "1245                  IT OPERATIONS MANAGER            Lead   \n",
              "1246                     FRONTEND DEVELOPER          Middle   \n",
              "1247                                 DEVOPS          Middle   \n",
              "\n",
              "        Main_Technology  Annual_Salary    Bonus  Vacation_Days  \\\n",
              "1243               JAVA        70000.0  72000.0           26.0   \n",
              "1244  CONSUMER ANALYSIS        60000.0   3000.0           28.0   \n",
              "1245                PHP       110000.0      0.0           28.0   \n",
              "1246         JAVASCRIPT        38350.0  40950.0           27.0   \n",
              "1247               YAML        65000.0   6500.0           30.0   \n",
              "\n",
              "       Employment_Status   Contract_Duration Language Company_Type  \\\n",
              "1243  Full-time employee  Unlimited contract  English      PRODUCT   \n",
              "1244  Full-time employee  Unlimited contract  English      PRODUCT   \n",
              "1245  Full-time employee  Unlimited contract  English   E-COMMERCE   \n",
              "1246  Full-time employee  Unlimited contract   German      PRODUCT   \n",
              "1247  Full-time employee  Unlimited contract  English      STARTUP   \n",
              "\n",
              "      Total_Experience  Germany_Experience  \n",
              "1243               9.0                 5.0  \n",
              "1244              10.0                 1.5  \n",
              "1245              15.0                 2.0  \n",
              "1246               7.0                 7.0  \n",
              "1247               2.0                 2.0  "
            ]
          },
          "execution_count": 121,
          "metadata": {},
          "output_type": "execute_result"
        }
      ],
      "source": [
        "df.tail()"
      ]
    },
    {
      "cell_type": "code",
      "execution_count": null,
      "id": "2a84deee",
      "metadata": {
        "id": "2a84deee",
        "outputId": "7f57b6ff-ba2f-4eaa-9c06-c8260f49ca39"
      },
      "outputs": [
        {
          "data": {
            "text/plain": [
              "(1248, 16)"
            ]
          },
          "execution_count": 122,
          "metadata": {},
          "output_type": "execute_result"
        }
      ],
      "source": [
        "df.shape"
      ]
    },
    {
      "cell_type": "code",
      "execution_count": null,
      "id": "a6fd0377",
      "metadata": {
        "id": "a6fd0377",
        "outputId": "ebd388b9-ec44-4a06-fe7a-87bc80f736c9"
      },
      "outputs": [
        {
          "name": "stdout",
          "output_type": "stream",
          "text": [
            "<class 'pandas.core.frame.DataFrame'>\n",
            "RangeIndex: 1248 entries, 0 to 1247\n",
            "Data columns (total 16 columns):\n",
            " #   Column              Non-Null Count  Dtype         \n",
            "---  ------              --------------  -----         \n",
            " 0   Timestamp           1248 non-null   datetime64[ns]\n",
            " 1   Age                 1248 non-null   float64       \n",
            " 2   Gender              1248 non-null   object        \n",
            " 3   City                1248 non-null   object        \n",
            " 4   Position            1248 non-null   object        \n",
            " 5   Seniority_Level     1248 non-null   object        \n",
            " 6   Main_Technology     1248 non-null   object        \n",
            " 7   Annual_Salary       1248 non-null   float64       \n",
            " 8   Bonus               1248 non-null   float64       \n",
            " 9   Vacation_Days       1248 non-null   float64       \n",
            " 10  Employment_Status   1248 non-null   object        \n",
            " 11  Contract_Duration   1248 non-null   object        \n",
            " 12  Language            1248 non-null   object        \n",
            " 13  Company_Type        1248 non-null   object        \n",
            " 14  Total_Experience    1248 non-null   float64       \n",
            " 15  Germany_Experience  1248 non-null   float64       \n",
            "dtypes: datetime64[ns](1), float64(6), object(9)\n",
            "memory usage: 156.1+ KB\n"
          ]
        }
      ],
      "source": [
        "df.info()"
      ]
    },
    {
      "cell_type": "code",
      "execution_count": null,
      "id": "97ddc6e5",
      "metadata": {
        "id": "97ddc6e5",
        "outputId": "a442395e-204d-46be-e215-c6bfa30e0fc9"
      },
      "outputs": [
        {
          "name": "stderr",
          "output_type": "stream",
          "text": [
            "<ipython-input-142-0dd56a246831>:1: FutureWarning: Treating datetime data as categorical rather than numeric in `.describe` is deprecated and will be removed in a future version of pandas. Specify `datetime_is_numeric=True` to silence this warning and adopt the future behavior now.\n",
            "  df.describe(include='all').T\n"
          ]
        },
        {
          "data": {
            "text/html": [
              "<div>\n",
              "<style scoped>\n",
              "    .dataframe tbody tr th:only-of-type {\n",
              "        vertical-align: middle;\n",
              "    }\n",
              "\n",
              "    .dataframe tbody tr th {\n",
              "        vertical-align: top;\n",
              "    }\n",
              "\n",
              "    .dataframe thead th {\n",
              "        text-align: right;\n",
              "    }\n",
              "</style>\n",
              "<table border=\"1\" class=\"dataframe\">\n",
              "  <thead>\n",
              "    <tr style=\"text-align: right;\">\n",
              "      <th></th>\n",
              "      <th>count</th>\n",
              "      <th>unique</th>\n",
              "      <th>top</th>\n",
              "      <th>freq</th>\n",
              "      <th>first</th>\n",
              "      <th>last</th>\n",
              "      <th>mean</th>\n",
              "      <th>std</th>\n",
              "      <th>min</th>\n",
              "      <th>25%</th>\n",
              "      <th>50%</th>\n",
              "      <th>75%</th>\n",
              "      <th>max</th>\n",
              "    </tr>\n",
              "  </thead>\n",
              "  <tbody>\n",
              "    <tr>\n",
              "      <th>Timestamp</th>\n",
              "      <td>1248</td>\n",
              "      <td>1021</td>\n",
              "      <td>2020-11-24 11:18:00</td>\n",
              "      <td>7</td>\n",
              "      <td>2020-01-12 00:06:00</td>\n",
              "      <td>2021-12-01 22:22:00</td>\n",
              "      <td>NaN</td>\n",
              "      <td>NaN</td>\n",
              "      <td>NaN</td>\n",
              "      <td>NaN</td>\n",
              "      <td>NaN</td>\n",
              "      <td>NaN</td>\n",
              "      <td>NaN</td>\n",
              "    </tr>\n",
              "    <tr>\n",
              "      <th>Age</th>\n",
              "      <td>1248.0</td>\n",
              "      <td>NaN</td>\n",
              "      <td>NaN</td>\n",
              "      <td>NaN</td>\n",
              "      <td>NaT</td>\n",
              "      <td>NaT</td>\n",
              "      <td>32.463542</td>\n",
              "      <td>5.678368</td>\n",
              "      <td>20.0</td>\n",
              "      <td>29.0</td>\n",
              "      <td>32.0</td>\n",
              "      <td>35.0</td>\n",
              "      <td>69.0</td>\n",
              "    </tr>\n",
              "    <tr>\n",
              "      <th>Gender</th>\n",
              "      <td>1248</td>\n",
              "      <td>3</td>\n",
              "      <td>Male</td>\n",
              "      <td>1055</td>\n",
              "      <td>NaT</td>\n",
              "      <td>NaT</td>\n",
              "      <td>NaN</td>\n",
              "      <td>NaN</td>\n",
              "      <td>NaN</td>\n",
              "      <td>NaN</td>\n",
              "      <td>NaN</td>\n",
              "      <td>NaN</td>\n",
              "      <td>NaN</td>\n",
              "    </tr>\n",
              "    <tr>\n",
              "      <th>City</th>\n",
              "      <td>1248</td>\n",
              "      <td>101</td>\n",
              "      <td>Berlin</td>\n",
              "      <td>679</td>\n",
              "      <td>NaT</td>\n",
              "      <td>NaT</td>\n",
              "      <td>NaN</td>\n",
              "      <td>NaN</td>\n",
              "      <td>NaN</td>\n",
              "      <td>NaN</td>\n",
              "      <td>NaN</td>\n",
              "      <td>NaN</td>\n",
              "      <td>NaN</td>\n",
              "    </tr>\n",
              "    <tr>\n",
              "      <th>Position</th>\n",
              "      <td>1248</td>\n",
              "      <td>122</td>\n",
              "      <td>SOFTWARE ENGINEER</td>\n",
              "      <td>389</td>\n",
              "      <td>NaT</td>\n",
              "      <td>NaT</td>\n",
              "      <td>NaN</td>\n",
              "      <td>NaN</td>\n",
              "      <td>NaN</td>\n",
              "      <td>NaN</td>\n",
              "      <td>NaN</td>\n",
              "      <td>NaN</td>\n",
              "      <td>NaN</td>\n",
              "    </tr>\n",
              "    <tr>\n",
              "      <th>Seniority_Level</th>\n",
              "      <td>1248</td>\n",
              "      <td>19</td>\n",
              "      <td>Senior</td>\n",
              "      <td>566</td>\n",
              "      <td>NaT</td>\n",
              "      <td>NaT</td>\n",
              "      <td>NaN</td>\n",
              "      <td>NaN</td>\n",
              "      <td>NaN</td>\n",
              "      <td>NaN</td>\n",
              "      <td>NaN</td>\n",
              "      <td>NaN</td>\n",
              "      <td>NaN</td>\n",
              "    </tr>\n",
              "    <tr>\n",
              "      <th>Main_Technology</th>\n",
              "      <td>1248</td>\n",
              "      <td>206</td>\n",
              "      <td>PYTHON</td>\n",
              "      <td>212</td>\n",
              "      <td>NaT</td>\n",
              "      <td>NaT</td>\n",
              "      <td>NaN</td>\n",
              "      <td>NaN</td>\n",
              "      <td>NaN</td>\n",
              "      <td>NaN</td>\n",
              "      <td>NaN</td>\n",
              "      <td>NaN</td>\n",
              "      <td>NaN</td>\n",
              "    </tr>\n",
              "    <tr>\n",
              "      <th>Annual_Salary</th>\n",
              "      <td>1248.0</td>\n",
              "      <td>NaN</td>\n",
              "      <td>NaN</td>\n",
              "      <td>NaN</td>\n",
              "      <td>NaT</td>\n",
              "      <td>NaT</td>\n",
              "      <td>71658.045777</td>\n",
              "      <td>32817.495595</td>\n",
              "      <td>10001.0</td>\n",
              "      <td>58600.0</td>\n",
              "      <td>70000.0</td>\n",
              "      <td>80000.0</td>\n",
              "      <td>850000.0</td>\n",
              "    </tr>\n",
              "    <tr>\n",
              "      <th>Bonus</th>\n",
              "      <td>1248.0</td>\n",
              "      <td>NaN</td>\n",
              "      <td>NaN</td>\n",
              "      <td>NaN</td>\n",
              "      <td>NaT</td>\n",
              "      <td>NaT</td>\n",
              "      <td>14214.265585</td>\n",
              "      <td>44630.633608</td>\n",
              "      <td>0.0</td>\n",
              "      <td>0.0</td>\n",
              "      <td>0.0</td>\n",
              "      <td>9587.5</td>\n",
              "      <td>1150000.0</td>\n",
              "    </tr>\n",
              "    <tr>\n",
              "      <th>Vacation_Days</th>\n",
              "      <td>1248.0</td>\n",
              "      <td>NaN</td>\n",
              "      <td>NaN</td>\n",
              "      <td>NaN</td>\n",
              "      <td>NaT</td>\n",
              "      <td>NaT</td>\n",
              "      <td>27.991587</td>\n",
              "      <td>3.708306</td>\n",
              "      <td>0.0</td>\n",
              "      <td>27.0</td>\n",
              "      <td>28.0</td>\n",
              "      <td>30.0</td>\n",
              "      <td>60.0</td>\n",
              "    </tr>\n",
              "    <tr>\n",
              "      <th>Employment_Status</th>\n",
              "      <td>1248</td>\n",
              "      <td>8</td>\n",
              "      <td>Full-time employee</td>\n",
              "      <td>1189</td>\n",
              "      <td>NaT</td>\n",
              "      <td>NaT</td>\n",
              "      <td>NaN</td>\n",
              "      <td>NaN</td>\n",
              "      <td>NaN</td>\n",
              "      <td>NaN</td>\n",
              "      <td>NaN</td>\n",
              "      <td>NaN</td>\n",
              "      <td>NaN</td>\n",
              "    </tr>\n",
              "    <tr>\n",
              "      <th>Contract_Duration</th>\n",
              "      <td>1248</td>\n",
              "      <td>3</td>\n",
              "      <td>Unlimited contract</td>\n",
              "      <td>1158</td>\n",
              "      <td>NaT</td>\n",
              "      <td>NaT</td>\n",
              "      <td>NaN</td>\n",
              "      <td>NaN</td>\n",
              "      <td>NaN</td>\n",
              "      <td>NaN</td>\n",
              "      <td>NaN</td>\n",
              "      <td>NaN</td>\n",
              "      <td>NaN</td>\n",
              "    </tr>\n",
              "    <tr>\n",
              "      <th>Language</th>\n",
              "      <td>1248</td>\n",
              "      <td>11</td>\n",
              "      <td>English</td>\n",
              "      <td>1033</td>\n",
              "      <td>NaT</td>\n",
              "      <td>NaT</td>\n",
              "      <td>NaN</td>\n",
              "      <td>NaN</td>\n",
              "      <td>NaN</td>\n",
              "      <td>NaN</td>\n",
              "      <td>NaN</td>\n",
              "      <td>NaN</td>\n",
              "      <td>NaN</td>\n",
              "    </tr>\n",
              "    <tr>\n",
              "      <th>Company_Type</th>\n",
              "      <td>1248</td>\n",
              "      <td>57</td>\n",
              "      <td>PRODUCT</td>\n",
              "      <td>760</td>\n",
              "      <td>NaT</td>\n",
              "      <td>NaT</td>\n",
              "      <td>NaN</td>\n",
              "      <td>NaN</td>\n",
              "      <td>NaN</td>\n",
              "      <td>NaN</td>\n",
              "      <td>NaN</td>\n",
              "      <td>NaN</td>\n",
              "      <td>NaN</td>\n",
              "    </tr>\n",
              "    <tr>\n",
              "      <th>Total_Experience</th>\n",
              "      <td>1248.0</td>\n",
              "      <td>NaN</td>\n",
              "      <td>NaN</td>\n",
              "      <td>NaN</td>\n",
              "      <td>NaT</td>\n",
              "      <td>NaT</td>\n",
              "      <td>8.766506</td>\n",
              "      <td>5.377299</td>\n",
              "      <td>0.0</td>\n",
              "      <td>5.0</td>\n",
              "      <td>8.0</td>\n",
              "      <td>12.0</td>\n",
              "      <td>40.0</td>\n",
              "    </tr>\n",
              "    <tr>\n",
              "      <th>Germany_Experience</th>\n",
              "      <td>1248.0</td>\n",
              "      <td>NaN</td>\n",
              "      <td>NaN</td>\n",
              "      <td>NaN</td>\n",
              "      <td>NaT</td>\n",
              "      <td>NaT</td>\n",
              "      <td>3.633814</td>\n",
              "      <td>3.636603</td>\n",
              "      <td>0.0</td>\n",
              "      <td>1.0</td>\n",
              "      <td>3.0</td>\n",
              "      <td>5.0</td>\n",
              "      <td>30.0</td>\n",
              "    </tr>\n",
              "  </tbody>\n",
              "</table>\n",
              "</div>"
            ],
            "text/plain": [
              "                     count unique                  top  freq  \\\n",
              "Timestamp             1248   1021  2020-11-24 11:18:00     7   \n",
              "Age                 1248.0    NaN                  NaN   NaN   \n",
              "Gender                1248      3                 Male  1055   \n",
              "City                  1248    101               Berlin   679   \n",
              "Position              1248    122    SOFTWARE ENGINEER   389   \n",
              "Seniority_Level       1248     19               Senior   566   \n",
              "Main_Technology       1248    206               PYTHON   212   \n",
              "Annual_Salary       1248.0    NaN                  NaN   NaN   \n",
              "Bonus               1248.0    NaN                  NaN   NaN   \n",
              "Vacation_Days       1248.0    NaN                  NaN   NaN   \n",
              "Employment_Status     1248      8   Full-time employee  1189   \n",
              "Contract_Duration     1248      3   Unlimited contract  1158   \n",
              "Language              1248     11              English  1033   \n",
              "Company_Type          1248     57              PRODUCT   760   \n",
              "Total_Experience    1248.0    NaN                  NaN   NaN   \n",
              "Germany_Experience  1248.0    NaN                  NaN   NaN   \n",
              "\n",
              "                                 first                last          mean  \\\n",
              "Timestamp          2020-01-12 00:06:00 2021-12-01 22:22:00           NaN   \n",
              "Age                                NaT                 NaT     32.463542   \n",
              "Gender                             NaT                 NaT           NaN   \n",
              "City                               NaT                 NaT           NaN   \n",
              "Position                           NaT                 NaT           NaN   \n",
              "Seniority_Level                    NaT                 NaT           NaN   \n",
              "Main_Technology                    NaT                 NaT           NaN   \n",
              "Annual_Salary                      NaT                 NaT  71658.045777   \n",
              "Bonus                              NaT                 NaT  14214.265585   \n",
              "Vacation_Days                      NaT                 NaT     27.991587   \n",
              "Employment_Status                  NaT                 NaT           NaN   \n",
              "Contract_Duration                  NaT                 NaT           NaN   \n",
              "Language                           NaT                 NaT           NaN   \n",
              "Company_Type                       NaT                 NaT           NaN   \n",
              "Total_Experience                   NaT                 NaT      8.766506   \n",
              "Germany_Experience                 NaT                 NaT      3.633814   \n",
              "\n",
              "                             std      min      25%      50%      75%  \\\n",
              "Timestamp                    NaN      NaN      NaN      NaN      NaN   \n",
              "Age                     5.678368     20.0     29.0     32.0     35.0   \n",
              "Gender                       NaN      NaN      NaN      NaN      NaN   \n",
              "City                         NaN      NaN      NaN      NaN      NaN   \n",
              "Position                     NaN      NaN      NaN      NaN      NaN   \n",
              "Seniority_Level              NaN      NaN      NaN      NaN      NaN   \n",
              "Main_Technology              NaN      NaN      NaN      NaN      NaN   \n",
              "Annual_Salary       32817.495595  10001.0  58600.0  70000.0  80000.0   \n",
              "Bonus               44630.633608      0.0      0.0      0.0   9587.5   \n",
              "Vacation_Days           3.708306      0.0     27.0     28.0     30.0   \n",
              "Employment_Status            NaN      NaN      NaN      NaN      NaN   \n",
              "Contract_Duration            NaN      NaN      NaN      NaN      NaN   \n",
              "Language                     NaN      NaN      NaN      NaN      NaN   \n",
              "Company_Type                 NaN      NaN      NaN      NaN      NaN   \n",
              "Total_Experience        5.377299      0.0      5.0      8.0     12.0   \n",
              "Germany_Experience      3.636603      0.0      1.0      3.0      5.0   \n",
              "\n",
              "                          max  \n",
              "Timestamp                 NaN  \n",
              "Age                      69.0  \n",
              "Gender                    NaN  \n",
              "City                      NaN  \n",
              "Position                  NaN  \n",
              "Seniority_Level           NaN  \n",
              "Main_Technology           NaN  \n",
              "Annual_Salary        850000.0  \n",
              "Bonus               1150000.0  \n",
              "Vacation_Days            60.0  \n",
              "Employment_Status         NaN  \n",
              "Contract_Duration         NaN  \n",
              "Language                  NaN  \n",
              "Company_Type              NaN  \n",
              "Total_Experience         40.0  \n",
              "Germany_Experience       30.0  "
            ]
          },
          "execution_count": 142,
          "metadata": {},
          "output_type": "execute_result"
        }
      ],
      "source": [
        "df.describe(include='all').T"
      ]
    },
    {
      "cell_type": "markdown",
      "id": "dcdae1e5",
      "metadata": {
        "id": "dcdae1e5"
      },
      "source": [
        "### EDA"
      ]
    },
    {
      "cell_type": "markdown",
      "id": "d1075722",
      "metadata": {
        "id": "d1075722"
      },
      "source": [
        "#### Univariate Analysis"
      ]
    },
    {
      "cell_type": "code",
      "execution_count": null,
      "id": "4b935482",
      "metadata": {
        "id": "4b935482",
        "outputId": "1cf41d64-d7f5-4963-d812-c423020169e7"
      },
      "outputs": [
        {
          "data": {
            "text/plain": [
              "<AxesSubplot:xlabel='Total_Experience'>"
            ]
          },
          "execution_count": 124,
          "metadata": {},
          "output_type": "execute_result"
        },
        {
          "data": {
            "image/png": "[encoded data removed]",
            "text/plain": [
              "<Figure size 1080x432 with 2 Axes>"
            ]
          },
          "metadata": {
            "needs_background": "light"
          },
          "output_type": "display_data"
        }
      ],
      "source": [
        "fig, axes = plt.subplots(nrows=1, ncols=2, figsize=(15,6))\n",
        "sns.histplot(x='Total_Experience', data=df, ax=axes[0])\n",
        "sns.boxplot(x='Total_Experience', data=df, ax=axes[1])"
      ]
    },
    {
      "cell_type": "markdown",
      "id": "37c4f15b",
      "metadata": {
        "id": "37c4f15b"
      },
      "source": [
        "Total Experience in right skewed and has outliers"
      ]
    },
    {
      "cell_type": "code",
      "execution_count": null,
      "id": "21502c49",
      "metadata": {
        "id": "21502c49",
        "outputId": "4459775f-eb24-4a43-a3b5-ab03c9b28a16"
      },
      "outputs": [
        {
          "data": {
            "text/plain": [
              "<AxesSubplot:xlabel='Annual_Salary'>"
            ]
          },
          "execution_count": 125,
          "metadata": {},
          "output_type": "execute_result"
        },
        {
          "data": {
            "image/png": "[encoded data removed]",
            "text/plain": [
              "<Figure size 1080x432 with 2 Axes>"
            ]
          },
          "metadata": {
            "needs_background": "light"
          },
          "output_type": "display_data"
        }
      ],
      "source": [
        "fig, axes = plt.subplots(nrows=1, ncols=2, figsize=(15,6))\n",
        "sns.histplot(x='Annual_Salary', bins=60, data=df, ax=axes[0])\n",
        "sns.boxplot(x='Annual_Salary', data=df, ax=axes[1])"
      ]
    },
    {
      "cell_type": "markdown",
      "id": "da2a2204",
      "metadata": {
        "id": "da2a2204"
      },
      "source": [
        "Annual salary is right skewed. It has outliers on both side, higher as well as lower values"
      ]
    },
    {
      "cell_type": "code",
      "execution_count": null,
      "id": "af7f03fe",
      "metadata": {
        "id": "af7f03fe",
        "outputId": "0bd1bdee-da59-46d5-a51b-1469761a9920"
      },
      "outputs": [
        {
          "data": {
            "text/plain": [
              "<AxesSubplot:xlabel='Bonus'>"
            ]
          },
          "execution_count": 126,
          "metadata": {},
          "output_type": "execute_result"
        },
        {
          "data": {
            "image/png": "[encoded data removed]",
            "text/plain": [
              "<Figure size 1080x432 with 2 Axes>"
            ]
          },
          "metadata": {
            "needs_background": "light"
          },
          "output_type": "display_data"
        }
      ],
      "source": [
        "fig, axes = plt.subplots(nrows=1, ncols=2, figsize=(15,6))\n",
        "sns.histplot(x='Bonus', bins=60, data=df, ax=axes[0])\n",
        "sns.boxplot(x='Bonus', data=df, ax=axes[1])"
      ]
    },
    {
      "cell_type": "markdown",
      "id": "97c9cbe5",
      "metadata": {
        "id": "97c9cbe5"
      },
      "source": [
        "Many candidates have a zero bonus. There is 1 candidate with a bonus of more than 1000000."
      ]
    },
    {
      "cell_type": "code",
      "execution_count": null,
      "id": "6ed84030",
      "metadata": {
        "id": "6ed84030",
        "outputId": "d816e881-8c32-4bb2-b369-cb23e22b35e4"
      },
      "outputs": [
        {
          "data": {
            "text/plain": [
              "57"
            ]
          },
          "execution_count": 127,
          "metadata": {},
          "output_type": "execute_result"
        }
      ],
      "source": [
        "df.Company_Type.nunique()"
      ]
    },
    {
      "cell_type": "code",
      "execution_count": null,
      "id": "5be31a17",
      "metadata": {
        "id": "5be31a17",
        "outputId": "f87e3555-9ed3-49ce-8522-2515ce372c79"
      },
      "outputs": [
        {
          "data": {
            "text/plain": [
              "<AxesSubplot:xlabel='count', ylabel='Company_Type'>"
            ]
          },
          "execution_count": 128,
          "metadata": {},
          "output_type": "execute_result"
        },
        {
          "data": {
            "image/png": "[encoded data removed]",
            "text/plain": [
              "<Figure size 432x288 with 1 Axes>"
            ]
          },
          "metadata": {
            "needs_background": "light"
          },
          "output_type": "display_data"
        }
      ],
      "source": [
        "sns.countplot(y='Company_Type', order= df.Company_Type.value_counts().head(5).index,data=df)"
      ]
    },
    {
      "cell_type": "markdown",
      "id": "678871f9",
      "metadata": {
        "id": "678871f9"
      },
      "source": [
        "There are 57 unique values in Company Type field. The top 3 as per frequency are Product, Startup, Consulting/Agency. "
      ]
    },
    {
      "cell_type": "code",
      "execution_count": null,
      "id": "d5b10d70",
      "metadata": {
        "id": "d5b10d70",
        "outputId": "55195b5d-2b87-425a-9943-60609c32397c"
      },
      "outputs": [
        {
          "data": {
            "text/plain": [
              "19"
            ]
          },
          "execution_count": 129,
          "metadata": {},
          "output_type": "execute_result"
        }
      ],
      "source": [
        "df.Seniority_Level.nunique()"
      ]
    },
    {
      "cell_type": "code",
      "execution_count": null,
      "id": "63842e10",
      "metadata": {
        "id": "63842e10",
        "outputId": "4fdadc02-00bb-495f-c2dd-0f9a361672d3"
      },
      "outputs": [
        {
          "data": {
            "text/plain": [
              "<AxesSubplot:xlabel='count', ylabel='Seniority_Level'>"
            ]
          },
          "execution_count": 130,
          "metadata": {},
          "output_type": "execute_result"
        },
        {
          "data": {
            "image/png": "[encoded data removed]",
            "text/plain": [
              "<Figure size 432x288 with 1 Axes>"
            ]
          },
          "metadata": {
            "needs_background": "light"
          },
          "output_type": "display_data"
        }
      ],
      "source": [
        "sns.countplot(y='Seniority_Level', order= df.Seniority_Level.value_counts().head(5).index,data=df)"
      ]
    },
    {
      "cell_type": "markdown",
      "id": "af556573",
      "metadata": {
        "id": "af556573"
      },
      "source": [
        "There are 19 different seniority levels. Highest frequency is of 'Senior' level"
      ]
    },
    {
      "cell_type": "markdown",
      "id": "25e83ba5",
      "metadata": {
        "id": "25e83ba5"
      },
      "source": [
        "#### Bivariate Analysis"
      ]
    },
    {
      "cell_type": "code",
      "execution_count": null,
      "id": "06641720",
      "metadata": {
        "id": "06641720",
        "outputId": "f87368dd-0d18-4290-8aba-290350e05657"
      },
      "outputs": [
        {
          "data": {
            "text/plain": [
              "Index(['Age', 'Annual_Salary', 'Bonus', 'Vacation_Days', 'Total_Experience',\n",
              "       'Germany_Experience'],\n",
              "      dtype='object')"
            ]
          },
          "execution_count": 131,
          "metadata": {},
          "output_type": "execute_result"
        }
      ],
      "source": [
        "num_list = df.select_dtypes(exclude=['object','datetime64[ns]']).columns\n",
        "num_list"
      ]
    },
    {
      "cell_type": "code",
      "execution_count": null,
      "id": "a1e932b1",
      "metadata": {
        "id": "a1e932b1",
        "outputId": "f725f635-cc9c-4243-cc00-9c9917eabbdd"
      },
      "outputs": [
        {
          "data": {
            "text/plain": [
              "<seaborn.axisgrid.PairGrid at 0x1e2d8591460>"
            ]
          },
          "execution_count": 132,
          "metadata": {},
          "output_type": "execute_result"
        },
        {
          "data": {
            "image/png": "[encoded data removed]",
            "text/plain": [
              "<Figure size 1080x1080 with 42 Axes>"
            ]
          },
          "metadata": {
            "needs_background": "light"
          },
          "output_type": "display_data"
        }
      ],
      "source": [
        "sns.pairplot(vars=num_list, data=df)"
      ]
    },
    {
      "cell_type": "markdown",
      "id": "1f7b2c9f",
      "metadata": {
        "id": "1f7b2c9f"
      },
      "source": [
        "There is no string relationship between the numeric features. There is a possible positive relation between 'Age' and 'Total Expereince'."
      ]
    },
    {
      "cell_type": "code",
      "execution_count": null,
      "id": "cfc675bf",
      "metadata": {
        "id": "cfc675bf"
      },
      "outputs": [],
      "source": [
        "corr = df[num_list].corr()"
      ]
    },
    {
      "cell_type": "code",
      "execution_count": null,
      "id": "ffb938b6",
      "metadata": {
        "id": "ffb938b6",
        "outputId": "ea0d85f7-fc91-4998-8ed4-fc975a3692aa"
      },
      "outputs": [
        {
          "data": {
            "text/plain": [
              "<AxesSubplot:>"
            ]
          },
          "execution_count": 160,
          "metadata": {},
          "output_type": "execute_result"
        },
        {
          "data": {
            "image/png": "[encoded data removed]",
            "text/plain": [
              "<Figure size 432x288 with 2 Axes>"
            ]
          },
          "metadata": {
            "needs_background": "light"
          },
          "output_type": "display_data"
        }
      ],
      "source": [
        "sns.heatmap(corr, annot=True)"
      ]
    },
    {
      "cell_type": "code",
      "execution_count": null,
      "id": "720721f7",
      "metadata": {
        "id": "720721f7",
        "outputId": "9431791b-772f-4b73-b37f-b6ebd8006f8b"
      },
      "outputs": [
        {
          "data": {
            "text/plain": [
              "<matplotlib.legend.Legend at 0x1e2e092b220>"
            ]
          },
          "execution_count": 174,
          "metadata": {},
          "output_type": "execute_result"
        },
        {
          "data": {
            "image/png": "[encoded data removed]",
            "text/plain": [
              "<Figure size 576x432 with 1 Axes>"
            ]
          },
          "metadata": {
            "needs_background": "light"
          },
          "output_type": "display_data"
        }
      ],
      "source": [
        "plt.subplots(figsize=(8,6))\n",
        "sns.countplot(x='Language', data=df, hue='Gender')\n",
        "plt.xticks(rotation=90)\n",
        "plt.legend(loc='upper right')"
      ]
    },
    {
      "cell_type": "markdown",
      "id": "bb208ed8",
      "metadata": {
        "id": "bb208ed8"
      },
      "source": [
        "Most of the females speak either English of German or both. Most of the other languages spoken by males."
      ]
    },
    {
      "cell_type": "code",
      "execution_count": null,
      "id": "ef619bce",
      "metadata": {
        "id": "ef619bce",
        "outputId": "3182b12b-8a29-4146-8aaf-a93077d39dd0"
      },
      "outputs": [
        {
          "data": {
            "text/plain": [
              "<AxesSubplot:xlabel='Gender', ylabel='Total_Experience'>"
            ]
          },
          "execution_count": 135,
          "metadata": {},
          "output_type": "execute_result"
        },
        {
          "data": {
            "image/png": "[encoded data removed]",
            "text/plain": [
              "<Figure size 432x288 with 1 Axes>"
            ]
          },
          "metadata": {
            "needs_background": "light"
          },
          "output_type": "display_data"
        }
      ],
      "source": [
        "sns.boxplot(x='Gender', y='Total_Experience', data=df)"
      ]
    },
    {
      "cell_type": "markdown",
      "id": "a6b7aa26",
      "metadata": {
        "id": "a6b7aa26"
      },
      "source": [
        "Median total experience of male candidates is more than the median total experience of female candidates"
      ]
    },
    {
      "cell_type": "code",
      "execution_count": null,
      "id": "20a7a6fc",
      "metadata": {
        "id": "20a7a6fc",
        "outputId": "fa77e544-d0fb-469e-aeff-ecf46b14adc6"
      },
      "outputs": [
        {
          "data": {
            "text/plain": [
              "Seniority_Level\n",
              "C-Level                132500.000000\n",
              "CTO                    200000.000000\n",
              "Director               100000.000000\n",
              "Entry level             54179.130000\n",
              "Head                   100761.363636\n",
              "Intern                  27500.000000\n",
              "Junior                  50820.048193\n",
              "Key                     57000.000000\n",
              "Lead                    88722.710843\n",
              "Manager                 89200.000000\n",
              "Middle                  58661.964674\n",
              "No level                57500.000000\n",
              "Principal               95000.000000\n",
              "Self employed          200000.000000\n",
              "Senior                  75571.563604\n",
              "Student                 12000.000000\n",
              "VP                     100000.000000\n",
              "Work Center Manager     68000.000000\n",
              "Working Student         15360.000000\n",
              "Name: Annual_Salary, dtype: float64"
            ]
          },
          "execution_count": 137,
          "metadata": {},
          "output_type": "execute_result"
        }
      ],
      "source": [
        "df_SL_AS = df.groupby('Seniority_Level')['Annual_Salary'].mean()\n",
        "df_SL_AS"
      ]
    },
    {
      "cell_type": "code",
      "execution_count": null,
      "id": "741419e9",
      "metadata": {
        "id": "741419e9",
        "outputId": "022f1ddc-0957-4348-92bc-7c527a72d4e8"
      },
      "outputs": [
        {
          "data": {
            "text/plain": [
              "<AxesSubplot:xlabel='Seniority_Level'>"
            ]
          },
          "execution_count": 140,
          "metadata": {},
          "output_type": "execute_result"
        },
        {
          "data": {
            "image/png": "[encoded data removed]",
            "text/plain": [
              "<Figure size 1080x360 with 1 Axes>"
            ]
          },
          "metadata": {
            "needs_background": "light"
          },
          "output_type": "display_data"
        }
      ],
      "source": [
        "plt.subplots(figsize=(15,5))\n",
        "df_SL_AS.plot.bar()"
      ]
    },
    {
      "cell_type": "markdown",
      "id": "4c252c6c",
      "metadata": {
        "id": "4c252c6c"
      },
      "source": [
        "Mean salary of CTO, Self Employed is highest at 200000 while that of Student if lowest"
      ]
    },
    {
      "cell_type": "markdown",
      "id": "7bff7835",
      "metadata": {
        "id": "7bff7835"
      },
      "source": [
        "#### Multivariate Analysis"
      ]
    },
    {
      "cell_type": "code",
      "execution_count": null,
      "id": "1175bf92",
      "metadata": {
        "id": "1175bf92",
        "outputId": "4fa4a713-f1a1-46ba-cd28-a15e629b0736"
      },
      "outputs": [
        {
          "data": {
            "text/plain": [
              "<AxesSubplot:xlabel='Total_Experience', ylabel='Employment_Status'>"
            ]
          },
          "execution_count": 148,
          "metadata": {},
          "output_type": "execute_result"
        },
        {
          "data": {
            "image/png": "[encoded data removed]",
            "text/plain": [
              "<Figure size 720x432 with 1 Axes>"
            ]
          },
          "metadata": {
            "needs_background": "light"
          },
          "output_type": "display_data"
        }
      ],
      "source": [
        "plt.subplots(figsize=(10,6))\n",
        "sns.boxplot(y='Employment_Status', x='Total_Experience', hue='Gender',data=df)"
      ]
    },
    {
      "cell_type": "markdown",
      "id": "9ef2ee4c",
      "metadata": {
        "id": "9ef2ee4c"
      },
      "source": [
        "Most of the Founders and Self-employed freelancers are Male and thier median totoal experience is comparatively more. Median totoal experience of female part time emplpyees is higher compared to males."
      ]
    },
    {
      "cell_type": "code",
      "execution_count": null,
      "id": "5859eaf5",
      "metadata": {
        "id": "5859eaf5",
        "outputId": "828a3ddf-c516-4fac-a089-93aa15341912"
      },
      "outputs": [
        {
          "data": {
            "text/plain": [
              "Index(['Timestamp', 'Age', 'Gender', 'City', 'Position', 'Seniority_Level',\n",
              "       'Main_Technology', 'Annual_Salary', 'Bonus', 'Vacation_Days',\n",
              "       'Employment_Status', 'Contract_Duration', 'Language', 'Company_Type',\n",
              "       'Total_Experience', 'Germany_Experience'],\n",
              "      dtype='object')"
            ]
          },
          "execution_count": 136,
          "metadata": {},
          "output_type": "execute_result"
        }
      ],
      "source": [
        "df.columns"
      ]
    },
    {
      "cell_type": "code",
      "execution_count": null,
      "id": "5903e5ab",
      "metadata": {
        "id": "5903e5ab",
        "outputId": "bcf46a1e-7373-4fc9-a10a-198b3f7a6b63"
      },
      "outputs": [
        {
          "data": {
            "text/plain": [
              "<AxesSubplot:xlabel='Age', ylabel='Language'>"
            ]
          },
          "execution_count": 156,
          "metadata": {},
          "output_type": "execute_result"
        },
        {
          "data": {
            "image/png": "[encoded data removed]",
            "text/plain": [
              "<Figure size 864x576 with 1 Axes>"
            ]
          },
          "metadata": {
            "needs_background": "light"
          },
          "output_type": "display_data"
        }
      ],
      "source": [
        "plt.subplots(figsize=(12,8))\n",
        "sns.boxplot(x='Age', y = 'Language', hue='Gender',data=df)"
      ]
    },
    {
      "cell_type": "code",
      "execution_count": null,
      "id": "ca0d4266",
      "metadata": {
        "id": "ca0d4266",
        "outputId": "31728849-7d7a-4476-d728-d3cd055da42d"
      },
      "outputs": [
        {
          "data": {
            "text/plain": [
              "<seaborn.axisgrid.FacetGrid at 0x1e2e71978b0>"
            ]
          },
          "execution_count": 181,
          "metadata": {},
          "output_type": "execute_result"
        },
        {
          "data": {
            "image/png": "[encoded data removed]",
            "text/plain": [
              "<Figure size 722.125x1512 with 19 Axes>"
            ]
          },
          "metadata": {
            "needs_background": "light"
          },
          "output_type": "display_data"
        }
      ],
      "source": [
        "g = sns.FacetGrid(df, col='Seniority_Level', hue='Gender',col_wrap=3, height=3)\n",
        "g = g.map(plt.scatter, 'Age', 'Total_Experience')\n",
        "g.add_legend()"
      ]
    },
    {
      "cell_type": "markdown",
      "id": "76faea2c",
      "metadata": {
        "id": "76faea2c"
      },
      "source": [
        "We see a good presence of female employess at Middle level between the age of 20 and 40 with around 0-20 years of expereince. \n",
        "More male employees at lead and head level."
      ]
    },
    {
      "cell_type": "markdown",
      "id": "a06e6764",
      "metadata": {
        "id": "a06e6764"
      },
      "source": [
        "### Enjoy your learning journey"
      ]
    }
  ],
  "metadata": {
    "kernelspec": {
      "display_name": "Python 3",
      "language": "python",
      "name": "python3"
    },
    "language_info": {
      "codemirror_mode": {
        "name": "ipython",
        "version": 3
      },
      "file_extension": ".py",
      "mimetype": "text/x-python",
      "name": "python",
      "nbconvert_exporter": "python",
      "pygments_lexer": "ipython3",
      "version": "3.8.8"
    },
    "colab": {
      "name": "Salary Survey EDA.ipynb",
      "provenance": []
    }
  },
  "nbformat": 4,
  "nbformat_minor": 5
}